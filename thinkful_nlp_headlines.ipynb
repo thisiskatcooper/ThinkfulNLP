{
 "cells": [
  {
   "cell_type": "code",
   "execution_count": 88,
   "metadata": {
    "slideshow": {
     "slide_type": "skip"
    }
   },
   "outputs": [],
   "source": [
    "from collections import Counter\n",
    "import nltk\n",
    "import spacy\n",
    "import re\n",
    "import pandas as pd\n",
    "import sklearn\n",
    "import numpy as np\n",
    "import markovify\n",
    "from sklearn.metrics import accuracy_score, precision_score, recall_score, f1_score, fbeta_score, classification_report\n",
    "from sklearn.metrics import roc_curve, precision_recall_curve, roc_auc_score\n",
    "from sklearn.metrics import confusion_matrix\n",
    "from sklearn.utils.multiclass import unique_labels\n",
    "from sklearn.model_selection import cross_val_score\n",
    "from sklearn.metrics.pairwise import cosine_similarity\n",
    "import warnings\n",
    "warnings.filterwarnings(\"ignore\")\n",
    "\n",
    "%matplotlib inline"
   ]
  },
  {
   "cell_type": "markdown",
   "metadata": {
    "slideshow": {
     "slide_type": "slide"
    }
   },
   "source": [
    "# Natural Language Processing\n",
    "\n",
    "# Predictions, Text Generation, and Chat Bot Creation"
   ]
  },
  {
   "cell_type": "markdown",
   "metadata": {
    "slideshow": {
     "slide_type": "subslide"
    }
   },
   "source": [
    "### **Project Background Information:**\n",
    "\n",
    "As the years progress, we consume and are exposed to a vast amount of news and information online. 2020 seems to have highlighted how quickly news can spread- for better or worse. Using **3,950 scraped headlines** from valid and satirical news sources including The Onion, The New York Times, and others. **Bag of Words**, **1-gram**, **2-gram**, **1/2-gram**, **3-gram**, **Tf-idf**, and **Tf-idf/2-gram** were used for language modeling and compared using **logistic regression**, **random forest**, and **gradient boosting models** to predict fake and real headlines. \n",
    "\n",
    "Additionally, **text generation** was accomplished by implementing **Markov Chain models** with both fake and real headlines. A **chatbot** was also created using fake headlines."
   ]
  },
  {
   "cell_type": "markdown",
   "metadata": {
    "slideshow": {
     "slide_type": "slide"
    }
   },
   "source": [
    "# News Headline Predictions\n",
    "\n",
    "## Valid & Satirical Sources"
   ]
  },
  {
   "cell_type": "markdown",
   "metadata": {
    "slideshow": {
     "slide_type": "subslide"
    }
   },
   "source": [
    "## Research Question: \n",
    "\n",
    "*Can we create a model that can accurately predict whether a news source is valid based on the headline alone?*\n",
    "\n",
    "## Target Audience & Impact:\n",
    "\n",
    "It could be argued that there are not many people who wouldn't be positively impacted by having the ability to more accurately and swiftly identify real and valid sources of information.\n",
    "\n",
    "## Business Interests:\n",
    "\n",
    "Fact checking, real-time analysis of events, etc."
   ]
  },
  {
   "cell_type": "markdown",
   "metadata": {
    "slideshow": {
     "slide_type": "slide"
    }
   },
   "source": [
    "## Examine Data"
   ]
  },
  {
   "cell_type": "markdown",
   "metadata": {
    "slideshow": {
     "slide_type": "subslide"
    }
   },
   "source": [
    "**Note:** Valid and satirical news sources were scraped, headlines isolated, cleaned, and used to create data frames in notebooks which were designated for these purposes. \n",
    "\n",
    "During the cleaning process, extra spaces and new lines were removed, as were non-headlines (such as \"Follow Us,\" names of sections, ads, etc.) and the infrequent instances in which real news broke through the satire."
   ]
  },
  {
   "cell_type": "code",
   "execution_count": 89,
   "metadata": {
    "slideshow": {
     "slide_type": "subslide"
    }
   },
   "outputs": [
    {
     "data": {
      "text/html": [
       "<div>\n",
       "<style scoped>\n",
       "    .dataframe tbody tr th:only-of-type {\n",
       "        vertical-align: middle;\n",
       "    }\n",
       "\n",
       "    .dataframe tbody tr th {\n",
       "        vertical-align: top;\n",
       "    }\n",
       "\n",
       "    .dataframe thead th {\n",
       "        text-align: right;\n",
       "    }\n",
       "</style>\n",
       "<table border=\"1\" class=\"dataframe\">\n",
       "  <thead>\n",
       "    <tr style=\"text-align: right;\">\n",
       "      <th></th>\n",
       "      <th>Headlines</th>\n",
       "      <th>Valid Source</th>\n",
       "      <th>Source</th>\n",
       "    </tr>\n",
       "  </thead>\n",
       "  <tbody>\n",
       "    <tr>\n",
       "      <th>0</th>\n",
       "      <td>Chris Wallace: Trump \"bears the primary respon...</td>\n",
       "      <td>Yes</td>\n",
       "      <td>Axios</td>\n",
       "    </tr>\n",
       "    <tr>\n",
       "      <th>1</th>\n",
       "      <td>Biden to expand voter outreach with in-person ...</td>\n",
       "      <td>Yes</td>\n",
       "      <td>Axios</td>\n",
       "    </tr>\n",
       "    <tr>\n",
       "      <th>2</th>\n",
       "      <td>Doomsday has arrived for tens of thousands of ...</td>\n",
       "      <td>Yes</td>\n",
       "      <td>Axios</td>\n",
       "    </tr>\n",
       "    <tr>\n",
       "      <th>3</th>\n",
       "      <td>Pfizer CEO: COVID-19 vaccine development is \"m...</td>\n",
       "      <td>Yes</td>\n",
       "      <td>Axios</td>\n",
       "    </tr>\n",
       "    <tr>\n",
       "      <th>4</th>\n",
       "      <td>Anne Helen Petersen on America's burnout epidemic</td>\n",
       "      <td>Yes</td>\n",
       "      <td>Axios</td>\n",
       "    </tr>\n",
       "  </tbody>\n",
       "</table>\n",
       "</div>"
      ],
      "text/plain": [
       "                                           Headlines Valid Source Source\n",
       "0  Chris Wallace: Trump \"bears the primary respon...          Yes  Axios\n",
       "1  Biden to expand voter outreach with in-person ...          Yes  Axios\n",
       "2  Doomsday has arrived for tens of thousands of ...          Yes  Axios\n",
       "3  Pfizer CEO: COVID-19 vaccine development is \"m...          Yes  Axios\n",
       "4  Anne Helen Petersen on America's burnout epidemic          Yes  Axios"
      ]
     },
     "execution_count": 89,
     "metadata": {},
     "output_type": "execute_result"
    }
   ],
   "source": [
    "# import and read csv file\n",
    "\n",
    "news_headlines = pd.read_csv(r'/Users/thisiskatcooper/Desktop/news_headlines.csv')\n",
    "\n",
    "news_headlines.head()"
   ]
  },
  {
   "cell_type": "code",
   "execution_count": 90,
   "metadata": {
    "slideshow": {
     "slide_type": "subslide"
    }
   },
   "outputs": [
    {
     "data": {
      "text/plain": [
       "(3957, 3)"
      ]
     },
     "execution_count": 90,
     "metadata": {},
     "output_type": "execute_result"
    }
   ],
   "source": [
    "news_headlines.shape"
   ]
  },
  {
   "cell_type": "code",
   "execution_count": 91,
   "metadata": {
    "slideshow": {
     "slide_type": "subslide"
    }
   },
   "outputs": [],
   "source": [
    "# drop duplicate headlines\n",
    "\n",
    "news_headlines = news_headlines.drop_duplicates(subset=['Headlines'])"
   ]
  },
  {
   "cell_type": "code",
   "execution_count": 92,
   "metadata": {
    "slideshow": {
     "slide_type": "subslide"
    }
   },
   "outputs": [
    {
     "data": {
      "text/plain": [
       "(3950, 3)"
      ]
     },
     "execution_count": 92,
     "metadata": {},
     "output_type": "execute_result"
    }
   ],
   "source": [
    "news_headlines.shape"
   ]
  },
  {
   "cell_type": "markdown",
   "metadata": {
    "slideshow": {
     "slide_type": "subslide"
    }
   },
   "source": [
    "**Data frame contains 3,950 headlines and 3 columns.**"
   ]
  },
  {
   "cell_type": "code",
   "execution_count": 93,
   "metadata": {
    "slideshow": {
     "slide_type": "subslide"
    }
   },
   "outputs": [
    {
     "data": {
      "text/plain": [
       "No     1975\n",
       "Yes    1975\n",
       "Name: Valid Source, dtype: int64"
      ]
     },
     "execution_count": 93,
     "metadata": {},
     "output_type": "execute_result"
    }
   ],
   "source": [
    "news_headlines['Valid Source'].value_counts()"
   ]
  },
  {
   "cell_type": "markdown",
   "metadata": {
    "slideshow": {
     "slide_type": "subslide"
    }
   },
   "source": [
    "Data frame contains 1,975 headlines with valid sources (Yes) and 1,975 headlines with satirical sources (No)."
   ]
  },
  {
   "cell_type": "code",
   "execution_count": 94,
   "metadata": {
    "slideshow": {
     "slide_type": "subslide"
    }
   },
   "outputs": [
    {
     "data": {
      "text/plain": [
       "The Onion                  1064\n",
       "The Guardian                530\n",
       "The Washington Post         431\n",
       "Squib                       401\n",
       "Spoof                       231\n",
       "The New York Times          210\n",
       "NPR                         207\n",
       "BBC                         201\n",
       "The Chicago Tribune          87\n",
       "True North                   87\n",
       "Politico                     74\n",
       "Beaverton                    66\n",
       "Axios                        65\n",
       "The Atlantic                 61\n",
       "TIME                         58\n",
       "The Economist                51\n",
       "Waterford Whispers News      41\n",
       "Click Hole                   24\n",
       "National Report              18\n",
       "Weekly World News            17\n",
       "News Mutiny                  17\n",
       "News Biscuit                  9\n",
       "Name: Source, dtype: int64"
      ]
     },
     "execution_count": 94,
     "metadata": {},
     "output_type": "execute_result"
    }
   ],
   "source": [
    "# examine distribution of news sources\n",
    "\n",
    "news_headlines['Source'].value_counts()"
   ]
  },
  {
   "cell_type": "markdown",
   "metadata": {
    "slideshow": {
     "slide_type": "subslide"
    }
   },
   "source": [
    "**Valid sources** include The Guardian, The Washington Post, The New York Times, NPR, BBC, The Chicago Tribune, Politico, Axios, The Atlantic, and The Economist.\n",
    "\n",
    "**Satirical sources** inclue The Onion, Squib, Spoof, True North, Beaverton, Waterford Whispers News, Click Hole, National Report, Weekly World News, News Mutiny, and News Biscuit.\n",
    "\n",
    "**Note:** Satirical news sources are not updated as often as the valid news sources, for fairly obvious reasons (including budget/staff). The Onion proved to be the most updated satirical news website of those selected for this project. Each of the valid and satirical news sources is based in the U.K., U.S.A., or Canada. The headlines are also limited to one language, English, primarily because of time constraints!"
   ]
  },
  {
   "cell_type": "code",
   "execution_count": 95,
   "metadata": {
    "slideshow": {
     "slide_type": "skip"
    }
   },
   "outputs": [
    {
     "data": {
      "text/plain": [
       "Headlines       0\n",
       "Valid Source    0\n",
       "Source          0\n",
       "dtype: int64"
      ]
     },
     "execution_count": 95,
     "metadata": {},
     "output_type": "execute_result"
    }
   ],
   "source": [
    "# check for null values\n",
    "\n",
    "news_headlines.isnull().sum()"
   ]
  },
  {
   "cell_type": "code",
   "execution_count": 96,
   "metadata": {
    "slideshow": {
     "slide_type": "subslide"
    }
   },
   "outputs": [
    {
     "data": {
      "text/html": [
       "<div>\n",
       "<style scoped>\n",
       "    .dataframe tbody tr th:only-of-type {\n",
       "        vertical-align: middle;\n",
       "    }\n",
       "\n",
       "    .dataframe tbody tr th {\n",
       "        vertical-align: top;\n",
       "    }\n",
       "\n",
       "    .dataframe thead th {\n",
       "        text-align: right;\n",
       "    }\n",
       "</style>\n",
       "<table border=\"1\" class=\"dataframe\">\n",
       "  <thead>\n",
       "    <tr style=\"text-align: right;\">\n",
       "      <th></th>\n",
       "      <th>Headlines</th>\n",
       "      <th>Valid Source</th>\n",
       "      <th>Source</th>\n",
       "    </tr>\n",
       "  </thead>\n",
       "  <tbody>\n",
       "    <tr>\n",
       "      <th>0</th>\n",
       "      <td>Chris Wallace: Trump \"bears the primary respon...</td>\n",
       "      <td>1</td>\n",
       "      <td>Axios</td>\n",
       "    </tr>\n",
       "    <tr>\n",
       "      <th>1</th>\n",
       "      <td>Biden to expand voter outreach with in-person ...</td>\n",
       "      <td>1</td>\n",
       "      <td>Axios</td>\n",
       "    </tr>\n",
       "    <tr>\n",
       "      <th>2</th>\n",
       "      <td>Doomsday has arrived for tens of thousands of ...</td>\n",
       "      <td>1</td>\n",
       "      <td>Axios</td>\n",
       "    </tr>\n",
       "    <tr>\n",
       "      <th>3</th>\n",
       "      <td>Pfizer CEO: COVID-19 vaccine development is \"m...</td>\n",
       "      <td>1</td>\n",
       "      <td>Axios</td>\n",
       "    </tr>\n",
       "    <tr>\n",
       "      <th>4</th>\n",
       "      <td>Anne Helen Petersen on America's burnout epidemic</td>\n",
       "      <td>1</td>\n",
       "      <td>Axios</td>\n",
       "    </tr>\n",
       "  </tbody>\n",
       "</table>\n",
       "</div>"
      ],
      "text/plain": [
       "                                           Headlines  Valid Source Source\n",
       "0  Chris Wallace: Trump \"bears the primary respon...             1  Axios\n",
       "1  Biden to expand voter outreach with in-person ...             1  Axios\n",
       "2  Doomsday has arrived for tens of thousands of ...             1  Axios\n",
       "3  Pfizer CEO: COVID-19 vaccine development is \"m...             1  Axios\n",
       "4  Anne Helen Petersen on America's burnout epidemic             1  Axios"
      ]
     },
     "execution_count": 96,
     "metadata": {},
     "output_type": "execute_result"
    }
   ],
   "source": [
    "# convert 'Valid Source' to zeroes and ones using map\n",
    "\n",
    "news_headlines['Valid Source'] = news_headlines['Valid Source'].map({'Yes': 1, 'No': 0})\n",
    "\n",
    "news_headlines.head()"
   ]
  },
  {
   "cell_type": "markdown",
   "metadata": {
    "slideshow": {
     "slide_type": "subslide"
    }
   },
   "source": [
    "Converted Valid Source column to binary. Yes = 1, No = 0.\n",
    "\n",
    "**Target = valid/real headline source.**"
   ]
  },
  {
   "cell_type": "code",
   "execution_count": 97,
   "metadata": {
    "slideshow": {
     "slide_type": "skip"
    }
   },
   "outputs": [
    {
     "data": {
      "text/plain": [
       "Headlines       0\n",
       "Valid Source    0\n",
       "Source          0\n",
       "dtype: int64"
      ]
     },
     "execution_count": 97,
     "metadata": {},
     "output_type": "execute_result"
    }
   ],
   "source": [
    "# check for null values after conversion\n",
    "\n",
    "news_headlines.isnull().sum()"
   ]
  },
  {
   "cell_type": "markdown",
   "metadata": {
    "slideshow": {
     "slide_type": "slide"
    }
   },
   "source": [
    "# Feature Engineering"
   ]
  },
  {
   "cell_type": "markdown",
   "metadata": {
    "slideshow": {
     "slide_type": "slide"
    }
   },
   "source": [
    "# Bag of Words"
   ]
  },
  {
   "cell_type": "code",
   "execution_count": 98,
   "metadata": {
    "slideshow": {
     "slide_type": "subslide"
    }
   },
   "outputs": [
    {
     "data": {
      "text/html": [
       "<div>\n",
       "<style scoped>\n",
       "    .dataframe tbody tr th:only-of-type {\n",
       "        vertical-align: middle;\n",
       "    }\n",
       "\n",
       "    .dataframe tbody tr th {\n",
       "        vertical-align: top;\n",
       "    }\n",
       "\n",
       "    .dataframe thead th {\n",
       "        text-align: right;\n",
       "    }\n",
       "</style>\n",
       "<table border=\"1\" class=\"dataframe\">\n",
       "  <thead>\n",
       "    <tr style=\"text-align: right;\">\n",
       "      <th></th>\n",
       "      <th>000</th>\n",
       "      <th>10</th>\n",
       "      <th>100</th>\n",
       "      <th>100b</th>\n",
       "      <th>100th</th>\n",
       "      <th>101</th>\n",
       "      <th>10m</th>\n",
       "      <th>11</th>\n",
       "      <th>12</th>\n",
       "      <th>120</th>\n",
       "      <th>...</th>\n",
       "      <th>zone</th>\n",
       "      <th>zoo</th>\n",
       "      <th>zoologists</th>\n",
       "      <th>zoom</th>\n",
       "      <th>zoos</th>\n",
       "      <th>zucchini</th>\n",
       "      <th>zuckerberg</th>\n",
       "      <th>zverev</th>\n",
       "      <th>Headlines</th>\n",
       "      <th>Valid Source</th>\n",
       "    </tr>\n",
       "  </thead>\n",
       "  <tbody>\n",
       "    <tr>\n",
       "      <th>0</th>\n",
       "      <td>0.0</td>\n",
       "      <td>0.0</td>\n",
       "      <td>0.0</td>\n",
       "      <td>0.0</td>\n",
       "      <td>0.0</td>\n",
       "      <td>0.0</td>\n",
       "      <td>0.0</td>\n",
       "      <td>0.0</td>\n",
       "      <td>0.0</td>\n",
       "      <td>0.0</td>\n",
       "      <td>...</td>\n",
       "      <td>0.0</td>\n",
       "      <td>0.0</td>\n",
       "      <td>0.0</td>\n",
       "      <td>0.0</td>\n",
       "      <td>0.0</td>\n",
       "      <td>0.0</td>\n",
       "      <td>0.0</td>\n",
       "      <td>0.0</td>\n",
       "      <td>Chris Wallace: Trump \"bears the primary respon...</td>\n",
       "      <td>1.0</td>\n",
       "    </tr>\n",
       "    <tr>\n",
       "      <th>1</th>\n",
       "      <td>0.0</td>\n",
       "      <td>0.0</td>\n",
       "      <td>0.0</td>\n",
       "      <td>0.0</td>\n",
       "      <td>0.0</td>\n",
       "      <td>0.0</td>\n",
       "      <td>0.0</td>\n",
       "      <td>0.0</td>\n",
       "      <td>0.0</td>\n",
       "      <td>0.0</td>\n",
       "      <td>...</td>\n",
       "      <td>0.0</td>\n",
       "      <td>0.0</td>\n",
       "      <td>0.0</td>\n",
       "      <td>0.0</td>\n",
       "      <td>0.0</td>\n",
       "      <td>0.0</td>\n",
       "      <td>0.0</td>\n",
       "      <td>0.0</td>\n",
       "      <td>Biden to expand voter outreach with in-person ...</td>\n",
       "      <td>1.0</td>\n",
       "    </tr>\n",
       "    <tr>\n",
       "      <th>2</th>\n",
       "      <td>0.0</td>\n",
       "      <td>0.0</td>\n",
       "      <td>0.0</td>\n",
       "      <td>0.0</td>\n",
       "      <td>0.0</td>\n",
       "      <td>0.0</td>\n",
       "      <td>0.0</td>\n",
       "      <td>0.0</td>\n",
       "      <td>0.0</td>\n",
       "      <td>0.0</td>\n",
       "      <td>...</td>\n",
       "      <td>0.0</td>\n",
       "      <td>0.0</td>\n",
       "      <td>0.0</td>\n",
       "      <td>0.0</td>\n",
       "      <td>0.0</td>\n",
       "      <td>0.0</td>\n",
       "      <td>0.0</td>\n",
       "      <td>0.0</td>\n",
       "      <td>Doomsday has arrived for tens of thousands of ...</td>\n",
       "      <td>1.0</td>\n",
       "    </tr>\n",
       "    <tr>\n",
       "      <th>3</th>\n",
       "      <td>0.0</td>\n",
       "      <td>0.0</td>\n",
       "      <td>0.0</td>\n",
       "      <td>0.0</td>\n",
       "      <td>0.0</td>\n",
       "      <td>0.0</td>\n",
       "      <td>0.0</td>\n",
       "      <td>0.0</td>\n",
       "      <td>0.0</td>\n",
       "      <td>0.0</td>\n",
       "      <td>...</td>\n",
       "      <td>0.0</td>\n",
       "      <td>0.0</td>\n",
       "      <td>0.0</td>\n",
       "      <td>0.0</td>\n",
       "      <td>0.0</td>\n",
       "      <td>0.0</td>\n",
       "      <td>0.0</td>\n",
       "      <td>0.0</td>\n",
       "      <td>Pfizer CEO: COVID-19 vaccine development is \"m...</td>\n",
       "      <td>1.0</td>\n",
       "    </tr>\n",
       "    <tr>\n",
       "      <th>4</th>\n",
       "      <td>0.0</td>\n",
       "      <td>0.0</td>\n",
       "      <td>0.0</td>\n",
       "      <td>0.0</td>\n",
       "      <td>0.0</td>\n",
       "      <td>0.0</td>\n",
       "      <td>0.0</td>\n",
       "      <td>0.0</td>\n",
       "      <td>0.0</td>\n",
       "      <td>0.0</td>\n",
       "      <td>...</td>\n",
       "      <td>0.0</td>\n",
       "      <td>0.0</td>\n",
       "      <td>0.0</td>\n",
       "      <td>0.0</td>\n",
       "      <td>0.0</td>\n",
       "      <td>0.0</td>\n",
       "      <td>0.0</td>\n",
       "      <td>0.0</td>\n",
       "      <td>Anne Helen Petersen on America's burnout epidemic</td>\n",
       "      <td>1.0</td>\n",
       "    </tr>\n",
       "  </tbody>\n",
       "</table>\n",
       "<p>5 rows × 9380 columns</p>\n",
       "</div>"
      ],
      "text/plain": [
       "   000   10  100  100b  100th  101  10m   11   12  120  ...  zone  zoo  \\\n",
       "0  0.0  0.0  0.0   0.0    0.0  0.0  0.0  0.0  0.0  0.0  ...   0.0  0.0   \n",
       "1  0.0  0.0  0.0   0.0    0.0  0.0  0.0  0.0  0.0  0.0  ...   0.0  0.0   \n",
       "2  0.0  0.0  0.0   0.0    0.0  0.0  0.0  0.0  0.0  0.0  ...   0.0  0.0   \n",
       "3  0.0  0.0  0.0   0.0    0.0  0.0  0.0  0.0  0.0  0.0  ...   0.0  0.0   \n",
       "4  0.0  0.0  0.0   0.0    0.0  0.0  0.0  0.0  0.0  0.0  ...   0.0  0.0   \n",
       "\n",
       "   zoologists  zoom  zoos  zucchini  zuckerberg  zverev  \\\n",
       "0         0.0   0.0   0.0       0.0         0.0     0.0   \n",
       "1         0.0   0.0   0.0       0.0         0.0     0.0   \n",
       "2         0.0   0.0   0.0       0.0         0.0     0.0   \n",
       "3         0.0   0.0   0.0       0.0         0.0     0.0   \n",
       "4         0.0   0.0   0.0       0.0         0.0     0.0   \n",
       "\n",
       "                                           Headlines  Valid Source  \n",
       "0  Chris Wallace: Trump \"bears the primary respon...           1.0  \n",
       "1  Biden to expand voter outreach with in-person ...           1.0  \n",
       "2  Doomsday has arrived for tens of thousands of ...           1.0  \n",
       "3  Pfizer CEO: COVID-19 vaccine development is \"m...           1.0  \n",
       "4  Anne Helen Petersen on America's burnout epidemic           1.0  \n",
       "\n",
       "[5 rows x 9380 columns]"
      ]
     },
     "execution_count": 98,
     "metadata": {},
     "output_type": "execute_result"
    }
   ],
   "source": [
    "# vectorize using bag of words\n",
    "\n",
    "from sklearn.feature_extraction.text import CountVectorizer\n",
    "\n",
    "vectorizer = CountVectorizer(analyzer='word')\n",
    "X = vectorizer.fit_transform(news_headlines['Headlines'])\n",
    "bow_df = pd.DataFrame(X.toarray(), columns=vectorizer.get_feature_names())\n",
    "bow_headlines = pd.concat([bow_df, news_headlines[['Headlines', 'Valid Source']]], axis=1)\n",
    "\n",
    "bow_headlines.head()"
   ]
  },
  {
   "cell_type": "code",
   "execution_count": 99,
   "metadata": {
    "slideshow": {
     "slide_type": "skip"
    }
   },
   "outputs": [
    {
     "data": {
      "text/plain": [
       "(3950, 9378)"
      ]
     },
     "execution_count": 99,
     "metadata": {},
     "output_type": "execute_result"
    }
   ],
   "source": [
    "bow_df.shape"
   ]
  },
  {
   "cell_type": "code",
   "execution_count": 100,
   "metadata": {
    "slideshow": {
     "slide_type": "skip"
    }
   },
   "outputs": [
    {
     "data": {
      "text/plain": [
       "000           0\n",
       "10            0\n",
       "100           0\n",
       "100b          0\n",
       "100th         0\n",
       "             ..\n",
       "zoom          0\n",
       "zoos          0\n",
       "zucchini      0\n",
       "zuckerberg    0\n",
       "zverev        0\n",
       "Length: 9378, dtype: int64"
      ]
     },
     "execution_count": 100,
     "metadata": {},
     "output_type": "execute_result"
    }
   ],
   "source": [
    "# check for null values\n",
    "\n",
    "bow_df.isnull().sum()"
   ]
  },
  {
   "cell_type": "code",
   "execution_count": 101,
   "metadata": {
    "slideshow": {
     "slide_type": "skip"
    }
   },
   "outputs": [
    {
     "data": {
      "text/plain": [
       "(3950, 9378)"
      ]
     },
     "execution_count": 101,
     "metadata": {},
     "output_type": "execute_result"
    }
   ],
   "source": [
    "bow_df = bow_df.dropna()\n",
    "\n",
    "bow_df.shape"
   ]
  },
  {
   "cell_type": "code",
   "execution_count": 102,
   "metadata": {
    "slideshow": {
     "slide_type": "skip"
    }
   },
   "outputs": [
    {
     "data": {
      "text/plain": [
       "(3952, 9380)"
      ]
     },
     "execution_count": 102,
     "metadata": {},
     "output_type": "execute_result"
    }
   ],
   "source": [
    "bow_headlines.shape"
   ]
  },
  {
   "cell_type": "code",
   "execution_count": 103,
   "metadata": {
    "slideshow": {
     "slide_type": "skip"
    }
   },
   "outputs": [
    {
     "data": {
      "text/plain": [
       "000             2\n",
       "10              2\n",
       "100             2\n",
       "100b            2\n",
       "100th           2\n",
       "               ..\n",
       "zucchini        2\n",
       "zuckerberg      2\n",
       "zverev          2\n",
       "Headlines       2\n",
       "Valid Source    2\n",
       "Length: 9380, dtype: int64"
      ]
     },
     "execution_count": 103,
     "metadata": {},
     "output_type": "execute_result"
    }
   ],
   "source": [
    "# check for null values\n",
    "\n",
    "bow_headlines.isnull().sum()"
   ]
  },
  {
   "cell_type": "code",
   "execution_count": 104,
   "metadata": {
    "slideshow": {
     "slide_type": "skip"
    }
   },
   "outputs": [
    {
     "data": {
      "text/plain": [
       "(3948, 9380)"
      ]
     },
     "execution_count": 104,
     "metadata": {},
     "output_type": "execute_result"
    }
   ],
   "source": [
    "bow_headlines = bow_headlines.dropna()\n",
    "\n",
    "bow_headlines.shape"
   ]
  },
  {
   "cell_type": "markdown",
   "metadata": {
    "slideshow": {
     "slide_type": "subslide"
    }
   },
   "source": [
    "### Baseline Prediction - Bag of Words"
   ]
  },
  {
   "cell_type": "code",
   "execution_count": 105,
   "metadata": {
    "slideshow": {
     "slide_type": "subslide"
    }
   },
   "outputs": [
    {
     "data": {
      "text/plain": [
       "0.5025316455696203"
      ]
     },
     "execution_count": 105,
     "metadata": {},
     "output_type": "execute_result"
    }
   ],
   "source": [
    "from sklearn.dummy import DummyClassifier\n",
    "from sklearn.model_selection import train_test_split\n",
    "\n",
    "# split\n",
    "\n",
    "Y = bow_headlines['Valid Source']\n",
    "X = np.array(bow_headlines.drop(['Headlines','Valid Source'], 1))\n",
    "\n",
    "X_train, X_test, y_train, y_test = train_test_split(X, Y, test_size=0.2, random_state=123)\n",
    "\n",
    "baseline_prediction = DummyClassifier(strategy='most_frequent')\n",
    "baseline_prediction.fit(X, Y)\n",
    "baseline_prediction.score(X_test, y_test)"
   ]
  },
  {
   "cell_type": "code",
   "execution_count": 106,
   "metadata": {
    "slideshow": {
     "slide_type": "subslide"
    }
   },
   "outputs": [
    {
     "name": "stdout",
     "output_type": "stream",
     "text": [
      "----------------------Baseline Prediction Report - Bag of Words----------------------\n",
      "\n",
      "                 precision    recall  f1-score   support\n",
      "\n",
      " Fake Headlines       0.00      0.00      0.00       393\n",
      "Valid Headlines       0.50      1.00      0.67       397\n",
      "\n",
      "       accuracy                           0.50       790\n",
      "      macro avg       0.25      0.50      0.33       790\n",
      "   weighted avg       0.25      0.50      0.34       790\n",
      "\n",
      "Training set score: 0.499683343888537\n",
      "Test set score: 0.5025316455696203\n"
     ]
    }
   ],
   "source": [
    "print('----------------------Baseline Prediction Report - Bag of Words----------------------\\n')\n",
    "print(classification_report(y_test, baseline_prediction.predict(X_test), target_names=['Fake Headlines', 'Valid Headlines']))\n",
    "print('Training set score:', baseline_prediction.score(X_train, y_train))\n",
    "print('Test set score:', baseline_prediction.score(X_test, y_test))"
   ]
  },
  {
   "cell_type": "markdown",
   "metadata": {
    "slideshow": {
     "slide_type": "subslide"
    }
   },
   "source": [
    "### Logistic Regression Model & Scores - Bag of Words"
   ]
  },
  {
   "cell_type": "code",
   "execution_count": 107,
   "metadata": {
    "slideshow": {
     "slide_type": "skip"
    }
   },
   "outputs": [],
   "source": [
    "from sklearn.linear_model import LogisticRegression\n",
    "from sklearn.ensemble import RandomForestClassifier, GradientBoostingClassifier"
   ]
  },
  {
   "cell_type": "code",
   "execution_count": 108,
   "metadata": {
    "slideshow": {
     "slide_type": "skip"
    }
   },
   "outputs": [],
   "source": [
    "# create function to plot confusion matrix\n",
    "\n",
    "import matplotlib.pyplot as plt\n",
    "import itertools\n",
    "\n",
    "def plot_confusion_matrix(cm,\n",
    "                          target_names,\n",
    "                          title='Confusion Matrix',\n",
    "                          cmap=None,\n",
    "                          normalize=True):\n",
    "    \n",
    "    accuracy = np.trace(cm) / float(np.sum(cm))\n",
    "    misclass = 1 - accuracy\n",
    "\n",
    "    if cmap is None:\n",
    "        cmap = plt.get_cmap('Blues')\n",
    "\n",
    "    plt.figure(figsize=(8, 6))\n",
    "    plt.imshow(cm, interpolation='nearest', cmap=cmap)\n",
    "    plt.title(title)\n",
    "    plt.colorbar()\n",
    "\n",
    "    if target_names is not None:\n",
    "        tick_marks = np.arange(len(target_names))\n",
    "        plt.xticks(tick_marks, target_names, rotation=45)\n",
    "        plt.yticks(tick_marks, target_names)\n",
    "\n",
    "    if normalize:\n",
    "        cm = cm.astype('float') / cm.sum(axis=1)[:, np.newaxis]\n",
    "\n",
    "\n",
    "    thresh = cm.max() / 1.5 if normalize else cm.max() / 2\n",
    "    for i, j in itertools.product(range(cm.shape[0]), range(cm.shape[1])):\n",
    "        if normalize:\n",
    "            plt.text(j, i, \"{:0.4f}\".format(cm[i, j]),\n",
    "                     horizontalalignment=\"center\",\n",
    "                     color=\"white\" if cm[i, j] > thresh else \"black\")\n",
    "        else:\n",
    "            plt.text(j, i, \"{:,}\".format(cm[i, j]),\n",
    "                     horizontalalignment=\"center\",\n",
    "                     color=\"white\" if cm[i, j] > thresh else \"black\")\n",
    "\n",
    "\n",
    "    plt.tight_layout()\n",
    "    plt.ylabel('True label')\n",
    "    plt.xlabel('Predicted label\\naccuracy={:0.4f}; misclass={:0.4f}'.format(accuracy, misclass))\n",
    "    plt.show()"
   ]
  },
  {
   "cell_type": "code",
   "execution_count": 109,
   "metadata": {
    "slideshow": {
     "slide_type": "subslide"
    }
   },
   "outputs": [],
   "source": [
    "# initial setup\n",
    "\n",
    "lr = LogisticRegression()\n",
    "lr.fit(X_train, y_train)\n",
    "lr_predictions = lr.predict(X_test)\n",
    "lr_confusion = confusion_matrix(y_test, lr_predictions, labels=[1, 0])"
   ]
  },
  {
   "cell_type": "code",
   "execution_count": 110,
   "metadata": {
    "slideshow": {
     "slide_type": "skip"
    }
   },
   "outputs": [
    {
     "data": {
      "text/plain": [
       "1.0    397\n",
       "0.0    393\n",
       "Name: Valid Source, dtype: int64"
      ]
     },
     "execution_count": 110,
     "metadata": {},
     "output_type": "execute_result"
    }
   ],
   "source": [
    "# confirm values - confusion matrix\n",
    "\n",
    "y_test.value_counts()"
   ]
  },
  {
   "cell_type": "code",
   "execution_count": 111,
   "metadata": {
    "slideshow": {
     "slide_type": "subslide"
    }
   },
   "outputs": [
    {
     "data": {
      "image/png": "[encoded data removed]",
      "text/plain": [
       "<Figure size 576x432 with 2 Axes>"
      ]
     },
     "metadata": {
      "needs_background": "light"
     },
     "output_type": "display_data"
    }
   ],
   "source": [
    "# plot the confusion matrix\n",
    "\n",
    "plot_confusion_matrix(cm=lr_confusion, target_names = ['Valid Headlines', 'Fake Headlines'], title = 'Confusion Matrix - Logistic Regression', normalize=False)"
   ]
  },
  {
   "cell_type": "code",
   "execution_count": 112,
   "metadata": {
    "slideshow": {
     "slide_type": "subslide"
    }
   },
   "outputs": [
    {
     "name": "stdout",
     "output_type": "stream",
     "text": [
      "----------------------Logistic Regression Report - Bag of Words----------------------\n",
      "\n",
      "                 precision    recall  f1-score   support\n",
      "\n",
      " Fake Headlines       0.75      0.80      0.77       393\n",
      "Valid Headlines       0.79      0.73      0.76       397\n",
      "\n",
      "       accuracy                           0.77       790\n",
      "      macro avg       0.77      0.77      0.77       790\n",
      "   weighted avg       0.77      0.77      0.77       790\n",
      "\n",
      "Training set score: 0.981000633312223\n",
      "Test set score: 0.7658227848101266\n"
     ]
    }
   ],
   "source": [
    "# print report - fake & valid headlines - logistic regression\n",
    "\n",
    "print('----------------------Logistic Regression Report - Bag of Words----------------------\\n')\n",
    "print(classification_report(y_test, lr_predictions, target_names=['Fake Headlines', 'Valid Headlines']))\n",
    "print('Training set score:', lr.score(X_train, y_train))\n",
    "print('Test set score:', lr.score(X_test, y_test))"
   ]
  },
  {
   "cell_type": "code",
   "execution_count": 231,
   "metadata": {
    "slideshow": {
     "slide_type": "skip"
    }
   },
   "outputs": [
    {
     "data": {
      "text/html": [
       "<div>\n",
       "<style scoped>\n",
       "    .dataframe tbody tr th:only-of-type {\n",
       "        vertical-align: middle;\n",
       "    }\n",
       "\n",
       "    .dataframe tbody tr th {\n",
       "        vertical-align: top;\n",
       "    }\n",
       "\n",
       "    .dataframe thead th {\n",
       "        text-align: right;\n",
       "    }\n",
       "</style>\n",
       "<table border=\"1\" class=\"dataframe\">\n",
       "  <thead>\n",
       "    <tr style=\"text-align: right;\">\n",
       "      <th></th>\n",
       "      <th>F. E. Method</th>\n",
       "      <th>Model Name</th>\n",
       "      <th>Training Set Score</th>\n",
       "      <th>Test Set Score</th>\n",
       "      <th>Precision - Fake Headlines</th>\n",
       "      <th>Precision - Valid Headlines</th>\n",
       "      <th>Recall - Fake Headlines</th>\n",
       "      <th>Recall - Valid Headlines</th>\n",
       "      <th>F1-Score - Fake Headlines</th>\n",
       "      <th>F1-Score - Valid Headlines</th>\n",
       "    </tr>\n",
       "  </thead>\n",
       "  <tbody>\n",
       "    <tr>\n",
       "      <th>0</th>\n",
       "      <td>Bag of Words</td>\n",
       "      <td>Logistic Regression</td>\n",
       "      <td>0.98100</td>\n",
       "      <td>0.76582</td>\n",
       "      <td>0.75</td>\n",
       "      <td>0.79</td>\n",
       "      <td>0.80</td>\n",
       "      <td>0.73</td>\n",
       "      <td>0.77</td>\n",
       "      <td>0.76</td>\n",
       "    </tr>\n",
       "  </tbody>\n",
       "</table>\n",
       "</div>"
      ],
      "text/plain": [
       "   F. E. Method           Model Name Training Set Score Test Set Score  \\\n",
       "0  Bag of Words  Logistic Regression            0.98100        0.76582   \n",
       "\n",
       "  Precision - Fake Headlines Precision - Valid Headlines  \\\n",
       "0                       0.75                        0.79   \n",
       "\n",
       "  Recall - Fake Headlines Recall - Valid Headlines F1-Score - Fake Headlines  \\\n",
       "0                    0.80                     0.73                      0.77   \n",
       "\n",
       "  F1-Score - Valid Headlines  \n",
       "0                       0.76  "
      ]
     },
     "execution_count": 231,
     "metadata": {},
     "output_type": "execute_result"
    }
   ],
   "source": [
    "# create a dataframe to compare stats\n",
    "\n",
    "stats_data = {'F. E. Method' : ['Bag of Words'],\n",
    "              'Model Name' : ['Logistic Regression'],\n",
    "              'Training Set Score' : ['0.98100'],\n",
    "              'Test Set Score' : ['0.76582'],\n",
    "              'Precision - Fake Headlines' : ['0.75'],\n",
    "              'Precision - Valid Headlines' : ['0.79'],\n",
    "              'Recall - Fake Headlines' : ['0.80'],\n",
    "              'Recall - Valid Headlines' : ['0.73'],\n",
    "              'F1-Score - Fake Headlines' : ['0.77'],\n",
    "              'F1-Score - Valid Headlines' : ['0.76']\n",
    "    \n",
    "}\n",
    "\n",
    "stats_df = pd.DataFrame (stats_data, columns = ['F. E. Method', 'Model Name', 'Training Set Score', 'Test Set Score',\n",
    "                                               'Precision - Fake Headlines', 'Precision - Valid Headlines',\n",
    "                                               'Recall - Fake Headlines', 'Recall - Valid Headlines', \n",
    "                                               'F1-Score - Fake Headlines', 'F1-Score - Valid Headlines'])\n",
    "\n",
    "stats_df.head()"
   ]
  },
  {
   "cell_type": "markdown",
   "metadata": {
    "slideshow": {
     "slide_type": "subslide"
    }
   },
   "source": [
    "### Random Forest Model & Scores - Bag of Words"
   ]
  },
  {
   "cell_type": "code",
   "execution_count": 114,
   "metadata": {
    "slideshow": {
     "slide_type": "subslide"
    }
   },
   "outputs": [],
   "source": [
    "# initial setup\n",
    "\n",
    "rfc = RandomForestClassifier(random_state=10)\n",
    "rfc.fit(X_train, y_train)\n",
    "rfc_predictions = rfc.predict(X_test)\n",
    "rfc_confusion = confusion_matrix(y_test, rfc_predictions, labels=[1, 0])"
   ]
  },
  {
   "cell_type": "code",
   "execution_count": 115,
   "metadata": {
    "slideshow": {
     "slide_type": "subslide"
    }
   },
   "outputs": [
    {
     "data": {
      "image/png": "[encoded data removed]",
      "text/plain": [
       "<Figure size 576x432 with 2 Axes>"
      ]
     },
     "metadata": {
      "needs_background": "light"
     },
     "output_type": "display_data"
    }
   ],
   "source": [
    "# plot the confusion matrix\n",
    "\n",
    "plot_confusion_matrix(cm=rfc_confusion, target_names = ['Valid Headlines', 'Fake Headlines'], title = 'Confusion Matrix - RFC', normalize=False)"
   ]
  },
  {
   "cell_type": "code",
   "execution_count": 116,
   "metadata": {
    "slideshow": {
     "slide_type": "subslide"
    }
   },
   "outputs": [
    {
     "name": "stdout",
     "output_type": "stream",
     "text": [
      "----------------------Random Forest Report - Bag of Words----------------------\n",
      "\n",
      "                precision    recall  f1-score   support\n",
      "\n",
      " Fake Headline       0.71      0.79      0.75       393\n",
      "Valid Headline       0.77      0.67      0.72       397\n",
      "\n",
      "      accuracy                           0.73       790\n",
      "     macro avg       0.74      0.73      0.73       790\n",
      "  weighted avg       0.74      0.73      0.73       790\n",
      "\n",
      "Training set score: 1.0\n",
      "Test set score: 0.7316455696202532\n"
     ]
    }
   ],
   "source": [
    "# print report - fake & valid headlines - rfc\n",
    "\n",
    "print('----------------------Random Forest Report - Bag of Words----------------------\\n')\n",
    "print(classification_report(y_test, rfc_predictions, target_names=['Fake Headline', 'Valid Headline']))\n",
    "print('Training set score:', rfc.score(X_train, y_train))\n",
    "print('Test set score:', rfc.score(X_test, y_test))"
   ]
  },
  {
   "cell_type": "code",
   "execution_count": 232,
   "metadata": {
    "slideshow": {
     "slide_type": "skip"
    }
   },
   "outputs": [],
   "source": [
    "# update stats\n",
    "\n",
    "stats_df = stats_df.append(pd.Series(['Bag of Words','Random Forest',\n",
    "              '1.0', '0.73164', '0.71', '0.77', '0.79', '0.67', '0.75', \n",
    "                '0.72'], index=stats_df.columns), ignore_index=True)"
   ]
  },
  {
   "cell_type": "code",
   "execution_count": 233,
   "metadata": {
    "slideshow": {
     "slide_type": "skip"
    }
   },
   "outputs": [
    {
     "data": {
      "text/html": [
       "<div>\n",
       "<style scoped>\n",
       "    .dataframe tbody tr th:only-of-type {\n",
       "        vertical-align: middle;\n",
       "    }\n",
       "\n",
       "    .dataframe tbody tr th {\n",
       "        vertical-align: top;\n",
       "    }\n",
       "\n",
       "    .dataframe thead th {\n",
       "        text-align: right;\n",
       "    }\n",
       "</style>\n",
       "<table border=\"1\" class=\"dataframe\">\n",
       "  <thead>\n",
       "    <tr style=\"text-align: right;\">\n",
       "      <th></th>\n",
       "      <th>F. E. Method</th>\n",
       "      <th>Model Name</th>\n",
       "      <th>Training Set Score</th>\n",
       "      <th>Test Set Score</th>\n",
       "      <th>Precision - Fake Headlines</th>\n",
       "      <th>Precision - Valid Headlines</th>\n",
       "      <th>Recall - Fake Headlines</th>\n",
       "      <th>Recall - Valid Headlines</th>\n",
       "      <th>F1-Score - Fake Headlines</th>\n",
       "      <th>F1-Score - Valid Headlines</th>\n",
       "    </tr>\n",
       "  </thead>\n",
       "  <tbody>\n",
       "    <tr>\n",
       "      <th>0</th>\n",
       "      <td>Bag of Words</td>\n",
       "      <td>Logistic Regression</td>\n",
       "      <td>0.98100</td>\n",
       "      <td>0.76582</td>\n",
       "      <td>0.75</td>\n",
       "      <td>0.79</td>\n",
       "      <td>0.80</td>\n",
       "      <td>0.73</td>\n",
       "      <td>0.77</td>\n",
       "      <td>0.76</td>\n",
       "    </tr>\n",
       "    <tr>\n",
       "      <th>1</th>\n",
       "      <td>Bag of Words</td>\n",
       "      <td>Random Forest</td>\n",
       "      <td>1.0</td>\n",
       "      <td>0.73164</td>\n",
       "      <td>0.71</td>\n",
       "      <td>0.77</td>\n",
       "      <td>0.79</td>\n",
       "      <td>0.67</td>\n",
       "      <td>0.75</td>\n",
       "      <td>0.72</td>\n",
       "    </tr>\n",
       "  </tbody>\n",
       "</table>\n",
       "</div>"
      ],
      "text/plain": [
       "   F. E. Method           Model Name Training Set Score Test Set Score  \\\n",
       "0  Bag of Words  Logistic Regression            0.98100        0.76582   \n",
       "1  Bag of Words        Random Forest                1.0        0.73164   \n",
       "\n",
       "  Precision - Fake Headlines Precision - Valid Headlines  \\\n",
       "0                       0.75                        0.79   \n",
       "1                       0.71                        0.77   \n",
       "\n",
       "  Recall - Fake Headlines Recall - Valid Headlines F1-Score - Fake Headlines  \\\n",
       "0                    0.80                     0.73                      0.77   \n",
       "1                    0.79                     0.67                      0.75   \n",
       "\n",
       "  F1-Score - Valid Headlines  \n",
       "0                       0.76  \n",
       "1                       0.72  "
      ]
     },
     "execution_count": 233,
     "metadata": {},
     "output_type": "execute_result"
    }
   ],
   "source": [
    "stats_df.head()"
   ]
  },
  {
   "cell_type": "markdown",
   "metadata": {
    "slideshow": {
     "slide_type": "subslide"
    }
   },
   "source": [
    "### Gradient-Boosting Model & Scores - Bag of Words"
   ]
  },
  {
   "cell_type": "code",
   "execution_count": 119,
   "metadata": {
    "slideshow": {
     "slide_type": "subslide"
    }
   },
   "outputs": [],
   "source": [
    "# initial setup\n",
    "\n",
    "gbc = GradientBoostingClassifier()\n",
    "gbc.fit(X_train, y_train)\n",
    "gbc_predictions = gbc.predict(X_test)\n",
    "gbc_confusion = confusion_matrix(y_test, gbc_predictions, labels=[1, 0])"
   ]
  },
  {
   "cell_type": "code",
   "execution_count": 120,
   "metadata": {
    "slideshow": {
     "slide_type": "subslide"
    }
   },
   "outputs": [
    {
     "data": {
      "image/png": "[encoded data removed]",
      "text/plain": [
       "<Figure size 576x432 with 2 Axes>"
      ]
     },
     "metadata": {
      "needs_background": "light"
     },
     "output_type": "display_data"
    }
   ],
   "source": [
    "plot_confusion_matrix(cm=gbc_confusion, target_names = ['Valid Headline', 'Fake Headline'], title = 'Confusion Matrix - Gradient-Boosting', normalize=False)"
   ]
  },
  {
   "cell_type": "code",
   "execution_count": 121,
   "metadata": {
    "slideshow": {
     "slide_type": "subslide"
    }
   },
   "outputs": [
    {
     "name": "stdout",
     "output_type": "stream",
     "text": [
      "----------------------Gradient-Boosting Report - Bag of Words----------------------\n",
      "\n",
      "                precision    recall  f1-score   support\n",
      "\n",
      " Fake Headline       0.68      0.75      0.72       393\n",
      "Valid Headline       0.73      0.65      0.69       397\n",
      "\n",
      "      accuracy                           0.70       790\n",
      "     macro avg       0.71      0.70      0.70       790\n",
      "  weighted avg       0.71      0.70      0.70       790\n",
      "\n",
      "Training set score: 0.752691576947435\n",
      "Test set score: 0.7037974683544304\n"
     ]
    }
   ],
   "source": [
    "# print report - fake & valid headlines - gradient-boosting\n",
    "\n",
    "print('----------------------Gradient-Boosting Report - Bag of Words----------------------\\n')\n",
    "print(classification_report(y_test, gbc_predictions, target_names=['Fake Headline', 'Valid Headline']))\n",
    "print('Training set score:', gbc.score(X_train, y_train))\n",
    "print('Test set score:', gbc.score(X_test, y_test))"
   ]
  },
  {
   "cell_type": "code",
   "execution_count": 234,
   "metadata": {
    "slideshow": {
     "slide_type": "skip"
    }
   },
   "outputs": [],
   "source": [
    "# update stats\n",
    "\n",
    "stats_df = stats_df.append(pd.Series(['Bag of Words','Gradient Boosting',\n",
    "              '0.75269', '0.70379', '0.68', '0.73', '0.76', '0.65', '0.72', \n",
    "                '0.69'], index=stats_df.columns), ignore_index=True)"
   ]
  },
  {
   "cell_type": "code",
   "execution_count": 235,
   "metadata": {
    "slideshow": {
     "slide_type": "skip"
    }
   },
   "outputs": [
    {
     "data": {
      "text/html": [
       "<div>\n",
       "<style scoped>\n",
       "    .dataframe tbody tr th:only-of-type {\n",
       "        vertical-align: middle;\n",
       "    }\n",
       "\n",
       "    .dataframe tbody tr th {\n",
       "        vertical-align: top;\n",
       "    }\n",
       "\n",
       "    .dataframe thead th {\n",
       "        text-align: right;\n",
       "    }\n",
       "</style>\n",
       "<table border=\"1\" class=\"dataframe\">\n",
       "  <thead>\n",
       "    <tr style=\"text-align: right;\">\n",
       "      <th></th>\n",
       "      <th>F. E. Method</th>\n",
       "      <th>Model Name</th>\n",
       "      <th>Training Set Score</th>\n",
       "      <th>Test Set Score</th>\n",
       "      <th>Precision - Fake Headlines</th>\n",
       "      <th>Precision - Valid Headlines</th>\n",
       "      <th>Recall - Fake Headlines</th>\n",
       "      <th>Recall - Valid Headlines</th>\n",
       "      <th>F1-Score - Fake Headlines</th>\n",
       "      <th>F1-Score - Valid Headlines</th>\n",
       "    </tr>\n",
       "  </thead>\n",
       "  <tbody>\n",
       "    <tr>\n",
       "      <th>0</th>\n",
       "      <td>Bag of Words</td>\n",
       "      <td>Logistic Regression</td>\n",
       "      <td>0.98100</td>\n",
       "      <td>0.76582</td>\n",
       "      <td>0.75</td>\n",
       "      <td>0.79</td>\n",
       "      <td>0.80</td>\n",
       "      <td>0.73</td>\n",
       "      <td>0.77</td>\n",
       "      <td>0.76</td>\n",
       "    </tr>\n",
       "    <tr>\n",
       "      <th>1</th>\n",
       "      <td>Bag of Words</td>\n",
       "      <td>Random Forest</td>\n",
       "      <td>1.0</td>\n",
       "      <td>0.73164</td>\n",
       "      <td>0.71</td>\n",
       "      <td>0.77</td>\n",
       "      <td>0.79</td>\n",
       "      <td>0.67</td>\n",
       "      <td>0.75</td>\n",
       "      <td>0.72</td>\n",
       "    </tr>\n",
       "    <tr>\n",
       "      <th>2</th>\n",
       "      <td>Bag of Words</td>\n",
       "      <td>Gradient Boosting</td>\n",
       "      <td>0.75269</td>\n",
       "      <td>0.70379</td>\n",
       "      <td>0.68</td>\n",
       "      <td>0.73</td>\n",
       "      <td>0.76</td>\n",
       "      <td>0.65</td>\n",
       "      <td>0.72</td>\n",
       "      <td>0.69</td>\n",
       "    </tr>\n",
       "  </tbody>\n",
       "</table>\n",
       "</div>"
      ],
      "text/plain": [
       "   F. E. Method           Model Name Training Set Score Test Set Score  \\\n",
       "0  Bag of Words  Logistic Regression            0.98100        0.76582   \n",
       "1  Bag of Words        Random Forest                1.0        0.73164   \n",
       "2  Bag of Words    Gradient Boosting            0.75269        0.70379   \n",
       "\n",
       "  Precision - Fake Headlines Precision - Valid Headlines  \\\n",
       "0                       0.75                        0.79   \n",
       "1                       0.71                        0.77   \n",
       "2                       0.68                        0.73   \n",
       "\n",
       "  Recall - Fake Headlines Recall - Valid Headlines F1-Score - Fake Headlines  \\\n",
       "0                    0.80                     0.73                      0.77   \n",
       "1                    0.79                     0.67                      0.75   \n",
       "2                    0.76                     0.65                      0.72   \n",
       "\n",
       "  F1-Score - Valid Headlines  \n",
       "0                       0.76  \n",
       "1                       0.72  \n",
       "2                       0.69  "
      ]
     },
     "execution_count": 235,
     "metadata": {},
     "output_type": "execute_result"
    }
   ],
   "source": [
    "stats_df.head()"
   ]
  },
  {
   "cell_type": "markdown",
   "metadata": {
    "slideshow": {
     "slide_type": "slide"
    }
   },
   "source": [
    "# 2gram"
   ]
  },
  {
   "cell_type": "code",
   "execution_count": 124,
   "metadata": {
    "slideshow": {
     "slide_type": "subslide"
    }
   },
   "outputs": [
    {
     "data": {
      "text/html": [
       "<div>\n",
       "<style scoped>\n",
       "    .dataframe tbody tr th:only-of-type {\n",
       "        vertical-align: middle;\n",
       "    }\n",
       "\n",
       "    .dataframe tbody tr th {\n",
       "        vertical-align: top;\n",
       "    }\n",
       "\n",
       "    .dataframe thead th {\n",
       "        text-align: right;\n",
       "    }\n",
       "</style>\n",
       "<table border=\"1\" class=\"dataframe\">\n",
       "  <thead>\n",
       "    <tr style=\"text-align: right;\">\n",
       "      <th></th>\n",
       "      <th>000 000</th>\n",
       "      <th>000 amazon</th>\n",
       "      <th>000 americans</th>\n",
       "      <th>000 child</th>\n",
       "      <th>000 coronavirus</th>\n",
       "      <th>000 corpses</th>\n",
       "      <th>000 covid</th>\n",
       "      <th>000 dead</th>\n",
       "      <th>000 employees</th>\n",
       "      <th>000 fans</th>\n",
       "      <th>...</th>\n",
       "      <th>zoom call</th>\n",
       "      <th>zoom camera</th>\n",
       "      <th>zoom class</th>\n",
       "      <th>zoom for</th>\n",
       "      <th>zoom lifted</th>\n",
       "      <th>zoom thanksgiving</th>\n",
       "      <th>zuckerberg announces</th>\n",
       "      <th>zverev in</th>\n",
       "      <th>Headlines</th>\n",
       "      <th>Valid Source</th>\n",
       "    </tr>\n",
       "  </thead>\n",
       "  <tbody>\n",
       "    <tr>\n",
       "      <th>0</th>\n",
       "      <td>0.0</td>\n",
       "      <td>0.0</td>\n",
       "      <td>0.0</td>\n",
       "      <td>0.0</td>\n",
       "      <td>0.0</td>\n",
       "      <td>0.0</td>\n",
       "      <td>0.0</td>\n",
       "      <td>0.0</td>\n",
       "      <td>0.0</td>\n",
       "      <td>0.0</td>\n",
       "      <td>...</td>\n",
       "      <td>0.0</td>\n",
       "      <td>0.0</td>\n",
       "      <td>0.0</td>\n",
       "      <td>0.0</td>\n",
       "      <td>0.0</td>\n",
       "      <td>0.0</td>\n",
       "      <td>0.0</td>\n",
       "      <td>0.0</td>\n",
       "      <td>Chris Wallace: Trump \"bears the primary respon...</td>\n",
       "      <td>1.0</td>\n",
       "    </tr>\n",
       "    <tr>\n",
       "      <th>1</th>\n",
       "      <td>0.0</td>\n",
       "      <td>0.0</td>\n",
       "      <td>0.0</td>\n",
       "      <td>0.0</td>\n",
       "      <td>0.0</td>\n",
       "      <td>0.0</td>\n",
       "      <td>0.0</td>\n",
       "      <td>0.0</td>\n",
       "      <td>0.0</td>\n",
       "      <td>0.0</td>\n",
       "      <td>...</td>\n",
       "      <td>0.0</td>\n",
       "      <td>0.0</td>\n",
       "      <td>0.0</td>\n",
       "      <td>0.0</td>\n",
       "      <td>0.0</td>\n",
       "      <td>0.0</td>\n",
       "      <td>0.0</td>\n",
       "      <td>0.0</td>\n",
       "      <td>Biden to expand voter outreach with in-person ...</td>\n",
       "      <td>1.0</td>\n",
       "    </tr>\n",
       "    <tr>\n",
       "      <th>2</th>\n",
       "      <td>0.0</td>\n",
       "      <td>0.0</td>\n",
       "      <td>0.0</td>\n",
       "      <td>0.0</td>\n",
       "      <td>0.0</td>\n",
       "      <td>0.0</td>\n",
       "      <td>0.0</td>\n",
       "      <td>0.0</td>\n",
       "      <td>0.0</td>\n",
       "      <td>0.0</td>\n",
       "      <td>...</td>\n",
       "      <td>0.0</td>\n",
       "      <td>0.0</td>\n",
       "      <td>0.0</td>\n",
       "      <td>0.0</td>\n",
       "      <td>0.0</td>\n",
       "      <td>0.0</td>\n",
       "      <td>0.0</td>\n",
       "      <td>0.0</td>\n",
       "      <td>Doomsday has arrived for tens of thousands of ...</td>\n",
       "      <td>1.0</td>\n",
       "    </tr>\n",
       "    <tr>\n",
       "      <th>3</th>\n",
       "      <td>0.0</td>\n",
       "      <td>0.0</td>\n",
       "      <td>0.0</td>\n",
       "      <td>0.0</td>\n",
       "      <td>0.0</td>\n",
       "      <td>0.0</td>\n",
       "      <td>0.0</td>\n",
       "      <td>0.0</td>\n",
       "      <td>0.0</td>\n",
       "      <td>0.0</td>\n",
       "      <td>...</td>\n",
       "      <td>0.0</td>\n",
       "      <td>0.0</td>\n",
       "      <td>0.0</td>\n",
       "      <td>0.0</td>\n",
       "      <td>0.0</td>\n",
       "      <td>0.0</td>\n",
       "      <td>0.0</td>\n",
       "      <td>0.0</td>\n",
       "      <td>Pfizer CEO: COVID-19 vaccine development is \"m...</td>\n",
       "      <td>1.0</td>\n",
       "    </tr>\n",
       "    <tr>\n",
       "      <th>4</th>\n",
       "      <td>0.0</td>\n",
       "      <td>0.0</td>\n",
       "      <td>0.0</td>\n",
       "      <td>0.0</td>\n",
       "      <td>0.0</td>\n",
       "      <td>0.0</td>\n",
       "      <td>0.0</td>\n",
       "      <td>0.0</td>\n",
       "      <td>0.0</td>\n",
       "      <td>0.0</td>\n",
       "      <td>...</td>\n",
       "      <td>0.0</td>\n",
       "      <td>0.0</td>\n",
       "      <td>0.0</td>\n",
       "      <td>0.0</td>\n",
       "      <td>0.0</td>\n",
       "      <td>0.0</td>\n",
       "      <td>0.0</td>\n",
       "      <td>0.0</td>\n",
       "      <td>Anne Helen Petersen on America's burnout epidemic</td>\n",
       "      <td>1.0</td>\n",
       "    </tr>\n",
       "  </tbody>\n",
       "</table>\n",
       "<p>5 rows × 30569 columns</p>\n",
       "</div>"
      ],
      "text/plain": [
       "   000 000  000 amazon  000 americans  000 child  000 coronavirus  \\\n",
       "0      0.0         0.0            0.0        0.0              0.0   \n",
       "1      0.0         0.0            0.0        0.0              0.0   \n",
       "2      0.0         0.0            0.0        0.0              0.0   \n",
       "3      0.0         0.0            0.0        0.0              0.0   \n",
       "4      0.0         0.0            0.0        0.0              0.0   \n",
       "\n",
       "   000 corpses  000 covid  000 dead  000 employees  000 fans  ...  zoom call  \\\n",
       "0          0.0        0.0       0.0            0.0       0.0  ...        0.0   \n",
       "1          0.0        0.0       0.0            0.0       0.0  ...        0.0   \n",
       "2          0.0        0.0       0.0            0.0       0.0  ...        0.0   \n",
       "3          0.0        0.0       0.0            0.0       0.0  ...        0.0   \n",
       "4          0.0        0.0       0.0            0.0       0.0  ...        0.0   \n",
       "\n",
       "   zoom camera  zoom class  zoom for  zoom lifted  zoom thanksgiving  \\\n",
       "0          0.0         0.0       0.0          0.0                0.0   \n",
       "1          0.0         0.0       0.0          0.0                0.0   \n",
       "2          0.0         0.0       0.0          0.0                0.0   \n",
       "3          0.0         0.0       0.0          0.0                0.0   \n",
       "4          0.0         0.0       0.0          0.0                0.0   \n",
       "\n",
       "   zuckerberg announces  zverev in  \\\n",
       "0                   0.0        0.0   \n",
       "1                   0.0        0.0   \n",
       "2                   0.0        0.0   \n",
       "3                   0.0        0.0   \n",
       "4                   0.0        0.0   \n",
       "\n",
       "                                           Headlines  Valid Source  \n",
       "0  Chris Wallace: Trump \"bears the primary respon...           1.0  \n",
       "1  Biden to expand voter outreach with in-person ...           1.0  \n",
       "2  Doomsday has arrived for tens of thousands of ...           1.0  \n",
       "3  Pfizer CEO: COVID-19 vaccine development is \"m...           1.0  \n",
       "4  Anne Helen Petersen on America's burnout epidemic           1.0  \n",
       "\n",
       "[5 rows x 30569 columns]"
      ]
     },
     "execution_count": 124,
     "metadata": {},
     "output_type": "execute_result"
    }
   ],
   "source": [
    "vectorizer = CountVectorizer(analyzer='word', ngram_range=(2,2))\n",
    "X = vectorizer.fit_transform(news_headlines['Headlines'])\n",
    "bow_df = pd.DataFrame(X.toarray(), columns=vectorizer.get_feature_names())\n",
    "two_gram_headlines = pd.concat([bow_df, news_headlines[['Headlines', 'Valid Source']]], axis=1)\n",
    "two_gram_headlines.head()"
   ]
  },
  {
   "cell_type": "code",
   "execution_count": 125,
   "metadata": {
    "slideshow": {
     "slide_type": "skip"
    }
   },
   "outputs": [
    {
     "data": {
      "text/plain": [
       "000 000                 2\n",
       "000 amazon              2\n",
       "000 americans           2\n",
       "000 child               2\n",
       "000 coronavirus         2\n",
       "                       ..\n",
       "zoom thanksgiving       2\n",
       "zuckerberg announces    2\n",
       "zverev in               2\n",
       "Headlines               2\n",
       "Valid Source            2\n",
       "Length: 30569, dtype: int64"
      ]
     },
     "execution_count": 125,
     "metadata": {},
     "output_type": "execute_result"
    }
   ],
   "source": [
    "two_gram_headlines.isnull().sum()"
   ]
  },
  {
   "cell_type": "code",
   "execution_count": 126,
   "metadata": {
    "slideshow": {
     "slide_type": "skip"
    }
   },
   "outputs": [],
   "source": [
    "two_gram_headlines.dropna(inplace=True)"
   ]
  },
  {
   "cell_type": "code",
   "execution_count": 127,
   "metadata": {
    "slideshow": {
     "slide_type": "skip"
    }
   },
   "outputs": [
    {
     "data": {
      "text/plain": [
       "000 000                 0\n",
       "000 amazon              0\n",
       "000 americans           0\n",
       "000 child               0\n",
       "000 coronavirus         0\n",
       "                       ..\n",
       "zoom thanksgiving       0\n",
       "zuckerberg announces    0\n",
       "zverev in               0\n",
       "Headlines               0\n",
       "Valid Source            0\n",
       "Length: 30569, dtype: int64"
      ]
     },
     "execution_count": 127,
     "metadata": {},
     "output_type": "execute_result"
    }
   ],
   "source": [
    "two_gram_headlines.isnull().sum()"
   ]
  },
  {
   "cell_type": "code",
   "execution_count": 128,
   "metadata": {
    "slideshow": {
     "slide_type": "subslide"
    }
   },
   "outputs": [],
   "source": [
    "# split\n",
    "\n",
    "Y = two_gram_headlines['Valid Source']\n",
    "X = np.array(two_gram_headlines.drop(['Headlines','Valid Source'], 1))\n",
    "\n",
    "X_train, X_test, y_train, y_test = train_test_split(X, Y, test_size=0.2, random_state=123)"
   ]
  },
  {
   "cell_type": "markdown",
   "metadata": {
    "slideshow": {
     "slide_type": "subslide"
    }
   },
   "source": [
    "### Logistic Regression Model & Scores - 2gram"
   ]
  },
  {
   "cell_type": "code",
   "execution_count": 129,
   "metadata": {
    "slideshow": {
     "slide_type": "subslide"
    }
   },
   "outputs": [],
   "source": [
    "# initial setup\n",
    "\n",
    "lr = LogisticRegression()\n",
    "lr.fit(X_train, y_train)\n",
    "lr_predictions = lr.predict(X_test)\n",
    "lr_confusion = confusion_matrix(y_test, lr_predictions, labels=[1,0])"
   ]
  },
  {
   "cell_type": "code",
   "execution_count": 130,
   "metadata": {
    "slideshow": {
     "slide_type": "subslide"
    }
   },
   "outputs": [
    {
     "data": {
      "image/png": "[encoded data removed]",
      "text/plain": [
       "<Figure size 576x432 with 2 Axes>"
      ]
     },
     "metadata": {
      "needs_background": "light"
     },
     "output_type": "display_data"
    }
   ],
   "source": [
    "plot_confusion_matrix(cm=lr_confusion, target_names = ['Valid Headlines', 'Fake Headlines'], title = 'Confusion Matrix - Logistic Regression', normalize=False)"
   ]
  },
  {
   "cell_type": "code",
   "execution_count": 131,
   "metadata": {
    "slideshow": {
     "slide_type": "subslide"
    }
   },
   "outputs": [
    {
     "name": "stdout",
     "output_type": "stream",
     "text": [
      "----------------------Logistic Regression Report - 2grams----------------------\n",
      "\n",
      "                 precision    recall  f1-score   support\n",
      "\n",
      " Fake Headlines       0.66      0.82      0.73       393\n",
      "Valid Headlines       0.76      0.58      0.66       397\n",
      "\n",
      "       accuracy                           0.70       790\n",
      "      macro avg       0.71      0.70      0.69       790\n",
      "   weighted avg       0.71      0.70      0.69       790\n",
      "\n",
      "Training set score: 0.9996833438885371\n",
      "Test set score: 0.6974683544303798\n"
     ]
    }
   ],
   "source": [
    "# print report - fake & valid headlines - logistic regression\n",
    "\n",
    "print('----------------------Logistic Regression Report - 2grams----------------------\\n')\n",
    "print(classification_report(y_test, lr_predictions, target_names=['Fake Headlines', 'Valid Headlines']))\n",
    "print('Training set score:', lr.score(X_train, y_train))\n",
    "print('Test set score:', lr.score(X_test, y_test))"
   ]
  },
  {
   "cell_type": "code",
   "execution_count": 236,
   "metadata": {
    "slideshow": {
     "slide_type": "skip"
    }
   },
   "outputs": [],
   "source": [
    "# update stats\n",
    "\n",
    "stats_df = stats_df.append(pd.Series(['2gram','Logistic Regression',\n",
    "              '0.99968', '0.69747', '0.66', '0.76', '0.82', '0.58', '0.73', \n",
    "                '0.66'], index=stats_df.columns), ignore_index=True)"
   ]
  },
  {
   "cell_type": "code",
   "execution_count": 237,
   "metadata": {
    "slideshow": {
     "slide_type": "skip"
    }
   },
   "outputs": [
    {
     "data": {
      "text/html": [
       "<div>\n",
       "<style scoped>\n",
       "    .dataframe tbody tr th:only-of-type {\n",
       "        vertical-align: middle;\n",
       "    }\n",
       "\n",
       "    .dataframe tbody tr th {\n",
       "        vertical-align: top;\n",
       "    }\n",
       "\n",
       "    .dataframe thead th {\n",
       "        text-align: right;\n",
       "    }\n",
       "</style>\n",
       "<table border=\"1\" class=\"dataframe\">\n",
       "  <thead>\n",
       "    <tr style=\"text-align: right;\">\n",
       "      <th></th>\n",
       "      <th>F. E. Method</th>\n",
       "      <th>Model Name</th>\n",
       "      <th>Training Set Score</th>\n",
       "      <th>Test Set Score</th>\n",
       "      <th>Precision - Fake Headlines</th>\n",
       "      <th>Precision - Valid Headlines</th>\n",
       "      <th>Recall - Fake Headlines</th>\n",
       "      <th>Recall - Valid Headlines</th>\n",
       "      <th>F1-Score - Fake Headlines</th>\n",
       "      <th>F1-Score - Valid Headlines</th>\n",
       "    </tr>\n",
       "  </thead>\n",
       "  <tbody>\n",
       "    <tr>\n",
       "      <th>0</th>\n",
       "      <td>Bag of Words</td>\n",
       "      <td>Logistic Regression</td>\n",
       "      <td>0.98100</td>\n",
       "      <td>0.76582</td>\n",
       "      <td>0.75</td>\n",
       "      <td>0.79</td>\n",
       "      <td>0.80</td>\n",
       "      <td>0.73</td>\n",
       "      <td>0.77</td>\n",
       "      <td>0.76</td>\n",
       "    </tr>\n",
       "    <tr>\n",
       "      <th>1</th>\n",
       "      <td>Bag of Words</td>\n",
       "      <td>Random Forest</td>\n",
       "      <td>1.0</td>\n",
       "      <td>0.73164</td>\n",
       "      <td>0.71</td>\n",
       "      <td>0.77</td>\n",
       "      <td>0.79</td>\n",
       "      <td>0.67</td>\n",
       "      <td>0.75</td>\n",
       "      <td>0.72</td>\n",
       "    </tr>\n",
       "    <tr>\n",
       "      <th>2</th>\n",
       "      <td>Bag of Words</td>\n",
       "      <td>Gradient Boosting</td>\n",
       "      <td>0.75269</td>\n",
       "      <td>0.70379</td>\n",
       "      <td>0.68</td>\n",
       "      <td>0.73</td>\n",
       "      <td>0.76</td>\n",
       "      <td>0.65</td>\n",
       "      <td>0.72</td>\n",
       "      <td>0.69</td>\n",
       "    </tr>\n",
       "    <tr>\n",
       "      <th>3</th>\n",
       "      <td>2gram</td>\n",
       "      <td>Logistic Regression</td>\n",
       "      <td>0.99968</td>\n",
       "      <td>0.69747</td>\n",
       "      <td>0.66</td>\n",
       "      <td>0.76</td>\n",
       "      <td>0.82</td>\n",
       "      <td>0.58</td>\n",
       "      <td>0.73</td>\n",
       "      <td>0.66</td>\n",
       "    </tr>\n",
       "  </tbody>\n",
       "</table>\n",
       "</div>"
      ],
      "text/plain": [
       "   F. E. Method           Model Name Training Set Score Test Set Score  \\\n",
       "0  Bag of Words  Logistic Regression            0.98100        0.76582   \n",
       "1  Bag of Words        Random Forest                1.0        0.73164   \n",
       "2  Bag of Words    Gradient Boosting            0.75269        0.70379   \n",
       "3         2gram  Logistic Regression            0.99968        0.69747   \n",
       "\n",
       "  Precision - Fake Headlines Precision - Valid Headlines  \\\n",
       "0                       0.75                        0.79   \n",
       "1                       0.71                        0.77   \n",
       "2                       0.68                        0.73   \n",
       "3                       0.66                        0.76   \n",
       "\n",
       "  Recall - Fake Headlines Recall - Valid Headlines F1-Score - Fake Headlines  \\\n",
       "0                    0.80                     0.73                      0.77   \n",
       "1                    0.79                     0.67                      0.75   \n",
       "2                    0.76                     0.65                      0.72   \n",
       "3                    0.82                     0.58                      0.73   \n",
       "\n",
       "  F1-Score - Valid Headlines  \n",
       "0                       0.76  \n",
       "1                       0.72  \n",
       "2                       0.69  \n",
       "3                       0.66  "
      ]
     },
     "execution_count": 237,
     "metadata": {},
     "output_type": "execute_result"
    }
   ],
   "source": [
    "stats_df.head()"
   ]
  },
  {
   "cell_type": "markdown",
   "metadata": {
    "slideshow": {
     "slide_type": "subslide"
    }
   },
   "source": [
    "### Random Forest Model & Scores - 2gram"
   ]
  },
  {
   "cell_type": "code",
   "execution_count": 134,
   "metadata": {
    "slideshow": {
     "slide_type": "subslide"
    }
   },
   "outputs": [],
   "source": [
    "# initial setup\n",
    "\n",
    "rfc = RandomForestClassifier()\n",
    "rfc.fit(X_train, y_train)\n",
    "rfc_predictions = rfc.predict(X_test)\n",
    "rfc_confusion = confusion_matrix(y_test, rfc_predictions, labels=[1, 0])"
   ]
  },
  {
   "cell_type": "code",
   "execution_count": 135,
   "metadata": {
    "slideshow": {
     "slide_type": "subslide"
    }
   },
   "outputs": [
    {
     "data": {
      "image/png": "[encoded data removed]",
      "text/plain": [
       "<Figure size 576x432 with 2 Axes>"
      ]
     },
     "metadata": {
      "needs_background": "light"
     },
     "output_type": "display_data"
    }
   ],
   "source": [
    "plot_confusion_matrix(cm=rfc_confusion, target_names = ['Valid Headlines', 'Fake Headlines'], title = 'Confusion Matrix - RFC', normalize=False)"
   ]
  },
  {
   "cell_type": "code",
   "execution_count": 136,
   "metadata": {
    "slideshow": {
     "slide_type": "subslide"
    }
   },
   "outputs": [
    {
     "name": "stdout",
     "output_type": "stream",
     "text": [
      "----------------------Random Forest Report - 2gram----------------------\n",
      "\n",
      "                 precision    recall  f1-score   support\n",
      "\n",
      " Fake Headlines       0.57      0.96      0.71       393\n",
      "Valid Headlines       0.88      0.27      0.41       397\n",
      "\n",
      "       accuracy                           0.61       790\n",
      "      macro avg       0.72      0.62      0.56       790\n",
      "   weighted avg       0.72      0.61      0.56       790\n",
      "\n",
      "Training set score: 0.9987333755541482\n",
      "Test set score: 0.6139240506329114\n"
     ]
    }
   ],
   "source": [
    "# print report - fake & valid headlines - rfc\n",
    "\n",
    "print('----------------------Random Forest Report - 2gram----------------------\\n')\n",
    "print(classification_report(y_test, rfc_predictions, target_names=['Fake Headlines', 'Valid Headlines']))\n",
    "print('Training set score:', rfc.score(X_train, y_train))\n",
    "print('Test set score:', rfc.score(X_test, y_test))"
   ]
  },
  {
   "cell_type": "code",
   "execution_count": 238,
   "metadata": {
    "slideshow": {
     "slide_type": "skip"
    }
   },
   "outputs": [],
   "source": [
    "# update stats\n",
    "\n",
    "stats_df = stats_df.append(pd.Series(['2gram','Random Forest',\n",
    "              '0.99937', '0.61392', '0.57', '0.87', '0.96', '0.27', '0.71', \n",
    "                '0.41'], index=stats_df.columns), ignore_index=True)"
   ]
  },
  {
   "cell_type": "code",
   "execution_count": 239,
   "metadata": {
    "slideshow": {
     "slide_type": "skip"
    }
   },
   "outputs": [
    {
     "data": {
      "text/html": [
       "<div>\n",
       "<style scoped>\n",
       "    .dataframe tbody tr th:only-of-type {\n",
       "        vertical-align: middle;\n",
       "    }\n",
       "\n",
       "    .dataframe tbody tr th {\n",
       "        vertical-align: top;\n",
       "    }\n",
       "\n",
       "    .dataframe thead th {\n",
       "        text-align: right;\n",
       "    }\n",
       "</style>\n",
       "<table border=\"1\" class=\"dataframe\">\n",
       "  <thead>\n",
       "    <tr style=\"text-align: right;\">\n",
       "      <th></th>\n",
       "      <th>F. E. Method</th>\n",
       "      <th>Model Name</th>\n",
       "      <th>Training Set Score</th>\n",
       "      <th>Test Set Score</th>\n",
       "      <th>Precision - Fake Headlines</th>\n",
       "      <th>Precision - Valid Headlines</th>\n",
       "      <th>Recall - Fake Headlines</th>\n",
       "      <th>Recall - Valid Headlines</th>\n",
       "      <th>F1-Score - Fake Headlines</th>\n",
       "      <th>F1-Score - Valid Headlines</th>\n",
       "    </tr>\n",
       "  </thead>\n",
       "  <tbody>\n",
       "    <tr>\n",
       "      <th>0</th>\n",
       "      <td>Bag of Words</td>\n",
       "      <td>Logistic Regression</td>\n",
       "      <td>0.98100</td>\n",
       "      <td>0.76582</td>\n",
       "      <td>0.75</td>\n",
       "      <td>0.79</td>\n",
       "      <td>0.80</td>\n",
       "      <td>0.73</td>\n",
       "      <td>0.77</td>\n",
       "      <td>0.76</td>\n",
       "    </tr>\n",
       "    <tr>\n",
       "      <th>1</th>\n",
       "      <td>Bag of Words</td>\n",
       "      <td>Random Forest</td>\n",
       "      <td>1.0</td>\n",
       "      <td>0.73164</td>\n",
       "      <td>0.71</td>\n",
       "      <td>0.77</td>\n",
       "      <td>0.79</td>\n",
       "      <td>0.67</td>\n",
       "      <td>0.75</td>\n",
       "      <td>0.72</td>\n",
       "    </tr>\n",
       "    <tr>\n",
       "      <th>2</th>\n",
       "      <td>Bag of Words</td>\n",
       "      <td>Gradient Boosting</td>\n",
       "      <td>0.75269</td>\n",
       "      <td>0.70379</td>\n",
       "      <td>0.68</td>\n",
       "      <td>0.73</td>\n",
       "      <td>0.76</td>\n",
       "      <td>0.65</td>\n",
       "      <td>0.72</td>\n",
       "      <td>0.69</td>\n",
       "    </tr>\n",
       "    <tr>\n",
       "      <th>3</th>\n",
       "      <td>2gram</td>\n",
       "      <td>Logistic Regression</td>\n",
       "      <td>0.99968</td>\n",
       "      <td>0.69747</td>\n",
       "      <td>0.66</td>\n",
       "      <td>0.76</td>\n",
       "      <td>0.82</td>\n",
       "      <td>0.58</td>\n",
       "      <td>0.73</td>\n",
       "      <td>0.66</td>\n",
       "    </tr>\n",
       "    <tr>\n",
       "      <th>4</th>\n",
       "      <td>2gram</td>\n",
       "      <td>Random Forest</td>\n",
       "      <td>0.99937</td>\n",
       "      <td>0.61392</td>\n",
       "      <td>0.57</td>\n",
       "      <td>0.87</td>\n",
       "      <td>0.96</td>\n",
       "      <td>0.27</td>\n",
       "      <td>0.71</td>\n",
       "      <td>0.41</td>\n",
       "    </tr>\n",
       "  </tbody>\n",
       "</table>\n",
       "</div>"
      ],
      "text/plain": [
       "   F. E. Method           Model Name Training Set Score Test Set Score  \\\n",
       "0  Bag of Words  Logistic Regression            0.98100        0.76582   \n",
       "1  Bag of Words        Random Forest                1.0        0.73164   \n",
       "2  Bag of Words    Gradient Boosting            0.75269        0.70379   \n",
       "3         2gram  Logistic Regression            0.99968        0.69747   \n",
       "4         2gram        Random Forest            0.99937        0.61392   \n",
       "\n",
       "  Precision - Fake Headlines Precision - Valid Headlines  \\\n",
       "0                       0.75                        0.79   \n",
       "1                       0.71                        0.77   \n",
       "2                       0.68                        0.73   \n",
       "3                       0.66                        0.76   \n",
       "4                       0.57                        0.87   \n",
       "\n",
       "  Recall - Fake Headlines Recall - Valid Headlines F1-Score - Fake Headlines  \\\n",
       "0                    0.80                     0.73                      0.77   \n",
       "1                    0.79                     0.67                      0.75   \n",
       "2                    0.76                     0.65                      0.72   \n",
       "3                    0.82                     0.58                      0.73   \n",
       "4                    0.96                     0.27                      0.71   \n",
       "\n",
       "  F1-Score - Valid Headlines  \n",
       "0                       0.76  \n",
       "1                       0.72  \n",
       "2                       0.69  \n",
       "3                       0.66  \n",
       "4                       0.41  "
      ]
     },
     "execution_count": 239,
     "metadata": {},
     "output_type": "execute_result"
    }
   ],
   "source": [
    "stats_df.head()"
   ]
  },
  {
   "cell_type": "markdown",
   "metadata": {
    "slideshow": {
     "slide_type": "subslide"
    }
   },
   "source": [
    "### Gradient-Boosting Model & Scores - 2gram"
   ]
  },
  {
   "cell_type": "code",
   "execution_count": 139,
   "metadata": {
    "slideshow": {
     "slide_type": "subslide"
    }
   },
   "outputs": [],
   "source": [
    "# initial setup\n",
    "\n",
    "gbc = GradientBoostingClassifier()\n",
    "gbc.fit(X_train, y_train)\n",
    "gbc_predictions = gbc.predict(X_test)\n",
    "gbc_confusion = confusion_matrix(y_test, gbc_predictions, labels=[1,0])"
   ]
  },
  {
   "cell_type": "code",
   "execution_count": 140,
   "metadata": {
    "slideshow": {
     "slide_type": "subslide"
    }
   },
   "outputs": [
    {
     "data": {
      "image/png": "[encoded data removed]",
      "text/plain": [
       "<Figure size 576x432 with 2 Axes>"
      ]
     },
     "metadata": {
      "needs_background": "light"
     },
     "output_type": "display_data"
    }
   ],
   "source": [
    "plot_confusion_matrix(cm=gbc_confusion, target_names = ['Valid Headlines', 'Fake Headlines'], title = 'Confusion Matrix - Gradient-Boosting', normalize=False)"
   ]
  },
  {
   "cell_type": "code",
   "execution_count": 141,
   "metadata": {
    "slideshow": {
     "slide_type": "subslide"
    }
   },
   "outputs": [
    {
     "name": "stdout",
     "output_type": "stream",
     "text": [
      "----------------------Gradient-Boosting Report - 2gram----------------------\n",
      "\n",
      "                 precision    recall  f1-score   support\n",
      "\n",
      " Fake Headlines       0.56      0.95      0.70       393\n",
      "Valid Headlines       0.84      0.25      0.39       397\n",
      "\n",
      "       accuracy                           0.60       790\n",
      "      macro avg       0.70      0.60      0.55       790\n",
      "   weighted avg       0.70      0.60      0.54       790\n",
      "\n",
      "Training set score: 0.6586447118429386\n",
      "Test set score: 0.6\n"
     ]
    }
   ],
   "source": [
    "# print report - fake & valid headlines - gradient-boosting\n",
    "\n",
    "print('----------------------Gradient-Boosting Report - 2gram----------------------\\n')\n",
    "print(classification_report(y_test, gbc_predictions, target_names=['Fake Headlines', 'Valid Headlines']))\n",
    "print('Training set score:', gbc.score(X_train, y_train))\n",
    "print('Test set score:', gbc.score(X_test, y_test))"
   ]
  },
  {
   "cell_type": "code",
   "execution_count": 240,
   "metadata": {
    "slideshow": {
     "slide_type": "skip"
    }
   },
   "outputs": [],
   "source": [
    "# update stats\n",
    "\n",
    "stats_df = stats_df.append(pd.Series(['2gram','Gradient Boosting',\n",
    "              '0.65484', '0.59747', '0.56', '0.83', '0.95', '0.25', '0.70', \n",
    "                '0.39'], index=stats_df.columns), ignore_index=True)"
   ]
  },
  {
   "cell_type": "code",
   "execution_count": 242,
   "metadata": {
    "slideshow": {
     "slide_type": "skip"
    }
   },
   "outputs": [
    {
     "data": {
      "text/html": [
       "<div>\n",
       "<style scoped>\n",
       "    .dataframe tbody tr th:only-of-type {\n",
       "        vertical-align: middle;\n",
       "    }\n",
       "\n",
       "    .dataframe tbody tr th {\n",
       "        vertical-align: top;\n",
       "    }\n",
       "\n",
       "    .dataframe thead th {\n",
       "        text-align: right;\n",
       "    }\n",
       "</style>\n",
       "<table border=\"1\" class=\"dataframe\">\n",
       "  <thead>\n",
       "    <tr style=\"text-align: right;\">\n",
       "      <th></th>\n",
       "      <th>F. E. Method</th>\n",
       "      <th>Model Name</th>\n",
       "      <th>Training Set Score</th>\n",
       "      <th>Test Set Score</th>\n",
       "      <th>Precision - Fake Headlines</th>\n",
       "      <th>Precision - Valid Headlines</th>\n",
       "      <th>Recall - Fake Headlines</th>\n",
       "      <th>Recall - Valid Headlines</th>\n",
       "      <th>F1-Score - Fake Headlines</th>\n",
       "      <th>F1-Score - Valid Headlines</th>\n",
       "    </tr>\n",
       "  </thead>\n",
       "  <tbody>\n",
       "    <tr>\n",
       "      <th>1</th>\n",
       "      <td>Bag of Words</td>\n",
       "      <td>Random Forest</td>\n",
       "      <td>1.0</td>\n",
       "      <td>0.73164</td>\n",
       "      <td>0.71</td>\n",
       "      <td>0.77</td>\n",
       "      <td>0.79</td>\n",
       "      <td>0.67</td>\n",
       "      <td>0.75</td>\n",
       "      <td>0.72</td>\n",
       "    </tr>\n",
       "    <tr>\n",
       "      <th>2</th>\n",
       "      <td>Bag of Words</td>\n",
       "      <td>Gradient Boosting</td>\n",
       "      <td>0.75269</td>\n",
       "      <td>0.70379</td>\n",
       "      <td>0.68</td>\n",
       "      <td>0.73</td>\n",
       "      <td>0.76</td>\n",
       "      <td>0.65</td>\n",
       "      <td>0.72</td>\n",
       "      <td>0.69</td>\n",
       "    </tr>\n",
       "    <tr>\n",
       "      <th>3</th>\n",
       "      <td>2gram</td>\n",
       "      <td>Logistic Regression</td>\n",
       "      <td>0.99968</td>\n",
       "      <td>0.69747</td>\n",
       "      <td>0.66</td>\n",
       "      <td>0.76</td>\n",
       "      <td>0.82</td>\n",
       "      <td>0.58</td>\n",
       "      <td>0.73</td>\n",
       "      <td>0.66</td>\n",
       "    </tr>\n",
       "    <tr>\n",
       "      <th>4</th>\n",
       "      <td>2gram</td>\n",
       "      <td>Random Forest</td>\n",
       "      <td>0.99937</td>\n",
       "      <td>0.61392</td>\n",
       "      <td>0.57</td>\n",
       "      <td>0.87</td>\n",
       "      <td>0.96</td>\n",
       "      <td>0.27</td>\n",
       "      <td>0.71</td>\n",
       "      <td>0.41</td>\n",
       "    </tr>\n",
       "    <tr>\n",
       "      <th>5</th>\n",
       "      <td>2gram</td>\n",
       "      <td>Gradient Boosting</td>\n",
       "      <td>0.65484</td>\n",
       "      <td>0.59747</td>\n",
       "      <td>0.56</td>\n",
       "      <td>0.83</td>\n",
       "      <td>0.95</td>\n",
       "      <td>0.25</td>\n",
       "      <td>0.70</td>\n",
       "      <td>0.39</td>\n",
       "    </tr>\n",
       "  </tbody>\n",
       "</table>\n",
       "</div>"
      ],
      "text/plain": [
       "   F. E. Method           Model Name Training Set Score Test Set Score  \\\n",
       "1  Bag of Words        Random Forest                1.0        0.73164   \n",
       "2  Bag of Words    Gradient Boosting            0.75269        0.70379   \n",
       "3         2gram  Logistic Regression            0.99968        0.69747   \n",
       "4         2gram        Random Forest            0.99937        0.61392   \n",
       "5         2gram    Gradient Boosting            0.65484        0.59747   \n",
       "\n",
       "  Precision - Fake Headlines Precision - Valid Headlines  \\\n",
       "1                       0.71                        0.77   \n",
       "2                       0.68                        0.73   \n",
       "3                       0.66                        0.76   \n",
       "4                       0.57                        0.87   \n",
       "5                       0.56                        0.83   \n",
       "\n",
       "  Recall - Fake Headlines Recall - Valid Headlines F1-Score - Fake Headlines  \\\n",
       "1                    0.79                     0.67                      0.75   \n",
       "2                    0.76                     0.65                      0.72   \n",
       "3                    0.82                     0.58                      0.73   \n",
       "4                    0.96                     0.27                      0.71   \n",
       "5                    0.95                     0.25                      0.70   \n",
       "\n",
       "  F1-Score - Valid Headlines  \n",
       "1                       0.72  \n",
       "2                       0.69  \n",
       "3                       0.66  \n",
       "4                       0.41  \n",
       "5                       0.39  "
      ]
     },
     "execution_count": 242,
     "metadata": {},
     "output_type": "execute_result"
    }
   ],
   "source": [
    "stats_df.tail()"
   ]
  },
  {
   "cell_type": "markdown",
   "metadata": {
    "slideshow": {
     "slide_type": "slide"
    }
   },
   "source": [
    "# 1gram/2gram"
   ]
  },
  {
   "cell_type": "code",
   "execution_count": 144,
   "metadata": {
    "slideshow": {
     "slide_type": "subslide"
    }
   },
   "outputs": [
    {
     "data": {
      "text/html": [
       "<div>\n",
       "<style scoped>\n",
       "    .dataframe tbody tr th:only-of-type {\n",
       "        vertical-align: middle;\n",
       "    }\n",
       "\n",
       "    .dataframe tbody tr th {\n",
       "        vertical-align: top;\n",
       "    }\n",
       "\n",
       "    .dataframe thead th {\n",
       "        text-align: right;\n",
       "    }\n",
       "</style>\n",
       "<table border=\"1\" class=\"dataframe\">\n",
       "  <thead>\n",
       "    <tr style=\"text-align: right;\">\n",
       "      <th></th>\n",
       "      <th>000</th>\n",
       "      <th>000 000</th>\n",
       "      <th>000 amazon</th>\n",
       "      <th>000 americans</th>\n",
       "      <th>000 child</th>\n",
       "      <th>000 coronavirus</th>\n",
       "      <th>000 corpses</th>\n",
       "      <th>000 covid</th>\n",
       "      <th>000 dead</th>\n",
       "      <th>000 employees</th>\n",
       "      <th>...</th>\n",
       "      <th>zoom lifted</th>\n",
       "      <th>zoom thanksgiving</th>\n",
       "      <th>zoos</th>\n",
       "      <th>zucchini</th>\n",
       "      <th>zuckerberg</th>\n",
       "      <th>zuckerberg announces</th>\n",
       "      <th>zverev</th>\n",
       "      <th>zverev in</th>\n",
       "      <th>Headlines</th>\n",
       "      <th>Valid Source</th>\n",
       "    </tr>\n",
       "  </thead>\n",
       "  <tbody>\n",
       "    <tr>\n",
       "      <th>0</th>\n",
       "      <td>0.0</td>\n",
       "      <td>0.0</td>\n",
       "      <td>0.0</td>\n",
       "      <td>0.0</td>\n",
       "      <td>0.0</td>\n",
       "      <td>0.0</td>\n",
       "      <td>0.0</td>\n",
       "      <td>0.0</td>\n",
       "      <td>0.0</td>\n",
       "      <td>0.0</td>\n",
       "      <td>...</td>\n",
       "      <td>0.0</td>\n",
       "      <td>0.0</td>\n",
       "      <td>0.0</td>\n",
       "      <td>0.0</td>\n",
       "      <td>0.0</td>\n",
       "      <td>0.0</td>\n",
       "      <td>0.0</td>\n",
       "      <td>0.0</td>\n",
       "      <td>Chris Wallace: Trump \"bears the primary respon...</td>\n",
       "      <td>1.0</td>\n",
       "    </tr>\n",
       "    <tr>\n",
       "      <th>1</th>\n",
       "      <td>0.0</td>\n",
       "      <td>0.0</td>\n",
       "      <td>0.0</td>\n",
       "      <td>0.0</td>\n",
       "      <td>0.0</td>\n",
       "      <td>0.0</td>\n",
       "      <td>0.0</td>\n",
       "      <td>0.0</td>\n",
       "      <td>0.0</td>\n",
       "      <td>0.0</td>\n",
       "      <td>...</td>\n",
       "      <td>0.0</td>\n",
       "      <td>0.0</td>\n",
       "      <td>0.0</td>\n",
       "      <td>0.0</td>\n",
       "      <td>0.0</td>\n",
       "      <td>0.0</td>\n",
       "      <td>0.0</td>\n",
       "      <td>0.0</td>\n",
       "      <td>Biden to expand voter outreach with in-person ...</td>\n",
       "      <td>1.0</td>\n",
       "    </tr>\n",
       "    <tr>\n",
       "      <th>2</th>\n",
       "      <td>0.0</td>\n",
       "      <td>0.0</td>\n",
       "      <td>0.0</td>\n",
       "      <td>0.0</td>\n",
       "      <td>0.0</td>\n",
       "      <td>0.0</td>\n",
       "      <td>0.0</td>\n",
       "      <td>0.0</td>\n",
       "      <td>0.0</td>\n",
       "      <td>0.0</td>\n",
       "      <td>...</td>\n",
       "      <td>0.0</td>\n",
       "      <td>0.0</td>\n",
       "      <td>0.0</td>\n",
       "      <td>0.0</td>\n",
       "      <td>0.0</td>\n",
       "      <td>0.0</td>\n",
       "      <td>0.0</td>\n",
       "      <td>0.0</td>\n",
       "      <td>Doomsday has arrived for tens of thousands of ...</td>\n",
       "      <td>1.0</td>\n",
       "    </tr>\n",
       "    <tr>\n",
       "      <th>3</th>\n",
       "      <td>0.0</td>\n",
       "      <td>0.0</td>\n",
       "      <td>0.0</td>\n",
       "      <td>0.0</td>\n",
       "      <td>0.0</td>\n",
       "      <td>0.0</td>\n",
       "      <td>0.0</td>\n",
       "      <td>0.0</td>\n",
       "      <td>0.0</td>\n",
       "      <td>0.0</td>\n",
       "      <td>...</td>\n",
       "      <td>0.0</td>\n",
       "      <td>0.0</td>\n",
       "      <td>0.0</td>\n",
       "      <td>0.0</td>\n",
       "      <td>0.0</td>\n",
       "      <td>0.0</td>\n",
       "      <td>0.0</td>\n",
       "      <td>0.0</td>\n",
       "      <td>Pfizer CEO: COVID-19 vaccine development is \"m...</td>\n",
       "      <td>1.0</td>\n",
       "    </tr>\n",
       "    <tr>\n",
       "      <th>4</th>\n",
       "      <td>0.0</td>\n",
       "      <td>0.0</td>\n",
       "      <td>0.0</td>\n",
       "      <td>0.0</td>\n",
       "      <td>0.0</td>\n",
       "      <td>0.0</td>\n",
       "      <td>0.0</td>\n",
       "      <td>0.0</td>\n",
       "      <td>0.0</td>\n",
       "      <td>0.0</td>\n",
       "      <td>...</td>\n",
       "      <td>0.0</td>\n",
       "      <td>0.0</td>\n",
       "      <td>0.0</td>\n",
       "      <td>0.0</td>\n",
       "      <td>0.0</td>\n",
       "      <td>0.0</td>\n",
       "      <td>0.0</td>\n",
       "      <td>0.0</td>\n",
       "      <td>Anne Helen Petersen on America's burnout epidemic</td>\n",
       "      <td>1.0</td>\n",
       "    </tr>\n",
       "  </tbody>\n",
       "</table>\n",
       "<p>5 rows × 39947 columns</p>\n",
       "</div>"
      ],
      "text/plain": [
       "   000  000 000  000 amazon  000 americans  000 child  000 coronavirus  \\\n",
       "0  0.0      0.0         0.0            0.0        0.0              0.0   \n",
       "1  0.0      0.0         0.0            0.0        0.0              0.0   \n",
       "2  0.0      0.0         0.0            0.0        0.0              0.0   \n",
       "3  0.0      0.0         0.0            0.0        0.0              0.0   \n",
       "4  0.0      0.0         0.0            0.0        0.0              0.0   \n",
       "\n",
       "   000 corpses  000 covid  000 dead  000 employees  ...  zoom lifted  \\\n",
       "0          0.0        0.0       0.0            0.0  ...          0.0   \n",
       "1          0.0        0.0       0.0            0.0  ...          0.0   \n",
       "2          0.0        0.0       0.0            0.0  ...          0.0   \n",
       "3          0.0        0.0       0.0            0.0  ...          0.0   \n",
       "4          0.0        0.0       0.0            0.0  ...          0.0   \n",
       "\n",
       "   zoom thanksgiving  zoos  zucchini  zuckerberg  zuckerberg announces  \\\n",
       "0                0.0   0.0       0.0         0.0                   0.0   \n",
       "1                0.0   0.0       0.0         0.0                   0.0   \n",
       "2                0.0   0.0       0.0         0.0                   0.0   \n",
       "3                0.0   0.0       0.0         0.0                   0.0   \n",
       "4                0.0   0.0       0.0         0.0                   0.0   \n",
       "\n",
       "   zverev  zverev in                                          Headlines  \\\n",
       "0     0.0        0.0  Chris Wallace: Trump \"bears the primary respon...   \n",
       "1     0.0        0.0  Biden to expand voter outreach with in-person ...   \n",
       "2     0.0        0.0  Doomsday has arrived for tens of thousands of ...   \n",
       "3     0.0        0.0  Pfizer CEO: COVID-19 vaccine development is \"m...   \n",
       "4     0.0        0.0  Anne Helen Petersen on America's burnout epidemic   \n",
       "\n",
       "   Valid Source  \n",
       "0           1.0  \n",
       "1           1.0  \n",
       "2           1.0  \n",
       "3           1.0  \n",
       "4           1.0  \n",
       "\n",
       "[5 rows x 39947 columns]"
      ]
     },
     "execution_count": 144,
     "metadata": {},
     "output_type": "execute_result"
    }
   ],
   "source": [
    "vectorizer = CountVectorizer(analyzer='word', ngram_range=(1,2))\n",
    "X = vectorizer.fit_transform(news_headlines['Headlines'])\n",
    "bow_df = pd.DataFrame(X.toarray(), columns=vectorizer.get_feature_names())\n",
    "one_two_headlines = pd.concat([bow_df, news_headlines[['Headlines', 'Valid Source']]], axis=1)\n",
    "one_two_headlines.head()"
   ]
  },
  {
   "cell_type": "code",
   "execution_count": 145,
   "metadata": {
    "slideshow": {
     "slide_type": "skip"
    }
   },
   "outputs": [
    {
     "data": {
      "text/plain": [
       "000                     2\n",
       "000 000                 2\n",
       "000 amazon              2\n",
       "000 americans           2\n",
       "000 child               2\n",
       "                       ..\n",
       "zuckerberg announces    2\n",
       "zverev                  2\n",
       "zverev in               2\n",
       "Headlines               2\n",
       "Valid Source            2\n",
       "Length: 39947, dtype: int64"
      ]
     },
     "execution_count": 145,
     "metadata": {},
     "output_type": "execute_result"
    }
   ],
   "source": [
    "# check for null values\n",
    "\n",
    "one_two_headlines.isnull().sum()"
   ]
  },
  {
   "cell_type": "code",
   "execution_count": 146,
   "metadata": {
    "slideshow": {
     "slide_type": "skip"
    }
   },
   "outputs": [],
   "source": [
    "one_two_headlines.dropna(inplace=True)"
   ]
  },
  {
   "cell_type": "code",
   "execution_count": 147,
   "metadata": {
    "slideshow": {
     "slide_type": "skip"
    }
   },
   "outputs": [
    {
     "data": {
      "text/plain": [
       "000                     0\n",
       "000 000                 0\n",
       "000 amazon              0\n",
       "000 americans           0\n",
       "000 child               0\n",
       "                       ..\n",
       "zuckerberg announces    0\n",
       "zverev                  0\n",
       "zverev in               0\n",
       "Headlines               0\n",
       "Valid Source            0\n",
       "Length: 39947, dtype: int64"
      ]
     },
     "execution_count": 147,
     "metadata": {},
     "output_type": "execute_result"
    }
   ],
   "source": [
    "# confirm that null values have been dropped\n",
    "\n",
    "one_two_headlines.isnull().sum()"
   ]
  },
  {
   "cell_type": "code",
   "execution_count": 148,
   "metadata": {
    "slideshow": {
     "slide_type": "subslide"
    }
   },
   "outputs": [],
   "source": [
    "# split\n",
    "\n",
    "Y = one_two_headlines['Valid Source']\n",
    "X = np.array(one_two_headlines.drop(['Headlines','Valid Source'], 1))\n",
    "\n",
    "X_train, X_test, y_train, y_test = train_test_split(X, Y, test_size=0.2, random_state=123)"
   ]
  },
  {
   "cell_type": "markdown",
   "metadata": {
    "slideshow": {
     "slide_type": "subslide"
    }
   },
   "source": [
    "### Logistic Regression Model & Scores - 1gram/2gram"
   ]
  },
  {
   "cell_type": "code",
   "execution_count": 149,
   "metadata": {
    "slideshow": {
     "slide_type": "subslide"
    }
   },
   "outputs": [],
   "source": [
    "# logistic regression model & scores\n",
    "\n",
    "lr = LogisticRegression()\n",
    "lr.fit(X_train, y_train)\n",
    "lr_predictions = lr.predict(X_test)\n",
    "lr_confusion = confusion_matrix(y_test, lr_predictions, labels=[1, 0])"
   ]
  },
  {
   "cell_type": "code",
   "execution_count": 150,
   "metadata": {
    "slideshow": {
     "slide_type": "subslide"
    }
   },
   "outputs": [
    {
     "data": {
      "image/png": "[encoded data removed]",
      "text/plain": [
       "<Figure size 576x432 with 2 Axes>"
      ]
     },
     "metadata": {
      "needs_background": "light"
     },
     "output_type": "display_data"
    }
   ],
   "source": [
    "plot_confusion_matrix(cm=lr_confusion, target_names = ['Valid Headlines', 'Fake Headlines'], title = 'Confusion Matrix - Logistic Regression', normalize=False)"
   ]
  },
  {
   "cell_type": "code",
   "execution_count": 151,
   "metadata": {
    "slideshow": {
     "slide_type": "subslide"
    }
   },
   "outputs": [
    {
     "name": "stdout",
     "output_type": "stream",
     "text": [
      "----------------------Logistic Regression Report - 1gram/2gram----------------------\n",
      "\n",
      "                 precision    recall  f1-score   support\n",
      "\n",
      " Fake Headlines       0.76      0.82      0.79       393\n",
      "Valid Headlines       0.81      0.74      0.77       397\n",
      "\n",
      "       accuracy                           0.78       790\n",
      "      macro avg       0.78      0.78      0.78       790\n",
      "   weighted avg       0.78      0.78      0.78       790\n",
      "\n",
      "Training set score: 1.0\n",
      "Test set score: 0.7810126582278482\n"
     ]
    }
   ],
   "source": [
    "# print report - fake & valid headlines - logistic regression\n",
    "\n",
    "print('----------------------Logistic Regression Report - 1gram/2gram----------------------\\n')\n",
    "print(classification_report(y_test, lr_predictions, target_names=['Fake Headlines', 'Valid Headlines']))\n",
    "print('Training set score:', lr.score(X_train, y_train))\n",
    "print('Test set score:', lr.score(X_test, y_test))"
   ]
  },
  {
   "cell_type": "code",
   "execution_count": 243,
   "metadata": {
    "slideshow": {
     "slide_type": "skip"
    }
   },
   "outputs": [],
   "source": [
    "# update stats\n",
    "\n",
    "stats_df = stats_df.append(pd.Series(['1gram/2gram','Logistic Regression',\n",
    "              '1.0', '0.781013', '0.76', '0.81', '0.82', '0.74', '0.79', \n",
    "                '0.77'], index=stats_df.columns), ignore_index=True)"
   ]
  },
  {
   "cell_type": "code",
   "execution_count": 244,
   "metadata": {
    "slideshow": {
     "slide_type": "skip"
    }
   },
   "outputs": [
    {
     "data": {
      "text/html": [
       "<div>\n",
       "<style scoped>\n",
       "    .dataframe tbody tr th:only-of-type {\n",
       "        vertical-align: middle;\n",
       "    }\n",
       "\n",
       "    .dataframe tbody tr th {\n",
       "        vertical-align: top;\n",
       "    }\n",
       "\n",
       "    .dataframe thead th {\n",
       "        text-align: right;\n",
       "    }\n",
       "</style>\n",
       "<table border=\"1\" class=\"dataframe\">\n",
       "  <thead>\n",
       "    <tr style=\"text-align: right;\">\n",
       "      <th></th>\n",
       "      <th>F. E. Method</th>\n",
       "      <th>Model Name</th>\n",
       "      <th>Training Set Score</th>\n",
       "      <th>Test Set Score</th>\n",
       "      <th>Precision - Fake Headlines</th>\n",
       "      <th>Precision - Valid Headlines</th>\n",
       "      <th>Recall - Fake Headlines</th>\n",
       "      <th>Recall - Valid Headlines</th>\n",
       "      <th>F1-Score - Fake Headlines</th>\n",
       "      <th>F1-Score - Valid Headlines</th>\n",
       "    </tr>\n",
       "  </thead>\n",
       "  <tbody>\n",
       "    <tr>\n",
       "      <th>2</th>\n",
       "      <td>Bag of Words</td>\n",
       "      <td>Gradient Boosting</td>\n",
       "      <td>0.75269</td>\n",
       "      <td>0.70379</td>\n",
       "      <td>0.68</td>\n",
       "      <td>0.73</td>\n",
       "      <td>0.76</td>\n",
       "      <td>0.65</td>\n",
       "      <td>0.72</td>\n",
       "      <td>0.69</td>\n",
       "    </tr>\n",
       "    <tr>\n",
       "      <th>3</th>\n",
       "      <td>2gram</td>\n",
       "      <td>Logistic Regression</td>\n",
       "      <td>0.99968</td>\n",
       "      <td>0.69747</td>\n",
       "      <td>0.66</td>\n",
       "      <td>0.76</td>\n",
       "      <td>0.82</td>\n",
       "      <td>0.58</td>\n",
       "      <td>0.73</td>\n",
       "      <td>0.66</td>\n",
       "    </tr>\n",
       "    <tr>\n",
       "      <th>4</th>\n",
       "      <td>2gram</td>\n",
       "      <td>Random Forest</td>\n",
       "      <td>0.99937</td>\n",
       "      <td>0.61392</td>\n",
       "      <td>0.57</td>\n",
       "      <td>0.87</td>\n",
       "      <td>0.96</td>\n",
       "      <td>0.27</td>\n",
       "      <td>0.71</td>\n",
       "      <td>0.41</td>\n",
       "    </tr>\n",
       "    <tr>\n",
       "      <th>5</th>\n",
       "      <td>2gram</td>\n",
       "      <td>Gradient Boosting</td>\n",
       "      <td>0.65484</td>\n",
       "      <td>0.59747</td>\n",
       "      <td>0.56</td>\n",
       "      <td>0.83</td>\n",
       "      <td>0.95</td>\n",
       "      <td>0.25</td>\n",
       "      <td>0.70</td>\n",
       "      <td>0.39</td>\n",
       "    </tr>\n",
       "    <tr>\n",
       "      <th>6</th>\n",
       "      <td>1gram/2gram</td>\n",
       "      <td>Logistic Regression</td>\n",
       "      <td>1.0</td>\n",
       "      <td>0.781013</td>\n",
       "      <td>0.76</td>\n",
       "      <td>0.81</td>\n",
       "      <td>0.82</td>\n",
       "      <td>0.74</td>\n",
       "      <td>0.79</td>\n",
       "      <td>0.77</td>\n",
       "    </tr>\n",
       "  </tbody>\n",
       "</table>\n",
       "</div>"
      ],
      "text/plain": [
       "   F. E. Method           Model Name Training Set Score Test Set Score  \\\n",
       "2  Bag of Words    Gradient Boosting            0.75269        0.70379   \n",
       "3         2gram  Logistic Regression            0.99968        0.69747   \n",
       "4         2gram        Random Forest            0.99937        0.61392   \n",
       "5         2gram    Gradient Boosting            0.65484        0.59747   \n",
       "6   1gram/2gram  Logistic Regression                1.0       0.781013   \n",
       "\n",
       "  Precision - Fake Headlines Precision - Valid Headlines  \\\n",
       "2                       0.68                        0.73   \n",
       "3                       0.66                        0.76   \n",
       "4                       0.57                        0.87   \n",
       "5                       0.56                        0.83   \n",
       "6                       0.76                        0.81   \n",
       "\n",
       "  Recall - Fake Headlines Recall - Valid Headlines F1-Score - Fake Headlines  \\\n",
       "2                    0.76                     0.65                      0.72   \n",
       "3                    0.82                     0.58                      0.73   \n",
       "4                    0.96                     0.27                      0.71   \n",
       "5                    0.95                     0.25                      0.70   \n",
       "6                    0.82                     0.74                      0.79   \n",
       "\n",
       "  F1-Score - Valid Headlines  \n",
       "2                       0.69  \n",
       "3                       0.66  \n",
       "4                       0.41  \n",
       "5                       0.39  \n",
       "6                       0.77  "
      ]
     },
     "execution_count": 244,
     "metadata": {},
     "output_type": "execute_result"
    }
   ],
   "source": [
    "stats_df.tail()"
   ]
  },
  {
   "cell_type": "markdown",
   "metadata": {
    "slideshow": {
     "slide_type": "subslide"
    }
   },
   "source": [
    "### Random Forest  Model & Scores - 1gram/2gram"
   ]
  },
  {
   "cell_type": "code",
   "execution_count": 154,
   "metadata": {
    "slideshow": {
     "slide_type": "subslide"
    }
   },
   "outputs": [],
   "source": [
    "# initial setup\n",
    "\n",
    "rfc = RandomForestClassifier()\n",
    "rfc.fit(X_train, y_train)\n",
    "rfc_predictions = rfc.predict(X_test)\n",
    "rfc_confusion = confusion_matrix(y_test, rfc_predictions, labels=[1 ,0])"
   ]
  },
  {
   "cell_type": "code",
   "execution_count": 195,
   "metadata": {
    "slideshow": {
     "slide_type": "subslide"
    }
   },
   "outputs": [
    {
     "data": {
      "image/png": "[encoded data removed]",
      "text/plain": [
       "<Figure size 576x432 with 2 Axes>"
      ]
     },
     "metadata": {
      "needs_background": "light"
     },
     "output_type": "display_data"
    }
   ],
   "source": [
    "plot_confusion_matrix(cm=rfc_confusion, target_names = ['Valid Headlines', 'Fake Headlines'], title = 'Confusion Matrix - RFC', normalize=False)"
   ]
  },
  {
   "cell_type": "code",
   "execution_count": 156,
   "metadata": {
    "slideshow": {
     "slide_type": "subslide"
    }
   },
   "outputs": [
    {
     "name": "stdout",
     "output_type": "stream",
     "text": [
      "----------------------Random Forest Report - Random Forest- 1gram/2gram----------------------\n",
      "\n",
      "                 precision    recall  f1-score   support\n",
      "\n",
      " Fake Headlines       0.69      0.83      0.75       393\n",
      "Valid Headlines       0.79      0.63      0.70       397\n",
      "\n",
      "       accuracy                           0.73       790\n",
      "      macro avg       0.74      0.73      0.73       790\n",
      "   weighted avg       0.74      0.73      0.73       790\n",
      "\n",
      "Training set score: 1.0\n",
      "Test set score: 0.7291139240506329\n"
     ]
    }
   ],
   "source": [
    "# print report - fake & valid headlines - rfc\n",
    "\n",
    "print('----------------------Random Forest Report - Random Forest- 1gram/2gram----------------------\\n')\n",
    "print(classification_report(y_test, rfc_predictions, target_names=['Fake Headlines', 'Valid Headlines']))\n",
    "print('Training set score:', rfc.score(X_train, y_train))\n",
    "print('Test set score:', rfc.score(X_test, y_test))"
   ]
  },
  {
   "cell_type": "code",
   "execution_count": 245,
   "metadata": {
    "slideshow": {
     "slide_type": "skip"
    }
   },
   "outputs": [],
   "source": [
    "# update stats\n",
    "\n",
    "stats_df = stats_df.append(pd.Series(['1gram/2gram','Random Forest',\n",
    "              '1.0', '0.72911', '0.69', '0.79', '0.83', '0.63', '0.75', \n",
    "                '0.70'], index=stats_df.columns), ignore_index=True)"
   ]
  },
  {
   "cell_type": "code",
   "execution_count": 246,
   "metadata": {
    "slideshow": {
     "slide_type": "skip"
    }
   },
   "outputs": [
    {
     "data": {
      "text/html": [
       "<div>\n",
       "<style scoped>\n",
       "    .dataframe tbody tr th:only-of-type {\n",
       "        vertical-align: middle;\n",
       "    }\n",
       "\n",
       "    .dataframe tbody tr th {\n",
       "        vertical-align: top;\n",
       "    }\n",
       "\n",
       "    .dataframe thead th {\n",
       "        text-align: right;\n",
       "    }\n",
       "</style>\n",
       "<table border=\"1\" class=\"dataframe\">\n",
       "  <thead>\n",
       "    <tr style=\"text-align: right;\">\n",
       "      <th></th>\n",
       "      <th>F. E. Method</th>\n",
       "      <th>Model Name</th>\n",
       "      <th>Training Set Score</th>\n",
       "      <th>Test Set Score</th>\n",
       "      <th>Precision - Fake Headlines</th>\n",
       "      <th>Precision - Valid Headlines</th>\n",
       "      <th>Recall - Fake Headlines</th>\n",
       "      <th>Recall - Valid Headlines</th>\n",
       "      <th>F1-Score - Fake Headlines</th>\n",
       "      <th>F1-Score - Valid Headlines</th>\n",
       "    </tr>\n",
       "  </thead>\n",
       "  <tbody>\n",
       "    <tr>\n",
       "      <th>3</th>\n",
       "      <td>2gram</td>\n",
       "      <td>Logistic Regression</td>\n",
       "      <td>0.99968</td>\n",
       "      <td>0.69747</td>\n",
       "      <td>0.66</td>\n",
       "      <td>0.76</td>\n",
       "      <td>0.82</td>\n",
       "      <td>0.58</td>\n",
       "      <td>0.73</td>\n",
       "      <td>0.66</td>\n",
       "    </tr>\n",
       "    <tr>\n",
       "      <th>4</th>\n",
       "      <td>2gram</td>\n",
       "      <td>Random Forest</td>\n",
       "      <td>0.99937</td>\n",
       "      <td>0.61392</td>\n",
       "      <td>0.57</td>\n",
       "      <td>0.87</td>\n",
       "      <td>0.96</td>\n",
       "      <td>0.27</td>\n",
       "      <td>0.71</td>\n",
       "      <td>0.41</td>\n",
       "    </tr>\n",
       "    <tr>\n",
       "      <th>5</th>\n",
       "      <td>2gram</td>\n",
       "      <td>Gradient Boosting</td>\n",
       "      <td>0.65484</td>\n",
       "      <td>0.59747</td>\n",
       "      <td>0.56</td>\n",
       "      <td>0.83</td>\n",
       "      <td>0.95</td>\n",
       "      <td>0.25</td>\n",
       "      <td>0.70</td>\n",
       "      <td>0.39</td>\n",
       "    </tr>\n",
       "    <tr>\n",
       "      <th>6</th>\n",
       "      <td>1gram/2gram</td>\n",
       "      <td>Logistic Regression</td>\n",
       "      <td>1.0</td>\n",
       "      <td>0.781013</td>\n",
       "      <td>0.76</td>\n",
       "      <td>0.81</td>\n",
       "      <td>0.82</td>\n",
       "      <td>0.74</td>\n",
       "      <td>0.79</td>\n",
       "      <td>0.77</td>\n",
       "    </tr>\n",
       "    <tr>\n",
       "      <th>7</th>\n",
       "      <td>1gram/2gram</td>\n",
       "      <td>Random Forest</td>\n",
       "      <td>1.0</td>\n",
       "      <td>0.72911</td>\n",
       "      <td>0.69</td>\n",
       "      <td>0.79</td>\n",
       "      <td>0.83</td>\n",
       "      <td>0.63</td>\n",
       "      <td>0.75</td>\n",
       "      <td>0.70</td>\n",
       "    </tr>\n",
       "  </tbody>\n",
       "</table>\n",
       "</div>"
      ],
      "text/plain": [
       "  F. E. Method           Model Name Training Set Score Test Set Score  \\\n",
       "3        2gram  Logistic Regression            0.99968        0.69747   \n",
       "4        2gram        Random Forest            0.99937        0.61392   \n",
       "5        2gram    Gradient Boosting            0.65484        0.59747   \n",
       "6  1gram/2gram  Logistic Regression                1.0       0.781013   \n",
       "7  1gram/2gram        Random Forest                1.0        0.72911   \n",
       "\n",
       "  Precision - Fake Headlines Precision - Valid Headlines  \\\n",
       "3                       0.66                        0.76   \n",
       "4                       0.57                        0.87   \n",
       "5                       0.56                        0.83   \n",
       "6                       0.76                        0.81   \n",
       "7                       0.69                        0.79   \n",
       "\n",
       "  Recall - Fake Headlines Recall - Valid Headlines F1-Score - Fake Headlines  \\\n",
       "3                    0.82                     0.58                      0.73   \n",
       "4                    0.96                     0.27                      0.71   \n",
       "5                    0.95                     0.25                      0.70   \n",
       "6                    0.82                     0.74                      0.79   \n",
       "7                    0.83                     0.63                      0.75   \n",
       "\n",
       "  F1-Score - Valid Headlines  \n",
       "3                       0.66  \n",
       "4                       0.41  \n",
       "5                       0.39  \n",
       "6                       0.77  \n",
       "7                       0.70  "
      ]
     },
     "execution_count": 246,
     "metadata": {},
     "output_type": "execute_result"
    }
   ],
   "source": [
    "stats_df.tail()"
   ]
  },
  {
   "cell_type": "markdown",
   "metadata": {
    "slideshow": {
     "slide_type": "subslide"
    }
   },
   "source": [
    "### Gradient-Boosting Model & Scores - 1gram/2gram"
   ]
  },
  {
   "cell_type": "code",
   "execution_count": 160,
   "metadata": {
    "slideshow": {
     "slide_type": "subslide"
    }
   },
   "outputs": [
    {
     "data": {
      "image/png": "[encoded data removed]",
      "text/plain": [
       "<Figure size 576x432 with 2 Axes>"
      ]
     },
     "metadata": {
      "needs_background": "light"
     },
     "output_type": "display_data"
    }
   ],
   "source": [
    "plot_confusion_matrix(cm=gbc_confusion, target_names = ['Valid Headlines', 'Fake Headlines'], title = 'Confusion Matrix - RFC', normalize=False)"
   ]
  },
  {
   "cell_type": "code",
   "execution_count": 161,
   "metadata": {
    "slideshow": {
     "slide_type": "subslide"
    }
   },
   "outputs": [
    {
     "name": "stdout",
     "output_type": "stream",
     "text": [
      "----------------------Gradient-Boosting Report - 1gram/2gram----------------------\n",
      "\n",
      "                 precision    recall  f1-score   support\n",
      "\n",
      " Fake Headlines       0.68      0.76      0.72       393\n",
      "Valid Headlines       0.73      0.65      0.69       397\n",
      "\n",
      "       accuracy                           0.70       790\n",
      "      macro avg       0.71      0.70      0.70       790\n",
      "   weighted avg       0.71      0.70      0.70       790\n",
      "\n",
      "Training set score: 0.7517416086130463\n",
      "Test set score: 0.7037974683544304\n"
     ]
    }
   ],
   "source": [
    "# print report - fake & valid headlines - gradient-boosting\n",
    "\n",
    "print('----------------------Gradient-Boosting Report - 1gram/2gram----------------------\\n')\n",
    "print(classification_report(y_test, gbc_predictions, target_names=['Fake Headlines', 'Valid Headlines']))\n",
    "print('Training set score:', gbc.score(X_train, y_train))\n",
    "print('Test set score:', gbc.score(X_test, y_test))"
   ]
  },
  {
   "cell_type": "code",
   "execution_count": 247,
   "metadata": {
    "slideshow": {
     "slide_type": "skip"
    }
   },
   "outputs": [],
   "source": [
    "# update stats\n",
    "\n",
    "stats_df = stats_df.append(pd.Series(['1gram/2gram','Gradient Boosting',\n",
    "              '0.75174', '0.70379', '0.68', '0.73', '0.76', '0.65', '0.72', \n",
    "                '0.69'], index=stats_df.columns), ignore_index=True)"
   ]
  },
  {
   "cell_type": "code",
   "execution_count": 248,
   "metadata": {
    "slideshow": {
     "slide_type": "skip"
    }
   },
   "outputs": [
    {
     "data": {
      "text/html": [
       "<div>\n",
       "<style scoped>\n",
       "    .dataframe tbody tr th:only-of-type {\n",
       "        vertical-align: middle;\n",
       "    }\n",
       "\n",
       "    .dataframe tbody tr th {\n",
       "        vertical-align: top;\n",
       "    }\n",
       "\n",
       "    .dataframe thead th {\n",
       "        text-align: right;\n",
       "    }\n",
       "</style>\n",
       "<table border=\"1\" class=\"dataframe\">\n",
       "  <thead>\n",
       "    <tr style=\"text-align: right;\">\n",
       "      <th></th>\n",
       "      <th>F. E. Method</th>\n",
       "      <th>Model Name</th>\n",
       "      <th>Training Set Score</th>\n",
       "      <th>Test Set Score</th>\n",
       "      <th>Precision - Fake Headlines</th>\n",
       "      <th>Precision - Valid Headlines</th>\n",
       "      <th>Recall - Fake Headlines</th>\n",
       "      <th>Recall - Valid Headlines</th>\n",
       "      <th>F1-Score - Fake Headlines</th>\n",
       "      <th>F1-Score - Valid Headlines</th>\n",
       "    </tr>\n",
       "  </thead>\n",
       "  <tbody>\n",
       "    <tr>\n",
       "      <th>4</th>\n",
       "      <td>2gram</td>\n",
       "      <td>Random Forest</td>\n",
       "      <td>0.99937</td>\n",
       "      <td>0.61392</td>\n",
       "      <td>0.57</td>\n",
       "      <td>0.87</td>\n",
       "      <td>0.96</td>\n",
       "      <td>0.27</td>\n",
       "      <td>0.71</td>\n",
       "      <td>0.41</td>\n",
       "    </tr>\n",
       "    <tr>\n",
       "      <th>5</th>\n",
       "      <td>2gram</td>\n",
       "      <td>Gradient Boosting</td>\n",
       "      <td>0.65484</td>\n",
       "      <td>0.59747</td>\n",
       "      <td>0.56</td>\n",
       "      <td>0.83</td>\n",
       "      <td>0.95</td>\n",
       "      <td>0.25</td>\n",
       "      <td>0.70</td>\n",
       "      <td>0.39</td>\n",
       "    </tr>\n",
       "    <tr>\n",
       "      <th>6</th>\n",
       "      <td>1gram/2gram</td>\n",
       "      <td>Logistic Regression</td>\n",
       "      <td>1.0</td>\n",
       "      <td>0.781013</td>\n",
       "      <td>0.76</td>\n",
       "      <td>0.81</td>\n",
       "      <td>0.82</td>\n",
       "      <td>0.74</td>\n",
       "      <td>0.79</td>\n",
       "      <td>0.77</td>\n",
       "    </tr>\n",
       "    <tr>\n",
       "      <th>7</th>\n",
       "      <td>1gram/2gram</td>\n",
       "      <td>Random Forest</td>\n",
       "      <td>1.0</td>\n",
       "      <td>0.72911</td>\n",
       "      <td>0.69</td>\n",
       "      <td>0.79</td>\n",
       "      <td>0.83</td>\n",
       "      <td>0.63</td>\n",
       "      <td>0.75</td>\n",
       "      <td>0.70</td>\n",
       "    </tr>\n",
       "    <tr>\n",
       "      <th>8</th>\n",
       "      <td>1gram/2gram</td>\n",
       "      <td>Gradient Boosting</td>\n",
       "      <td>0.75174</td>\n",
       "      <td>0.70379</td>\n",
       "      <td>0.68</td>\n",
       "      <td>0.73</td>\n",
       "      <td>0.76</td>\n",
       "      <td>0.65</td>\n",
       "      <td>0.72</td>\n",
       "      <td>0.69</td>\n",
       "    </tr>\n",
       "  </tbody>\n",
       "</table>\n",
       "</div>"
      ],
      "text/plain": [
       "  F. E. Method           Model Name Training Set Score Test Set Score  \\\n",
       "4        2gram        Random Forest            0.99937        0.61392   \n",
       "5        2gram    Gradient Boosting            0.65484        0.59747   \n",
       "6  1gram/2gram  Logistic Regression                1.0       0.781013   \n",
       "7  1gram/2gram        Random Forest                1.0        0.72911   \n",
       "8  1gram/2gram    Gradient Boosting            0.75174        0.70379   \n",
       "\n",
       "  Precision - Fake Headlines Precision - Valid Headlines  \\\n",
       "4                       0.57                        0.87   \n",
       "5                       0.56                        0.83   \n",
       "6                       0.76                        0.81   \n",
       "7                       0.69                        0.79   \n",
       "8                       0.68                        0.73   \n",
       "\n",
       "  Recall - Fake Headlines Recall - Valid Headlines F1-Score - Fake Headlines  \\\n",
       "4                    0.96                     0.27                      0.71   \n",
       "5                    0.95                     0.25                      0.70   \n",
       "6                    0.82                     0.74                      0.79   \n",
       "7                    0.83                     0.63                      0.75   \n",
       "8                    0.76                     0.65                      0.72   \n",
       "\n",
       "  F1-Score - Valid Headlines  \n",
       "4                       0.41  \n",
       "5                       0.39  \n",
       "6                       0.77  \n",
       "7                       0.70  \n",
       "8                       0.69  "
      ]
     },
     "execution_count": 248,
     "metadata": {},
     "output_type": "execute_result"
    }
   ],
   "source": [
    "stats_df.tail()"
   ]
  },
  {
   "cell_type": "markdown",
   "metadata": {
    "slideshow": {
     "slide_type": "slide"
    }
   },
   "source": [
    "# 3gram"
   ]
  },
  {
   "cell_type": "code",
   "execution_count": 164,
   "metadata": {
    "slideshow": {
     "slide_type": "subslide"
    }
   },
   "outputs": [
    {
     "data": {
      "text/html": [
       "<div>\n",
       "<style scoped>\n",
       "    .dataframe tbody tr th:only-of-type {\n",
       "        vertical-align: middle;\n",
       "    }\n",
       "\n",
       "    .dataframe tbody tr th {\n",
       "        vertical-align: top;\n",
       "    }\n",
       "\n",
       "    .dataframe thead th {\n",
       "        text-align: right;\n",
       "    }\n",
       "</style>\n",
       "<table border=\"1\" class=\"dataframe\">\n",
       "  <thead>\n",
       "    <tr style=\"text-align: right;\">\n",
       "      <th></th>\n",
       "      <th>000 000 in</th>\n",
       "      <th>000 amazon workers</th>\n",
       "      <th>000 americans killed</th>\n",
       "      <th>000 americans sign</th>\n",
       "      <th>000 child cases</th>\n",
       "      <th>000 coronavirus infected</th>\n",
       "      <th>000 corpses in</th>\n",
       "      <th>000 covid 19</th>\n",
       "      <th>000 dead trump</th>\n",
       "      <th>000 employees have</th>\n",
       "      <th>...</th>\n",
       "      <th>zoo separates parrots</th>\n",
       "      <th>zoologists thrilled after</th>\n",
       "      <th>zoom camera keeps</th>\n",
       "      <th>zoom for table</th>\n",
       "      <th>zoom lifted the</th>\n",
       "      <th>zoom thanksgiving dinner</th>\n",
       "      <th>zuckerberg announces virtual</th>\n",
       "      <th>zverev in action</th>\n",
       "      <th>Headlines</th>\n",
       "      <th>Valid Source</th>\n",
       "    </tr>\n",
       "  </thead>\n",
       "  <tbody>\n",
       "    <tr>\n",
       "      <th>0</th>\n",
       "      <td>0.0</td>\n",
       "      <td>0.0</td>\n",
       "      <td>0.0</td>\n",
       "      <td>0.0</td>\n",
       "      <td>0.0</td>\n",
       "      <td>0.0</td>\n",
       "      <td>0.0</td>\n",
       "      <td>0.0</td>\n",
       "      <td>0.0</td>\n",
       "      <td>0.0</td>\n",
       "      <td>...</td>\n",
       "      <td>0.0</td>\n",
       "      <td>0.0</td>\n",
       "      <td>0.0</td>\n",
       "      <td>0.0</td>\n",
       "      <td>0.0</td>\n",
       "      <td>0.0</td>\n",
       "      <td>0.0</td>\n",
       "      <td>0.0</td>\n",
       "      <td>Chris Wallace: Trump \"bears the primary respon...</td>\n",
       "      <td>1.0</td>\n",
       "    </tr>\n",
       "    <tr>\n",
       "      <th>1</th>\n",
       "      <td>0.0</td>\n",
       "      <td>0.0</td>\n",
       "      <td>0.0</td>\n",
       "      <td>0.0</td>\n",
       "      <td>0.0</td>\n",
       "      <td>0.0</td>\n",
       "      <td>0.0</td>\n",
       "      <td>0.0</td>\n",
       "      <td>0.0</td>\n",
       "      <td>0.0</td>\n",
       "      <td>...</td>\n",
       "      <td>0.0</td>\n",
       "      <td>0.0</td>\n",
       "      <td>0.0</td>\n",
       "      <td>0.0</td>\n",
       "      <td>0.0</td>\n",
       "      <td>0.0</td>\n",
       "      <td>0.0</td>\n",
       "      <td>0.0</td>\n",
       "      <td>Biden to expand voter outreach with in-person ...</td>\n",
       "      <td>1.0</td>\n",
       "    </tr>\n",
       "    <tr>\n",
       "      <th>2</th>\n",
       "      <td>0.0</td>\n",
       "      <td>0.0</td>\n",
       "      <td>0.0</td>\n",
       "      <td>0.0</td>\n",
       "      <td>0.0</td>\n",
       "      <td>0.0</td>\n",
       "      <td>0.0</td>\n",
       "      <td>0.0</td>\n",
       "      <td>0.0</td>\n",
       "      <td>0.0</td>\n",
       "      <td>...</td>\n",
       "      <td>0.0</td>\n",
       "      <td>0.0</td>\n",
       "      <td>0.0</td>\n",
       "      <td>0.0</td>\n",
       "      <td>0.0</td>\n",
       "      <td>0.0</td>\n",
       "      <td>0.0</td>\n",
       "      <td>0.0</td>\n",
       "      <td>Doomsday has arrived for tens of thousands of ...</td>\n",
       "      <td>1.0</td>\n",
       "    </tr>\n",
       "    <tr>\n",
       "      <th>3</th>\n",
       "      <td>0.0</td>\n",
       "      <td>0.0</td>\n",
       "      <td>0.0</td>\n",
       "      <td>0.0</td>\n",
       "      <td>0.0</td>\n",
       "      <td>0.0</td>\n",
       "      <td>0.0</td>\n",
       "      <td>0.0</td>\n",
       "      <td>0.0</td>\n",
       "      <td>0.0</td>\n",
       "      <td>...</td>\n",
       "      <td>0.0</td>\n",
       "      <td>0.0</td>\n",
       "      <td>0.0</td>\n",
       "      <td>0.0</td>\n",
       "      <td>0.0</td>\n",
       "      <td>0.0</td>\n",
       "      <td>0.0</td>\n",
       "      <td>0.0</td>\n",
       "      <td>Pfizer CEO: COVID-19 vaccine development is \"m...</td>\n",
       "      <td>1.0</td>\n",
       "    </tr>\n",
       "    <tr>\n",
       "      <th>4</th>\n",
       "      <td>0.0</td>\n",
       "      <td>0.0</td>\n",
       "      <td>0.0</td>\n",
       "      <td>0.0</td>\n",
       "      <td>0.0</td>\n",
       "      <td>0.0</td>\n",
       "      <td>0.0</td>\n",
       "      <td>0.0</td>\n",
       "      <td>0.0</td>\n",
       "      <td>0.0</td>\n",
       "      <td>...</td>\n",
       "      <td>0.0</td>\n",
       "      <td>0.0</td>\n",
       "      <td>0.0</td>\n",
       "      <td>0.0</td>\n",
       "      <td>0.0</td>\n",
       "      <td>0.0</td>\n",
       "      <td>0.0</td>\n",
       "      <td>0.0</td>\n",
       "      <td>Anne Helen Petersen on America's burnout epidemic</td>\n",
       "      <td>1.0</td>\n",
       "    </tr>\n",
       "  </tbody>\n",
       "</table>\n",
       "<p>5 rows × 33242 columns</p>\n",
       "</div>"
      ],
      "text/plain": [
       "   000 000 in  000 amazon workers  000 americans killed  000 americans sign  \\\n",
       "0         0.0                 0.0                   0.0                 0.0   \n",
       "1         0.0                 0.0                   0.0                 0.0   \n",
       "2         0.0                 0.0                   0.0                 0.0   \n",
       "3         0.0                 0.0                   0.0                 0.0   \n",
       "4         0.0                 0.0                   0.0                 0.0   \n",
       "\n",
       "   000 child cases  000 coronavirus infected  000 corpses in  000 covid 19  \\\n",
       "0              0.0                       0.0             0.0           0.0   \n",
       "1              0.0                       0.0             0.0           0.0   \n",
       "2              0.0                       0.0             0.0           0.0   \n",
       "3              0.0                       0.0             0.0           0.0   \n",
       "4              0.0                       0.0             0.0           0.0   \n",
       "\n",
       "   000 dead trump  000 employees have  ...  zoo separates parrots  \\\n",
       "0             0.0                 0.0  ...                    0.0   \n",
       "1             0.0                 0.0  ...                    0.0   \n",
       "2             0.0                 0.0  ...                    0.0   \n",
       "3             0.0                 0.0  ...                    0.0   \n",
       "4             0.0                 0.0  ...                    0.0   \n",
       "\n",
       "   zoologists thrilled after  zoom camera keeps  zoom for table  \\\n",
       "0                        0.0                0.0             0.0   \n",
       "1                        0.0                0.0             0.0   \n",
       "2                        0.0                0.0             0.0   \n",
       "3                        0.0                0.0             0.0   \n",
       "4                        0.0                0.0             0.0   \n",
       "\n",
       "   zoom lifted the  zoom thanksgiving dinner  zuckerberg announces virtual  \\\n",
       "0              0.0                       0.0                           0.0   \n",
       "1              0.0                       0.0                           0.0   \n",
       "2              0.0                       0.0                           0.0   \n",
       "3              0.0                       0.0                           0.0   \n",
       "4              0.0                       0.0                           0.0   \n",
       "\n",
       "   zverev in action                                          Headlines  \\\n",
       "0               0.0  Chris Wallace: Trump \"bears the primary respon...   \n",
       "1               0.0  Biden to expand voter outreach with in-person ...   \n",
       "2               0.0  Doomsday has arrived for tens of thousands of ...   \n",
       "3               0.0  Pfizer CEO: COVID-19 vaccine development is \"m...   \n",
       "4               0.0  Anne Helen Petersen on America's burnout epidemic   \n",
       "\n",
       "   Valid Source  \n",
       "0           1.0  \n",
       "1           1.0  \n",
       "2           1.0  \n",
       "3           1.0  \n",
       "4           1.0  \n",
       "\n",
       "[5 rows x 33242 columns]"
      ]
     },
     "execution_count": 164,
     "metadata": {},
     "output_type": "execute_result"
    }
   ],
   "source": [
    "vectorizer = CountVectorizer(analyzer='word', ngram_range=(3,3))\n",
    "X = vectorizer.fit_transform(news_headlines['Headlines'])\n",
    "bow_df = pd.DataFrame(X.toarray(), columns=vectorizer.get_feature_names())\n",
    "three_gram_headlines = pd.concat([bow_df, news_headlines[['Headlines', 'Valid Source']]], axis=1)\n",
    "three_gram_headlines.head()"
   ]
  },
  {
   "cell_type": "code",
   "execution_count": 165,
   "metadata": {
    "slideshow": {
     "slide_type": "skip"
    }
   },
   "outputs": [
    {
     "data": {
      "text/plain": [
       "000 000 in                      2\n",
       "000 amazon workers              2\n",
       "000 americans killed            2\n",
       "000 americans sign              2\n",
       "000 child cases                 2\n",
       "                               ..\n",
       "zoom thanksgiving dinner        2\n",
       "zuckerberg announces virtual    2\n",
       "zverev in action                2\n",
       "Headlines                       2\n",
       "Valid Source                    2\n",
       "Length: 33242, dtype: int64"
      ]
     },
     "execution_count": 165,
     "metadata": {},
     "output_type": "execute_result"
    }
   ],
   "source": [
    "# check for null values\n",
    "\n",
    "three_gram_headlines.isnull().sum()"
   ]
  },
  {
   "cell_type": "code",
   "execution_count": 166,
   "metadata": {
    "slideshow": {
     "slide_type": "skip"
    }
   },
   "outputs": [],
   "source": [
    "three_gram_headlines.dropna(inplace=True)"
   ]
  },
  {
   "cell_type": "code",
   "execution_count": 167,
   "metadata": {
    "slideshow": {
     "slide_type": "skip"
    }
   },
   "outputs": [
    {
     "data": {
      "text/plain": [
       "000 000 in                      0\n",
       "000 amazon workers              0\n",
       "000 americans killed            0\n",
       "000 americans sign              0\n",
       "000 child cases                 0\n",
       "                               ..\n",
       "zoom thanksgiving dinner        0\n",
       "zuckerberg announces virtual    0\n",
       "zverev in action                0\n",
       "Headlines                       0\n",
       "Valid Source                    0\n",
       "Length: 33242, dtype: int64"
      ]
     },
     "execution_count": 167,
     "metadata": {},
     "output_type": "execute_result"
    }
   ],
   "source": [
    "# confirm that null values have been dropped\n",
    "\n",
    "three_gram_headlines.isnull().sum()"
   ]
  },
  {
   "cell_type": "code",
   "execution_count": 168,
   "metadata": {
    "slideshow": {
     "slide_type": "subslide"
    }
   },
   "outputs": [],
   "source": [
    "# split\n",
    "\n",
    "Y = three_gram_headlines['Valid Source']\n",
    "X = np.array(three_gram_headlines.drop(['Headlines','Valid Source'], 1))\n",
    "\n",
    "X_train, X_test, y_train, y_test = train_test_split(X, Y, test_size=0.2, random_state=123)"
   ]
  },
  {
   "cell_type": "markdown",
   "metadata": {
    "slideshow": {
     "slide_type": "subslide"
    }
   },
   "source": [
    "### Logistic Regression Model & Scores - 3gram"
   ]
  },
  {
   "cell_type": "code",
   "execution_count": 169,
   "metadata": {
    "slideshow": {
     "slide_type": "subslide"
    }
   },
   "outputs": [],
   "source": [
    "# initial setup\n",
    "\n",
    "lr = LogisticRegression()\n",
    "lr.fit(X_train, y_train)\n",
    "lr_predictions = lr.predict(X_test)\n",
    "lr_confusion = confusion_matrix(y_test, lr_predictions, labels=[1, 0])"
   ]
  },
  {
   "cell_type": "code",
   "execution_count": 170,
   "metadata": {
    "slideshow": {
     "slide_type": "subslide"
    }
   },
   "outputs": [
    {
     "data": {
      "image/png": "[encoded data removed]",
      "text/plain": [
       "<Figure size 576x432 with 2 Axes>"
      ]
     },
     "metadata": {
      "needs_background": "light"
     },
     "output_type": "display_data"
    }
   ],
   "source": [
    "plot_confusion_matrix(cm=lr_confusion, target_names = ['Valid Headlines', 'Fake Headlines'], title = 'Confusion Matrix - Logistic Regression', normalize=False)"
   ]
  },
  {
   "cell_type": "code",
   "execution_count": 171,
   "metadata": {
    "slideshow": {
     "slide_type": "subslide"
    }
   },
   "outputs": [
    {
     "name": "stdout",
     "output_type": "stream",
     "text": [
      "----------------------Logistic Regression Report - 3gram----------------------\n",
      "\n",
      "                 precision    recall  f1-score   support\n",
      "\n",
      " Fake Headlines       0.55      0.94      0.70       393\n",
      "Valid Headlines       0.81      0.24      0.37       397\n",
      "\n",
      "       accuracy                           0.59       790\n",
      "      macro avg       0.68      0.59      0.53       790\n",
      "   weighted avg       0.68      0.59      0.53       790\n",
      "\n",
      "Training set score: 0.999366687777074\n",
      "Test set score: 0.5911392405063292\n"
     ]
    }
   ],
   "source": [
    "# print report - fake & valid headlines - logistic regression\n",
    "\n",
    "print('----------------------Logistic Regression Report - 3gram----------------------\\n')\n",
    "print(classification_report(y_test, lr_predictions, target_names=['Fake Headlines', 'Valid Headlines']))\n",
    "print('Training set score:', lr.score(X_train, y_train))\n",
    "print('Test set score:', lr.score(X_test, y_test))"
   ]
  },
  {
   "cell_type": "code",
   "execution_count": 249,
   "metadata": {
    "slideshow": {
     "slide_type": "skip"
    }
   },
   "outputs": [],
   "source": [
    "# update stats\n",
    "\n",
    "stats_df = stats_df.append(pd.Series(['3gram','Logistic Regression',\n",
    "              '0.99937', '0.59113', '0.55', '0.81', '0.94', '0.24', '0.70', \n",
    "                '0.37'], index=stats_df.columns), ignore_index=True)"
   ]
  },
  {
   "cell_type": "code",
   "execution_count": 250,
   "metadata": {
    "slideshow": {
     "slide_type": "skip"
    }
   },
   "outputs": [
    {
     "data": {
      "text/html": [
       "<div>\n",
       "<style scoped>\n",
       "    .dataframe tbody tr th:only-of-type {\n",
       "        vertical-align: middle;\n",
       "    }\n",
       "\n",
       "    .dataframe tbody tr th {\n",
       "        vertical-align: top;\n",
       "    }\n",
       "\n",
       "    .dataframe thead th {\n",
       "        text-align: right;\n",
       "    }\n",
       "</style>\n",
       "<table border=\"1\" class=\"dataframe\">\n",
       "  <thead>\n",
       "    <tr style=\"text-align: right;\">\n",
       "      <th></th>\n",
       "      <th>F. E. Method</th>\n",
       "      <th>Model Name</th>\n",
       "      <th>Training Set Score</th>\n",
       "      <th>Test Set Score</th>\n",
       "      <th>Precision - Fake Headlines</th>\n",
       "      <th>Precision - Valid Headlines</th>\n",
       "      <th>Recall - Fake Headlines</th>\n",
       "      <th>Recall - Valid Headlines</th>\n",
       "      <th>F1-Score - Fake Headlines</th>\n",
       "      <th>F1-Score - Valid Headlines</th>\n",
       "    </tr>\n",
       "  </thead>\n",
       "  <tbody>\n",
       "    <tr>\n",
       "      <th>5</th>\n",
       "      <td>2gram</td>\n",
       "      <td>Gradient Boosting</td>\n",
       "      <td>0.65484</td>\n",
       "      <td>0.59747</td>\n",
       "      <td>0.56</td>\n",
       "      <td>0.83</td>\n",
       "      <td>0.95</td>\n",
       "      <td>0.25</td>\n",
       "      <td>0.70</td>\n",
       "      <td>0.39</td>\n",
       "    </tr>\n",
       "    <tr>\n",
       "      <th>6</th>\n",
       "      <td>1gram/2gram</td>\n",
       "      <td>Logistic Regression</td>\n",
       "      <td>1.0</td>\n",
       "      <td>0.781013</td>\n",
       "      <td>0.76</td>\n",
       "      <td>0.81</td>\n",
       "      <td>0.82</td>\n",
       "      <td>0.74</td>\n",
       "      <td>0.79</td>\n",
       "      <td>0.77</td>\n",
       "    </tr>\n",
       "    <tr>\n",
       "      <th>7</th>\n",
       "      <td>1gram/2gram</td>\n",
       "      <td>Random Forest</td>\n",
       "      <td>1.0</td>\n",
       "      <td>0.72911</td>\n",
       "      <td>0.69</td>\n",
       "      <td>0.79</td>\n",
       "      <td>0.83</td>\n",
       "      <td>0.63</td>\n",
       "      <td>0.75</td>\n",
       "      <td>0.70</td>\n",
       "    </tr>\n",
       "    <tr>\n",
       "      <th>8</th>\n",
       "      <td>1gram/2gram</td>\n",
       "      <td>Gradient Boosting</td>\n",
       "      <td>0.75174</td>\n",
       "      <td>0.70379</td>\n",
       "      <td>0.68</td>\n",
       "      <td>0.73</td>\n",
       "      <td>0.76</td>\n",
       "      <td>0.65</td>\n",
       "      <td>0.72</td>\n",
       "      <td>0.69</td>\n",
       "    </tr>\n",
       "    <tr>\n",
       "      <th>9</th>\n",
       "      <td>3gram</td>\n",
       "      <td>Logistic Regression</td>\n",
       "      <td>0.99937</td>\n",
       "      <td>0.59113</td>\n",
       "      <td>0.55</td>\n",
       "      <td>0.81</td>\n",
       "      <td>0.94</td>\n",
       "      <td>0.24</td>\n",
       "      <td>0.70</td>\n",
       "      <td>0.37</td>\n",
       "    </tr>\n",
       "  </tbody>\n",
       "</table>\n",
       "</div>"
      ],
      "text/plain": [
       "  F. E. Method           Model Name Training Set Score Test Set Score  \\\n",
       "5        2gram    Gradient Boosting            0.65484        0.59747   \n",
       "6  1gram/2gram  Logistic Regression                1.0       0.781013   \n",
       "7  1gram/2gram        Random Forest                1.0        0.72911   \n",
       "8  1gram/2gram    Gradient Boosting            0.75174        0.70379   \n",
       "9        3gram  Logistic Regression            0.99937        0.59113   \n",
       "\n",
       "  Precision - Fake Headlines Precision - Valid Headlines  \\\n",
       "5                       0.56                        0.83   \n",
       "6                       0.76                        0.81   \n",
       "7                       0.69                        0.79   \n",
       "8                       0.68                        0.73   \n",
       "9                       0.55                        0.81   \n",
       "\n",
       "  Recall - Fake Headlines Recall - Valid Headlines F1-Score - Fake Headlines  \\\n",
       "5                    0.95                     0.25                      0.70   \n",
       "6                    0.82                     0.74                      0.79   \n",
       "7                    0.83                     0.63                      0.75   \n",
       "8                    0.76                     0.65                      0.72   \n",
       "9                    0.94                     0.24                      0.70   \n",
       "\n",
       "  F1-Score - Valid Headlines  \n",
       "5                       0.39  \n",
       "6                       0.77  \n",
       "7                       0.70  \n",
       "8                       0.69  \n",
       "9                       0.37  "
      ]
     },
     "execution_count": 250,
     "metadata": {},
     "output_type": "execute_result"
    }
   ],
   "source": [
    "stats_df.tail()"
   ]
  },
  {
   "cell_type": "markdown",
   "metadata": {
    "slideshow": {
     "slide_type": "subslide"
    }
   },
   "source": [
    "### Random Forest Model & Scores - 3gram"
   ]
  },
  {
   "cell_type": "code",
   "execution_count": 174,
   "metadata": {
    "slideshow": {
     "slide_type": "subslide"
    }
   },
   "outputs": [],
   "source": [
    "# initial setup\n",
    "\n",
    "rfc = RandomForestClassifier()\n",
    "rfc.fit(X_train, y_train)\n",
    "rfc_predictions = rfc.predict(X_test)\n",
    "rfc_confusion = confusion_matrix(y_test, rfc_predictions, labels=[1, 0])"
   ]
  },
  {
   "cell_type": "code",
   "execution_count": 175,
   "metadata": {
    "slideshow": {
     "slide_type": "subslide"
    }
   },
   "outputs": [
    {
     "data": {
      "image/png": "[encoded data removed]",
      "text/plain": [
       "<Figure size 576x432 with 2 Axes>"
      ]
     },
     "metadata": {
      "needs_background": "light"
     },
     "output_type": "display_data"
    }
   ],
   "source": [
    "plot_confusion_matrix(cm=rfc_confusion, target_names = ['Valid Headlines', 'Fake Headlines'], title = 'Confusion Matrix - RFC', normalize=False)"
   ]
  },
  {
   "cell_type": "code",
   "execution_count": 176,
   "metadata": {
    "slideshow": {
     "slide_type": "subslide"
    }
   },
   "outputs": [
    {
     "name": "stdout",
     "output_type": "stream",
     "text": [
      "----------------------Random Forest Report - 3gram----------------------\n",
      "\n",
      "                 precision    recall  f1-score   support\n",
      "\n",
      " Fake Headlines       0.52      0.99      0.68       393\n",
      "Valid Headlines       0.90      0.09      0.17       397\n",
      "\n",
      "       accuracy                           0.54       790\n",
      "      macro avg       0.71      0.54      0.43       790\n",
      "   weighted avg       0.71      0.54      0.42       790\n",
      "\n",
      "Training set score: 0.999366687777074\n",
      "Test set score: 0.5392405063291139\n"
     ]
    }
   ],
   "source": [
    "# print report - fake & valid headlines - rfc\n",
    "\n",
    "print('----------------------Random Forest Report - 3gram----------------------\\n')\n",
    "print(classification_report(y_test, rfc_predictions, target_names=['Fake Headlines', 'Valid Headlines']))\n",
    "print('Training set score:', rfc.score(X_train, y_train))\n",
    "print('Test set score:', rfc.score(X_test, y_test))"
   ]
  },
  {
   "cell_type": "code",
   "execution_count": 251,
   "metadata": {
    "slideshow": {
     "slide_type": "skip"
    }
   },
   "outputs": [],
   "source": [
    "# update stats\n",
    "\n",
    "stats_df = stats_df.append(pd.Series(['3gram','Random Forest',\n",
    "              '0.99937', '0.53924', '0.52', '0.90', '0.99', '0.09', '0.68', \n",
    "                '0.17'], index=stats_df.columns), ignore_index=True)"
   ]
  },
  {
   "cell_type": "code",
   "execution_count": 252,
   "metadata": {
    "slideshow": {
     "slide_type": "skip"
    }
   },
   "outputs": [
    {
     "data": {
      "text/html": [
       "<div>\n",
       "<style scoped>\n",
       "    .dataframe tbody tr th:only-of-type {\n",
       "        vertical-align: middle;\n",
       "    }\n",
       "\n",
       "    .dataframe tbody tr th {\n",
       "        vertical-align: top;\n",
       "    }\n",
       "\n",
       "    .dataframe thead th {\n",
       "        text-align: right;\n",
       "    }\n",
       "</style>\n",
       "<table border=\"1\" class=\"dataframe\">\n",
       "  <thead>\n",
       "    <tr style=\"text-align: right;\">\n",
       "      <th></th>\n",
       "      <th>F. E. Method</th>\n",
       "      <th>Model Name</th>\n",
       "      <th>Training Set Score</th>\n",
       "      <th>Test Set Score</th>\n",
       "      <th>Precision - Fake Headlines</th>\n",
       "      <th>Precision - Valid Headlines</th>\n",
       "      <th>Recall - Fake Headlines</th>\n",
       "      <th>Recall - Valid Headlines</th>\n",
       "      <th>F1-Score - Fake Headlines</th>\n",
       "      <th>F1-Score - Valid Headlines</th>\n",
       "    </tr>\n",
       "  </thead>\n",
       "  <tbody>\n",
       "    <tr>\n",
       "      <th>6</th>\n",
       "      <td>1gram/2gram</td>\n",
       "      <td>Logistic Regression</td>\n",
       "      <td>1.0</td>\n",
       "      <td>0.781013</td>\n",
       "      <td>0.76</td>\n",
       "      <td>0.81</td>\n",
       "      <td>0.82</td>\n",
       "      <td>0.74</td>\n",
       "      <td>0.79</td>\n",
       "      <td>0.77</td>\n",
       "    </tr>\n",
       "    <tr>\n",
       "      <th>7</th>\n",
       "      <td>1gram/2gram</td>\n",
       "      <td>Random Forest</td>\n",
       "      <td>1.0</td>\n",
       "      <td>0.72911</td>\n",
       "      <td>0.69</td>\n",
       "      <td>0.79</td>\n",
       "      <td>0.83</td>\n",
       "      <td>0.63</td>\n",
       "      <td>0.75</td>\n",
       "      <td>0.70</td>\n",
       "    </tr>\n",
       "    <tr>\n",
       "      <th>8</th>\n",
       "      <td>1gram/2gram</td>\n",
       "      <td>Gradient Boosting</td>\n",
       "      <td>0.75174</td>\n",
       "      <td>0.70379</td>\n",
       "      <td>0.68</td>\n",
       "      <td>0.73</td>\n",
       "      <td>0.76</td>\n",
       "      <td>0.65</td>\n",
       "      <td>0.72</td>\n",
       "      <td>0.69</td>\n",
       "    </tr>\n",
       "    <tr>\n",
       "      <th>9</th>\n",
       "      <td>3gram</td>\n",
       "      <td>Logistic Regression</td>\n",
       "      <td>0.99937</td>\n",
       "      <td>0.59113</td>\n",
       "      <td>0.55</td>\n",
       "      <td>0.81</td>\n",
       "      <td>0.94</td>\n",
       "      <td>0.24</td>\n",
       "      <td>0.70</td>\n",
       "      <td>0.37</td>\n",
       "    </tr>\n",
       "    <tr>\n",
       "      <th>10</th>\n",
       "      <td>3gram</td>\n",
       "      <td>Random Forest</td>\n",
       "      <td>0.99937</td>\n",
       "      <td>0.53924</td>\n",
       "      <td>0.52</td>\n",
       "      <td>0.90</td>\n",
       "      <td>0.99</td>\n",
       "      <td>0.09</td>\n",
       "      <td>0.68</td>\n",
       "      <td>0.17</td>\n",
       "    </tr>\n",
       "  </tbody>\n",
       "</table>\n",
       "</div>"
      ],
      "text/plain": [
       "   F. E. Method           Model Name Training Set Score Test Set Score  \\\n",
       "6   1gram/2gram  Logistic Regression                1.0       0.781013   \n",
       "7   1gram/2gram        Random Forest                1.0        0.72911   \n",
       "8   1gram/2gram    Gradient Boosting            0.75174        0.70379   \n",
       "9         3gram  Logistic Regression            0.99937        0.59113   \n",
       "10        3gram        Random Forest            0.99937        0.53924   \n",
       "\n",
       "   Precision - Fake Headlines Precision - Valid Headlines  \\\n",
       "6                        0.76                        0.81   \n",
       "7                        0.69                        0.79   \n",
       "8                        0.68                        0.73   \n",
       "9                        0.55                        0.81   \n",
       "10                       0.52                        0.90   \n",
       "\n",
       "   Recall - Fake Headlines Recall - Valid Headlines F1-Score - Fake Headlines  \\\n",
       "6                     0.82                     0.74                      0.79   \n",
       "7                     0.83                     0.63                      0.75   \n",
       "8                     0.76                     0.65                      0.72   \n",
       "9                     0.94                     0.24                      0.70   \n",
       "10                    0.99                     0.09                      0.68   \n",
       "\n",
       "   F1-Score - Valid Headlines  \n",
       "6                        0.77  \n",
       "7                        0.70  \n",
       "8                        0.69  \n",
       "9                        0.37  \n",
       "10                       0.17  "
      ]
     },
     "execution_count": 252,
     "metadata": {},
     "output_type": "execute_result"
    }
   ],
   "source": [
    "stats_df.tail()"
   ]
  },
  {
   "cell_type": "markdown",
   "metadata": {
    "slideshow": {
     "slide_type": "subslide"
    }
   },
   "source": [
    "### Gradient-Boosting Model & Scores - 3gram"
   ]
  },
  {
   "cell_type": "code",
   "execution_count": 177,
   "metadata": {
    "slideshow": {
     "slide_type": "subslide"
    }
   },
   "outputs": [],
   "source": [
    "# gradient-boosting model & scores\n",
    "\n",
    "gbc = GradientBoostingClassifier()\n",
    "gbc.fit(X_train, y_train)\n",
    "gbc_predictions = gbc.predict(X_test)\n",
    "gbc_confusion = confusion_matrix(y_test, gbc_predictions, labels=[1 ,0])"
   ]
  },
  {
   "cell_type": "code",
   "execution_count": 178,
   "metadata": {
    "slideshow": {
     "slide_type": "subslide"
    }
   },
   "outputs": [
    {
     "data": {
      "image/png": "[encoded data removed]",
      "text/plain": [
       "<Figure size 576x432 with 2 Axes>"
      ]
     },
     "metadata": {
      "needs_background": "light"
     },
     "output_type": "display_data"
    }
   ],
   "source": [
    "plot_confusion_matrix(cm=gbc_confusion, target_names = ['Valid Headlines', 'Fake Headlines'], title = 'Confusion Matrix - Gradient-Boosting', normalize=False)"
   ]
  },
  {
   "cell_type": "code",
   "execution_count": 179,
   "metadata": {
    "slideshow": {
     "slide_type": "subslide"
    }
   },
   "outputs": [
    {
     "name": "stdout",
     "output_type": "stream",
     "text": [
      "----------------------Gradient-Boosting Report - 3gram----------------------\n",
      "\n",
      "                 precision    recall  f1-score   support\n",
      "\n",
      " Fake Headlines       0.52      0.99      0.68       393\n",
      "Valid Headlines       0.89      0.10      0.19       397\n",
      "\n",
      "       accuracy                           0.54       790\n",
      "      macro avg       0.71      0.55      0.43       790\n",
      "   weighted avg       0.71      0.54      0.43       790\n",
      "\n",
      "Training set score: 0.6272957568081063\n",
      "Test set score: 0.5430379746835443\n"
     ]
    }
   ],
   "source": [
    "# print report - fake & valid headlines - gradient-boosting\n",
    "\n",
    "print('----------------------Gradient-Boosting Report - 3gram----------------------\\n')\n",
    "print(classification_report(y_test, gbc_predictions, target_names=['Fake Headlines', 'Valid Headlines']))\n",
    "print('Training set score:', gbc.score(X_train, y_train))\n",
    "print('Test set score:', gbc.score(X_test, y_test))"
   ]
  },
  {
   "cell_type": "code",
   "execution_count": 253,
   "metadata": {
    "slideshow": {
     "slide_type": "skip"
    }
   },
   "outputs": [],
   "source": [
    "# update stats\n",
    "\n",
    "stats_df = stats_df.append(pd.Series(['3gram','Gradient Boosting',\n",
    "              '0.62729', '0.54303', '0.52', '0.89', '0.99', '0.10', '0.68', \n",
    "                '0.19'], index=stats_df.columns), ignore_index=True)"
   ]
  },
  {
   "cell_type": "code",
   "execution_count": 254,
   "metadata": {
    "slideshow": {
     "slide_type": "skip"
    }
   },
   "outputs": [
    {
     "data": {
      "text/html": [
       "<div>\n",
       "<style scoped>\n",
       "    .dataframe tbody tr th:only-of-type {\n",
       "        vertical-align: middle;\n",
       "    }\n",
       "\n",
       "    .dataframe tbody tr th {\n",
       "        vertical-align: top;\n",
       "    }\n",
       "\n",
       "    .dataframe thead th {\n",
       "        text-align: right;\n",
       "    }\n",
       "</style>\n",
       "<table border=\"1\" class=\"dataframe\">\n",
       "  <thead>\n",
       "    <tr style=\"text-align: right;\">\n",
       "      <th></th>\n",
       "      <th>F. E. Method</th>\n",
       "      <th>Model Name</th>\n",
       "      <th>Training Set Score</th>\n",
       "      <th>Test Set Score</th>\n",
       "      <th>Precision - Fake Headlines</th>\n",
       "      <th>Precision - Valid Headlines</th>\n",
       "      <th>Recall - Fake Headlines</th>\n",
       "      <th>Recall - Valid Headlines</th>\n",
       "      <th>F1-Score - Fake Headlines</th>\n",
       "      <th>F1-Score - Valid Headlines</th>\n",
       "    </tr>\n",
       "  </thead>\n",
       "  <tbody>\n",
       "    <tr>\n",
       "      <th>7</th>\n",
       "      <td>1gram/2gram</td>\n",
       "      <td>Random Forest</td>\n",
       "      <td>1.0</td>\n",
       "      <td>0.72911</td>\n",
       "      <td>0.69</td>\n",
       "      <td>0.79</td>\n",
       "      <td>0.83</td>\n",
       "      <td>0.63</td>\n",
       "      <td>0.75</td>\n",
       "      <td>0.70</td>\n",
       "    </tr>\n",
       "    <tr>\n",
       "      <th>8</th>\n",
       "      <td>1gram/2gram</td>\n",
       "      <td>Gradient Boosting</td>\n",
       "      <td>0.75174</td>\n",
       "      <td>0.70379</td>\n",
       "      <td>0.68</td>\n",
       "      <td>0.73</td>\n",
       "      <td>0.76</td>\n",
       "      <td>0.65</td>\n",
       "      <td>0.72</td>\n",
       "      <td>0.69</td>\n",
       "    </tr>\n",
       "    <tr>\n",
       "      <th>9</th>\n",
       "      <td>3gram</td>\n",
       "      <td>Logistic Regression</td>\n",
       "      <td>0.99937</td>\n",
       "      <td>0.59113</td>\n",
       "      <td>0.55</td>\n",
       "      <td>0.81</td>\n",
       "      <td>0.94</td>\n",
       "      <td>0.24</td>\n",
       "      <td>0.70</td>\n",
       "      <td>0.37</td>\n",
       "    </tr>\n",
       "    <tr>\n",
       "      <th>10</th>\n",
       "      <td>3gram</td>\n",
       "      <td>Random Forest</td>\n",
       "      <td>0.99937</td>\n",
       "      <td>0.53924</td>\n",
       "      <td>0.52</td>\n",
       "      <td>0.90</td>\n",
       "      <td>0.99</td>\n",
       "      <td>0.09</td>\n",
       "      <td>0.68</td>\n",
       "      <td>0.17</td>\n",
       "    </tr>\n",
       "    <tr>\n",
       "      <th>11</th>\n",
       "      <td>3gram</td>\n",
       "      <td>Gradient Boosting</td>\n",
       "      <td>0.62729</td>\n",
       "      <td>0.54303</td>\n",
       "      <td>0.52</td>\n",
       "      <td>0.89</td>\n",
       "      <td>0.99</td>\n",
       "      <td>0.10</td>\n",
       "      <td>0.68</td>\n",
       "      <td>0.19</td>\n",
       "    </tr>\n",
       "  </tbody>\n",
       "</table>\n",
       "</div>"
      ],
      "text/plain": [
       "   F. E. Method           Model Name Training Set Score Test Set Score  \\\n",
       "7   1gram/2gram        Random Forest                1.0        0.72911   \n",
       "8   1gram/2gram    Gradient Boosting            0.75174        0.70379   \n",
       "9         3gram  Logistic Regression            0.99937        0.59113   \n",
       "10        3gram        Random Forest            0.99937        0.53924   \n",
       "11        3gram    Gradient Boosting            0.62729        0.54303   \n",
       "\n",
       "   Precision - Fake Headlines Precision - Valid Headlines  \\\n",
       "7                        0.69                        0.79   \n",
       "8                        0.68                        0.73   \n",
       "9                        0.55                        0.81   \n",
       "10                       0.52                        0.90   \n",
       "11                       0.52                        0.89   \n",
       "\n",
       "   Recall - Fake Headlines Recall - Valid Headlines F1-Score - Fake Headlines  \\\n",
       "7                     0.83                     0.63                      0.75   \n",
       "8                     0.76                     0.65                      0.72   \n",
       "9                     0.94                     0.24                      0.70   \n",
       "10                    0.99                     0.09                      0.68   \n",
       "11                    0.99                     0.10                      0.68   \n",
       "\n",
       "   F1-Score - Valid Headlines  \n",
       "7                        0.70  \n",
       "8                        0.69  \n",
       "9                        0.37  \n",
       "10                       0.17  \n",
       "11                       0.19  "
      ]
     },
     "execution_count": 254,
     "metadata": {},
     "output_type": "execute_result"
    }
   ],
   "source": [
    "stats_df.tail()"
   ]
  },
  {
   "cell_type": "markdown",
   "metadata": {
    "slideshow": {
     "slide_type": "slide"
    }
   },
   "source": [
    "## Tf-idf"
   ]
  },
  {
   "cell_type": "code",
   "execution_count": 182,
   "metadata": {
    "slideshow": {
     "slide_type": "subslide"
    }
   },
   "outputs": [
    {
     "data": {
      "text/html": [
       "<div>\n",
       "<style scoped>\n",
       "    .dataframe tbody tr th:only-of-type {\n",
       "        vertical-align: middle;\n",
       "    }\n",
       "\n",
       "    .dataframe tbody tr th {\n",
       "        vertical-align: top;\n",
       "    }\n",
       "\n",
       "    .dataframe thead th {\n",
       "        text-align: right;\n",
       "    }\n",
       "</style>\n",
       "<table border=\"1\" class=\"dataframe\">\n",
       "  <thead>\n",
       "    <tr style=\"text-align: right;\">\n",
       "      <th></th>\n",
       "      <th>000</th>\n",
       "      <th>10</th>\n",
       "      <th>100</th>\n",
       "      <th>100b</th>\n",
       "      <th>100th</th>\n",
       "      <th>101</th>\n",
       "      <th>10m</th>\n",
       "      <th>11</th>\n",
       "      <th>12</th>\n",
       "      <th>120</th>\n",
       "      <th>...</th>\n",
       "      <th>zone</th>\n",
       "      <th>zoo</th>\n",
       "      <th>zoologists</th>\n",
       "      <th>zoom</th>\n",
       "      <th>zoos</th>\n",
       "      <th>zucchini</th>\n",
       "      <th>zuckerberg</th>\n",
       "      <th>zverev</th>\n",
       "      <th>Headlines</th>\n",
       "      <th>Valid Source</th>\n",
       "    </tr>\n",
       "  </thead>\n",
       "  <tbody>\n",
       "    <tr>\n",
       "      <th>0</th>\n",
       "      <td>0.0</td>\n",
       "      <td>0.0</td>\n",
       "      <td>0.0</td>\n",
       "      <td>0.0</td>\n",
       "      <td>0.0</td>\n",
       "      <td>0.0</td>\n",
       "      <td>0.0</td>\n",
       "      <td>0.0</td>\n",
       "      <td>0.0</td>\n",
       "      <td>0.0</td>\n",
       "      <td>...</td>\n",
       "      <td>0.0</td>\n",
       "      <td>0.0</td>\n",
       "      <td>0.0</td>\n",
       "      <td>0.0</td>\n",
       "      <td>0.0</td>\n",
       "      <td>0.0</td>\n",
       "      <td>0.0</td>\n",
       "      <td>0.0</td>\n",
       "      <td>Chris Wallace: Trump \"bears the primary respon...</td>\n",
       "      <td>1.0</td>\n",
       "    </tr>\n",
       "    <tr>\n",
       "      <th>1</th>\n",
       "      <td>0.0</td>\n",
       "      <td>0.0</td>\n",
       "      <td>0.0</td>\n",
       "      <td>0.0</td>\n",
       "      <td>0.0</td>\n",
       "      <td>0.0</td>\n",
       "      <td>0.0</td>\n",
       "      <td>0.0</td>\n",
       "      <td>0.0</td>\n",
       "      <td>0.0</td>\n",
       "      <td>...</td>\n",
       "      <td>0.0</td>\n",
       "      <td>0.0</td>\n",
       "      <td>0.0</td>\n",
       "      <td>0.0</td>\n",
       "      <td>0.0</td>\n",
       "      <td>0.0</td>\n",
       "      <td>0.0</td>\n",
       "      <td>0.0</td>\n",
       "      <td>Biden to expand voter outreach with in-person ...</td>\n",
       "      <td>1.0</td>\n",
       "    </tr>\n",
       "    <tr>\n",
       "      <th>2</th>\n",
       "      <td>0.0</td>\n",
       "      <td>0.0</td>\n",
       "      <td>0.0</td>\n",
       "      <td>0.0</td>\n",
       "      <td>0.0</td>\n",
       "      <td>0.0</td>\n",
       "      <td>0.0</td>\n",
       "      <td>0.0</td>\n",
       "      <td>0.0</td>\n",
       "      <td>0.0</td>\n",
       "      <td>...</td>\n",
       "      <td>0.0</td>\n",
       "      <td>0.0</td>\n",
       "      <td>0.0</td>\n",
       "      <td>0.0</td>\n",
       "      <td>0.0</td>\n",
       "      <td>0.0</td>\n",
       "      <td>0.0</td>\n",
       "      <td>0.0</td>\n",
       "      <td>Doomsday has arrived for tens of thousands of ...</td>\n",
       "      <td>1.0</td>\n",
       "    </tr>\n",
       "    <tr>\n",
       "      <th>3</th>\n",
       "      <td>0.0</td>\n",
       "      <td>0.0</td>\n",
       "      <td>0.0</td>\n",
       "      <td>0.0</td>\n",
       "      <td>0.0</td>\n",
       "      <td>0.0</td>\n",
       "      <td>0.0</td>\n",
       "      <td>0.0</td>\n",
       "      <td>0.0</td>\n",
       "      <td>0.0</td>\n",
       "      <td>...</td>\n",
       "      <td>0.0</td>\n",
       "      <td>0.0</td>\n",
       "      <td>0.0</td>\n",
       "      <td>0.0</td>\n",
       "      <td>0.0</td>\n",
       "      <td>0.0</td>\n",
       "      <td>0.0</td>\n",
       "      <td>0.0</td>\n",
       "      <td>Pfizer CEO: COVID-19 vaccine development is \"m...</td>\n",
       "      <td>1.0</td>\n",
       "    </tr>\n",
       "    <tr>\n",
       "      <th>4</th>\n",
       "      <td>0.0</td>\n",
       "      <td>0.0</td>\n",
       "      <td>0.0</td>\n",
       "      <td>0.0</td>\n",
       "      <td>0.0</td>\n",
       "      <td>0.0</td>\n",
       "      <td>0.0</td>\n",
       "      <td>0.0</td>\n",
       "      <td>0.0</td>\n",
       "      <td>0.0</td>\n",
       "      <td>...</td>\n",
       "      <td>0.0</td>\n",
       "      <td>0.0</td>\n",
       "      <td>0.0</td>\n",
       "      <td>0.0</td>\n",
       "      <td>0.0</td>\n",
       "      <td>0.0</td>\n",
       "      <td>0.0</td>\n",
       "      <td>0.0</td>\n",
       "      <td>Anne Helen Petersen on America's burnout epidemic</td>\n",
       "      <td>1.0</td>\n",
       "    </tr>\n",
       "  </tbody>\n",
       "</table>\n",
       "<p>5 rows × 9380 columns</p>\n",
       "</div>"
      ],
      "text/plain": [
       "   000   10  100  100b  100th  101  10m   11   12  120  ...  zone  zoo  \\\n",
       "0  0.0  0.0  0.0   0.0    0.0  0.0  0.0  0.0  0.0  0.0  ...   0.0  0.0   \n",
       "1  0.0  0.0  0.0   0.0    0.0  0.0  0.0  0.0  0.0  0.0  ...   0.0  0.0   \n",
       "2  0.0  0.0  0.0   0.0    0.0  0.0  0.0  0.0  0.0  0.0  ...   0.0  0.0   \n",
       "3  0.0  0.0  0.0   0.0    0.0  0.0  0.0  0.0  0.0  0.0  ...   0.0  0.0   \n",
       "4  0.0  0.0  0.0   0.0    0.0  0.0  0.0  0.0  0.0  0.0  ...   0.0  0.0   \n",
       "\n",
       "   zoologists  zoom  zoos  zucchini  zuckerberg  zverev  \\\n",
       "0         0.0   0.0   0.0       0.0         0.0     0.0   \n",
       "1         0.0   0.0   0.0       0.0         0.0     0.0   \n",
       "2         0.0   0.0   0.0       0.0         0.0     0.0   \n",
       "3         0.0   0.0   0.0       0.0         0.0     0.0   \n",
       "4         0.0   0.0   0.0       0.0         0.0     0.0   \n",
       "\n",
       "                                           Headlines  Valid Source  \n",
       "0  Chris Wallace: Trump \"bears the primary respon...           1.0  \n",
       "1  Biden to expand voter outreach with in-person ...           1.0  \n",
       "2  Doomsday has arrived for tens of thousands of ...           1.0  \n",
       "3  Pfizer CEO: COVID-19 vaccine development is \"m...           1.0  \n",
       "4  Anne Helen Petersen on America's burnout epidemic           1.0  \n",
       "\n",
       "[5 rows x 9380 columns]"
      ]
     },
     "execution_count": 182,
     "metadata": {},
     "output_type": "execute_result"
    }
   ],
   "source": [
    "from sklearn.feature_extraction.text import TfidfVectorizer\n",
    "\n",
    "vectorizer = TfidfVectorizer(\n",
    "    max_df=0.5, min_df=1, use_idf=True, norm=u'l2', smooth_idf=True)\n",
    "\n",
    "X = vectorizer.fit_transform(news_headlines['Headlines'])\n",
    "\n",
    "tfidf_df = pd.DataFrame(X.toarray(), columns=vectorizer.get_feature_names())\n",
    "tfidf_headlines = pd.concat([tfidf_df, news_headlines[['Headlines', 'Valid Source']]], axis=1)\n",
    "\n",
    "# log base 2 of 1 is 0,\n",
    "# tf-idf score of 0 indicates that the word was present once in that sentence\n",
    "\n",
    "tfidf_headlines.head()"
   ]
  },
  {
   "cell_type": "code",
   "execution_count": 183,
   "metadata": {
    "slideshow": {
     "slide_type": "skip"
    }
   },
   "outputs": [
    {
     "data": {
      "text/plain": [
       "000             2\n",
       "10              2\n",
       "100             2\n",
       "100b            2\n",
       "100th           2\n",
       "               ..\n",
       "zucchini        2\n",
       "zuckerberg      2\n",
       "zverev          2\n",
       "Headlines       2\n",
       "Valid Source    2\n",
       "Length: 9380, dtype: int64"
      ]
     },
     "execution_count": 183,
     "metadata": {},
     "output_type": "execute_result"
    }
   ],
   "source": [
    "# check for null values\n",
    "\n",
    "tfidf_headlines.isnull().sum()"
   ]
  },
  {
   "cell_type": "code",
   "execution_count": 184,
   "metadata": {
    "slideshow": {
     "slide_type": "skip"
    }
   },
   "outputs": [],
   "source": [
    "tfidf_headlines.dropna(inplace=True)"
   ]
  },
  {
   "cell_type": "code",
   "execution_count": 185,
   "metadata": {
    "slideshow": {
     "slide_type": "skip"
    }
   },
   "outputs": [
    {
     "data": {
      "text/plain": [
       "000             0\n",
       "10              0\n",
       "100             0\n",
       "100b            0\n",
       "100th           0\n",
       "               ..\n",
       "zucchini        0\n",
       "zuckerberg      0\n",
       "zverev          0\n",
       "Headlines       0\n",
       "Valid Source    0\n",
       "Length: 9380, dtype: int64"
      ]
     },
     "execution_count": 185,
     "metadata": {},
     "output_type": "execute_result"
    }
   ],
   "source": [
    "# confirm that null values have been dropped\n",
    "\n",
    "tfidf_headlines.isnull().sum()"
   ]
  },
  {
   "cell_type": "code",
   "execution_count": 186,
   "metadata": {
    "slideshow": {
     "slide_type": "subslide"
    }
   },
   "outputs": [],
   "source": [
    "# split\n",
    "\n",
    "Y = tfidf_headlines['Valid Source']\n",
    "X = np.array(tfidf_headlines.drop(['Headlines','Valid Source'], 1))\n",
    "\n",
    "X_train, X_test, y_train, y_test = train_test_split(X, Y, test_size=0.2, random_state=123)"
   ]
  },
  {
   "cell_type": "markdown",
   "metadata": {
    "slideshow": {
     "slide_type": "subslide"
    }
   },
   "source": [
    "### Logistic Regression Model & Scores - Tf-idf"
   ]
  },
  {
   "cell_type": "code",
   "execution_count": 187,
   "metadata": {
    "slideshow": {
     "slide_type": "subslide"
    }
   },
   "outputs": [],
   "source": [
    "# logistic regression model & scores\n",
    "\n",
    "lr = LogisticRegression()\n",
    "lr.fit(X_train, y_train)\n",
    "lr_predictions = lr.predict(X_test)\n",
    "lr_confusion = confusion_matrix(y_test, lr_predictions, labels=[1, 0])"
   ]
  },
  {
   "cell_type": "code",
   "execution_count": 188,
   "metadata": {
    "slideshow": {
     "slide_type": "subslide"
    }
   },
   "outputs": [
    {
     "data": {
      "image/png": "[encoded data removed]",
      "text/plain": [
       "<Figure size 576x432 with 2 Axes>"
      ]
     },
     "metadata": {
      "needs_background": "light"
     },
     "output_type": "display_data"
    }
   ],
   "source": [
    "plot_confusion_matrix(cm=lr_confusion, target_names = ['Valid Headlines', 'Fake Headlines'], title = 'Confusion Matrix - Logistic Regression', normalize=False)"
   ]
  },
  {
   "cell_type": "code",
   "execution_count": 189,
   "metadata": {
    "slideshow": {
     "slide_type": "subslide"
    }
   },
   "outputs": [
    {
     "name": "stdout",
     "output_type": "stream",
     "text": [
      "----------------------Logistic Regression Report - Tf-idf----------------------\n",
      "\n",
      "                 precision    recall  f1-score   support\n",
      "\n",
      " Fake Headlines       0.75      0.83      0.79       393\n",
      "Valid Headlines       0.81      0.72      0.76       397\n",
      "\n",
      "       accuracy                           0.78       790\n",
      "      macro avg       0.78      0.78      0.78       790\n",
      "   weighted avg       0.78      0.78      0.78       790\n",
      "\n",
      "Training set score: 0.9065864471184294\n",
      "Test set score: 0.7759493670886076\n"
     ]
    }
   ],
   "source": [
    "# print report - fake & valid headlines - logistic regression\n",
    "\n",
    "print('----------------------Logistic Regression Report - Tf-idf----------------------\\n')\n",
    "print(classification_report(y_test, lr_predictions, target_names=['Fake Headlines', 'Valid Headlines']))\n",
    "print('Training set score:', lr.score(X_train, y_train))\n",
    "print('Test set score:', lr.score(X_test, y_test))"
   ]
  },
  {
   "cell_type": "code",
   "execution_count": 255,
   "metadata": {
    "slideshow": {
     "slide_type": "skip"
    }
   },
   "outputs": [],
   "source": [
    "# update stats\n",
    "\n",
    "stats_df = stats_df.append(pd.Series(['Tf-idf','Logistic Regression',\n",
    "              '0.90659', '0.77595', '0.75', '0.81', '0.83', '0.72', '0.79', \n",
    "                '0.76'], index=stats_df.columns), ignore_index=True)"
   ]
  },
  {
   "cell_type": "code",
   "execution_count": 256,
   "metadata": {
    "slideshow": {
     "slide_type": "skip"
    }
   },
   "outputs": [
    {
     "data": {
      "text/html": [
       "<div>\n",
       "<style scoped>\n",
       "    .dataframe tbody tr th:only-of-type {\n",
       "        vertical-align: middle;\n",
       "    }\n",
       "\n",
       "    .dataframe tbody tr th {\n",
       "        vertical-align: top;\n",
       "    }\n",
       "\n",
       "    .dataframe thead th {\n",
       "        text-align: right;\n",
       "    }\n",
       "</style>\n",
       "<table border=\"1\" class=\"dataframe\">\n",
       "  <thead>\n",
       "    <tr style=\"text-align: right;\">\n",
       "      <th></th>\n",
       "      <th>F. E. Method</th>\n",
       "      <th>Model Name</th>\n",
       "      <th>Training Set Score</th>\n",
       "      <th>Test Set Score</th>\n",
       "      <th>Precision - Fake Headlines</th>\n",
       "      <th>Precision - Valid Headlines</th>\n",
       "      <th>Recall - Fake Headlines</th>\n",
       "      <th>Recall - Valid Headlines</th>\n",
       "      <th>F1-Score - Fake Headlines</th>\n",
       "      <th>F1-Score - Valid Headlines</th>\n",
       "    </tr>\n",
       "  </thead>\n",
       "  <tbody>\n",
       "    <tr>\n",
       "      <th>8</th>\n",
       "      <td>1gram/2gram</td>\n",
       "      <td>Gradient Boosting</td>\n",
       "      <td>0.75174</td>\n",
       "      <td>0.70379</td>\n",
       "      <td>0.68</td>\n",
       "      <td>0.73</td>\n",
       "      <td>0.76</td>\n",
       "      <td>0.65</td>\n",
       "      <td>0.72</td>\n",
       "      <td>0.69</td>\n",
       "    </tr>\n",
       "    <tr>\n",
       "      <th>9</th>\n",
       "      <td>3gram</td>\n",
       "      <td>Logistic Regression</td>\n",
       "      <td>0.99937</td>\n",
       "      <td>0.59113</td>\n",
       "      <td>0.55</td>\n",
       "      <td>0.81</td>\n",
       "      <td>0.94</td>\n",
       "      <td>0.24</td>\n",
       "      <td>0.70</td>\n",
       "      <td>0.37</td>\n",
       "    </tr>\n",
       "    <tr>\n",
       "      <th>10</th>\n",
       "      <td>3gram</td>\n",
       "      <td>Random Forest</td>\n",
       "      <td>0.99937</td>\n",
       "      <td>0.53924</td>\n",
       "      <td>0.52</td>\n",
       "      <td>0.90</td>\n",
       "      <td>0.99</td>\n",
       "      <td>0.09</td>\n",
       "      <td>0.68</td>\n",
       "      <td>0.17</td>\n",
       "    </tr>\n",
       "    <tr>\n",
       "      <th>11</th>\n",
       "      <td>3gram</td>\n",
       "      <td>Gradient Boosting</td>\n",
       "      <td>0.62729</td>\n",
       "      <td>0.54303</td>\n",
       "      <td>0.52</td>\n",
       "      <td>0.89</td>\n",
       "      <td>0.99</td>\n",
       "      <td>0.10</td>\n",
       "      <td>0.68</td>\n",
       "      <td>0.19</td>\n",
       "    </tr>\n",
       "    <tr>\n",
       "      <th>12</th>\n",
       "      <td>Tf-idf</td>\n",
       "      <td>Logistic Regression</td>\n",
       "      <td>0.90659</td>\n",
       "      <td>0.77595</td>\n",
       "      <td>0.75</td>\n",
       "      <td>0.81</td>\n",
       "      <td>0.83</td>\n",
       "      <td>0.72</td>\n",
       "      <td>0.79</td>\n",
       "      <td>0.76</td>\n",
       "    </tr>\n",
       "  </tbody>\n",
       "</table>\n",
       "</div>"
      ],
      "text/plain": [
       "   F. E. Method           Model Name Training Set Score Test Set Score  \\\n",
       "8   1gram/2gram    Gradient Boosting            0.75174        0.70379   \n",
       "9         3gram  Logistic Regression            0.99937        0.59113   \n",
       "10        3gram        Random Forest            0.99937        0.53924   \n",
       "11        3gram    Gradient Boosting            0.62729        0.54303   \n",
       "12       Tf-idf  Logistic Regression            0.90659        0.77595   \n",
       "\n",
       "   Precision - Fake Headlines Precision - Valid Headlines  \\\n",
       "8                        0.68                        0.73   \n",
       "9                        0.55                        0.81   \n",
       "10                       0.52                        0.90   \n",
       "11                       0.52                        0.89   \n",
       "12                       0.75                        0.81   \n",
       "\n",
       "   Recall - Fake Headlines Recall - Valid Headlines F1-Score - Fake Headlines  \\\n",
       "8                     0.76                     0.65                      0.72   \n",
       "9                     0.94                     0.24                      0.70   \n",
       "10                    0.99                     0.09                      0.68   \n",
       "11                    0.99                     0.10                      0.68   \n",
       "12                    0.83                     0.72                      0.79   \n",
       "\n",
       "   F1-Score - Valid Headlines  \n",
       "8                        0.69  \n",
       "9                        0.37  \n",
       "10                       0.17  \n",
       "11                       0.19  \n",
       "12                       0.76  "
      ]
     },
     "execution_count": 256,
     "metadata": {},
     "output_type": "execute_result"
    }
   ],
   "source": [
    "stats_df.tail()"
   ]
  },
  {
   "cell_type": "markdown",
   "metadata": {
    "slideshow": {
     "slide_type": "subslide"
    }
   },
   "source": [
    "### Random Forest Model & Scores - Tf-idf"
   ]
  },
  {
   "cell_type": "code",
   "execution_count": 192,
   "metadata": {
    "slideshow": {
     "slide_type": "subslide"
    }
   },
   "outputs": [],
   "source": [
    "# random forest model & scores\n",
    "\n",
    "rfc = RandomForestClassifier()\n",
    "rfc.fit(X_train, y_train)\n",
    "rfc_predictions = rfc.predict(X_test)\n",
    "rfc_confusion = confusion_matrix(y_test, lr_predictions, labels=[1, 0])"
   ]
  },
  {
   "cell_type": "code",
   "execution_count": 193,
   "metadata": {
    "slideshow": {
     "slide_type": "subslide"
    }
   },
   "outputs": [
    {
     "data": {
      "image/png": "[encoded data removed]",
      "text/plain": [
       "<Figure size 576x432 with 2 Axes>"
      ]
     },
     "metadata": {
      "needs_background": "light"
     },
     "output_type": "display_data"
    }
   ],
   "source": [
    "plot_confusion_matrix(cm=lr_confusion, target_names = ['Valid Headlines', 'Fake Headlines'], title = 'Confusion Matrix - RFC', normalize=False)"
   ]
  },
  {
   "cell_type": "code",
   "execution_count": 194,
   "metadata": {
    "slideshow": {
     "slide_type": "subslide"
    }
   },
   "outputs": [
    {
     "name": "stdout",
     "output_type": "stream",
     "text": [
      "----------------------Random Forest Report - Tf-idf----------------------\n",
      "\n",
      "                 precision    recall  f1-score   support\n",
      "\n",
      " Fake Headlines       0.73      0.75      0.74       393\n",
      "Valid Headlines       0.75      0.73      0.74       397\n",
      "\n",
      "       accuracy                           0.74       790\n",
      "      macro avg       0.74      0.74      0.74       790\n",
      "   weighted avg       0.74      0.74      0.74       790\n",
      "\n",
      "Training set score: 1.0\n",
      "Test set score: 0.739240506329114\n"
     ]
    }
   ],
   "source": [
    "# print report - fake & valid headlines - rfc\n",
    "\n",
    "print('----------------------Random Forest Report - Tf-idf----------------------\\n')\n",
    "print(classification_report(y_test, rfc_predictions, target_names=['Fake Headlines', 'Valid Headlines']))\n",
    "print('Training set score:', rfc.score(X_train, y_train))\n",
    "print('Test set score:', rfc.score(X_test, y_test))"
   ]
  },
  {
   "cell_type": "code",
   "execution_count": 257,
   "metadata": {
    "slideshow": {
     "slide_type": "skip"
    }
   },
   "outputs": [],
   "source": [
    "# update stats\n",
    "\n",
    "stats_df = stats_df.append(pd.Series(['Tf-idf','Random Forest',\n",
    "              '1.0', '0.73924', '0.73', '0.75', '0.75', '0.73', '0.74', \n",
    "                '0.74'], index=stats_df.columns), ignore_index=True)"
   ]
  },
  {
   "cell_type": "code",
   "execution_count": 258,
   "metadata": {
    "slideshow": {
     "slide_type": "skip"
    }
   },
   "outputs": [
    {
     "data": {
      "text/html": [
       "<div>\n",
       "<style scoped>\n",
       "    .dataframe tbody tr th:only-of-type {\n",
       "        vertical-align: middle;\n",
       "    }\n",
       "\n",
       "    .dataframe tbody tr th {\n",
       "        vertical-align: top;\n",
       "    }\n",
       "\n",
       "    .dataframe thead th {\n",
       "        text-align: right;\n",
       "    }\n",
       "</style>\n",
       "<table border=\"1\" class=\"dataframe\">\n",
       "  <thead>\n",
       "    <tr style=\"text-align: right;\">\n",
       "      <th></th>\n",
       "      <th>F. E. Method</th>\n",
       "      <th>Model Name</th>\n",
       "      <th>Training Set Score</th>\n",
       "      <th>Test Set Score</th>\n",
       "      <th>Precision - Fake Headlines</th>\n",
       "      <th>Precision - Valid Headlines</th>\n",
       "      <th>Recall - Fake Headlines</th>\n",
       "      <th>Recall - Valid Headlines</th>\n",
       "      <th>F1-Score - Fake Headlines</th>\n",
       "      <th>F1-Score - Valid Headlines</th>\n",
       "    </tr>\n",
       "  </thead>\n",
       "  <tbody>\n",
       "    <tr>\n",
       "      <th>9</th>\n",
       "      <td>3gram</td>\n",
       "      <td>Logistic Regression</td>\n",
       "      <td>0.99937</td>\n",
       "      <td>0.59113</td>\n",
       "      <td>0.55</td>\n",
       "      <td>0.81</td>\n",
       "      <td>0.94</td>\n",
       "      <td>0.24</td>\n",
       "      <td>0.70</td>\n",
       "      <td>0.37</td>\n",
       "    </tr>\n",
       "    <tr>\n",
       "      <th>10</th>\n",
       "      <td>3gram</td>\n",
       "      <td>Random Forest</td>\n",
       "      <td>0.99937</td>\n",
       "      <td>0.53924</td>\n",
       "      <td>0.52</td>\n",
       "      <td>0.90</td>\n",
       "      <td>0.99</td>\n",
       "      <td>0.09</td>\n",
       "      <td>0.68</td>\n",
       "      <td>0.17</td>\n",
       "    </tr>\n",
       "    <tr>\n",
       "      <th>11</th>\n",
       "      <td>3gram</td>\n",
       "      <td>Gradient Boosting</td>\n",
       "      <td>0.62729</td>\n",
       "      <td>0.54303</td>\n",
       "      <td>0.52</td>\n",
       "      <td>0.89</td>\n",
       "      <td>0.99</td>\n",
       "      <td>0.10</td>\n",
       "      <td>0.68</td>\n",
       "      <td>0.19</td>\n",
       "    </tr>\n",
       "    <tr>\n",
       "      <th>12</th>\n",
       "      <td>Tf-idf</td>\n",
       "      <td>Logistic Regression</td>\n",
       "      <td>0.90659</td>\n",
       "      <td>0.77595</td>\n",
       "      <td>0.75</td>\n",
       "      <td>0.81</td>\n",
       "      <td>0.83</td>\n",
       "      <td>0.72</td>\n",
       "      <td>0.79</td>\n",
       "      <td>0.76</td>\n",
       "    </tr>\n",
       "    <tr>\n",
       "      <th>13</th>\n",
       "      <td>Tf-idf</td>\n",
       "      <td>Random Forest</td>\n",
       "      <td>1.0</td>\n",
       "      <td>0.73924</td>\n",
       "      <td>0.73</td>\n",
       "      <td>0.75</td>\n",
       "      <td>0.75</td>\n",
       "      <td>0.73</td>\n",
       "      <td>0.74</td>\n",
       "      <td>0.74</td>\n",
       "    </tr>\n",
       "  </tbody>\n",
       "</table>\n",
       "</div>"
      ],
      "text/plain": [
       "   F. E. Method           Model Name Training Set Score Test Set Score  \\\n",
       "9         3gram  Logistic Regression            0.99937        0.59113   \n",
       "10        3gram        Random Forest            0.99937        0.53924   \n",
       "11        3gram    Gradient Boosting            0.62729        0.54303   \n",
       "12       Tf-idf  Logistic Regression            0.90659        0.77595   \n",
       "13       Tf-idf        Random Forest                1.0        0.73924   \n",
       "\n",
       "   Precision - Fake Headlines Precision - Valid Headlines  \\\n",
       "9                        0.55                        0.81   \n",
       "10                       0.52                        0.90   \n",
       "11                       0.52                        0.89   \n",
       "12                       0.75                        0.81   \n",
       "13                       0.73                        0.75   \n",
       "\n",
       "   Recall - Fake Headlines Recall - Valid Headlines F1-Score - Fake Headlines  \\\n",
       "9                     0.94                     0.24                      0.70   \n",
       "10                    0.99                     0.09                      0.68   \n",
       "11                    0.99                     0.10                      0.68   \n",
       "12                    0.83                     0.72                      0.79   \n",
       "13                    0.75                     0.73                      0.74   \n",
       "\n",
       "   F1-Score - Valid Headlines  \n",
       "9                        0.37  \n",
       "10                       0.17  \n",
       "11                       0.19  \n",
       "12                       0.76  \n",
       "13                       0.74  "
      ]
     },
     "execution_count": 258,
     "metadata": {},
     "output_type": "execute_result"
    }
   ],
   "source": [
    "stats_df.tail()"
   ]
  },
  {
   "cell_type": "markdown",
   "metadata": {
    "slideshow": {
     "slide_type": "subslide"
    }
   },
   "source": [
    "### Gradient-Boosting Model & Scores - 3gram"
   ]
  },
  {
   "cell_type": "code",
   "execution_count": 204,
   "metadata": {
    "slideshow": {
     "slide_type": "subslide"
    }
   },
   "outputs": [],
   "source": [
    "# gradient-boosting model & scores\n",
    "\n",
    "gbc = GradientBoostingClassifier()\n",
    "gbc.fit(X_train, y_train)\n",
    "gbc_predictions = gbc.predict(X_test)\n",
    "gbc_confusion = confusion_matrix(y_test, gbc_predictions, labels=[1, 0])"
   ]
  },
  {
   "cell_type": "code",
   "execution_count": 205,
   "metadata": {
    "slideshow": {
     "slide_type": "subslide"
    }
   },
   "outputs": [
    {
     "data": {
      "image/png": "[encoded data removed]",
      "text/plain": [
       "<Figure size 576x432 with 2 Axes>"
      ]
     },
     "metadata": {
      "needs_background": "light"
     },
     "output_type": "display_data"
    }
   ],
   "source": [
    "plot_confusion_matrix(cm=gbc_confusion, target_names = ['Valid Headlines', 'Fake Headlines'], title = 'Confusion Matrix - Gradient-Boosting', normalize=False)"
   ]
  },
  {
   "cell_type": "code",
   "execution_count": 206,
   "metadata": {
    "slideshow": {
     "slide_type": "subslide"
    }
   },
   "outputs": [
    {
     "name": "stdout",
     "output_type": "stream",
     "text": [
      "----------------------Gradient-Boosting Report - Tf-idf----------------------\n",
      "\n",
      "                 precision    recall  f1-score   support\n",
      "\n",
      " Fake Headlines       0.69      0.74      0.71       393\n",
      "Valid Headlines       0.72      0.67      0.70       397\n",
      "\n",
      "       accuracy                           0.71       790\n",
      "      macro avg       0.71      0.71      0.70       790\n",
      "   weighted avg       0.71      0.71      0.70       790\n",
      "\n",
      "Training set score: 0.7691576947435086\n",
      "Test set score: 0.7050632911392405\n"
     ]
    }
   ],
   "source": [
    "# print report - fake & valid headlines - gradient-boosting\n",
    "\n",
    "print('----------------------Gradient-Boosting Report - Tf-idf----------------------\\n')\n",
    "print(classification_report(y_test, gbc_predictions, target_names=['Fake Headlines', 'Valid Headlines']))\n",
    "print('Training set score:', gbc.score(X_train, y_train))\n",
    "print('Test set score:', gbc.score(X_test, y_test))"
   ]
  },
  {
   "cell_type": "code",
   "execution_count": 259,
   "metadata": {
    "slideshow": {
     "slide_type": "skip"
    }
   },
   "outputs": [],
   "source": [
    "# update stats\n",
    "\n",
    "stats_df = stats_df.append(pd.Series(['Tf-idf','Gradient Boosting',\n",
    "              '0.76916', '0.70506', '0.69', '0.72', '0.74', '0.67', '0.71', \n",
    "                '0.70'], index=stats_df.columns), ignore_index=True)"
   ]
  },
  {
   "cell_type": "code",
   "execution_count": 260,
   "metadata": {
    "slideshow": {
     "slide_type": "skip"
    }
   },
   "outputs": [
    {
     "data": {
      "text/html": [
       "<div>\n",
       "<style scoped>\n",
       "    .dataframe tbody tr th:only-of-type {\n",
       "        vertical-align: middle;\n",
       "    }\n",
       "\n",
       "    .dataframe tbody tr th {\n",
       "        vertical-align: top;\n",
       "    }\n",
       "\n",
       "    .dataframe thead th {\n",
       "        text-align: right;\n",
       "    }\n",
       "</style>\n",
       "<table border=\"1\" class=\"dataframe\">\n",
       "  <thead>\n",
       "    <tr style=\"text-align: right;\">\n",
       "      <th></th>\n",
       "      <th>F. E. Method</th>\n",
       "      <th>Model Name</th>\n",
       "      <th>Training Set Score</th>\n",
       "      <th>Test Set Score</th>\n",
       "      <th>Precision - Fake Headlines</th>\n",
       "      <th>Precision - Valid Headlines</th>\n",
       "      <th>Recall - Fake Headlines</th>\n",
       "      <th>Recall - Valid Headlines</th>\n",
       "      <th>F1-Score - Fake Headlines</th>\n",
       "      <th>F1-Score - Valid Headlines</th>\n",
       "    </tr>\n",
       "  </thead>\n",
       "  <tbody>\n",
       "    <tr>\n",
       "      <th>10</th>\n",
       "      <td>3gram</td>\n",
       "      <td>Random Forest</td>\n",
       "      <td>0.99937</td>\n",
       "      <td>0.53924</td>\n",
       "      <td>0.52</td>\n",
       "      <td>0.90</td>\n",
       "      <td>0.99</td>\n",
       "      <td>0.09</td>\n",
       "      <td>0.68</td>\n",
       "      <td>0.17</td>\n",
       "    </tr>\n",
       "    <tr>\n",
       "      <th>11</th>\n",
       "      <td>3gram</td>\n",
       "      <td>Gradient Boosting</td>\n",
       "      <td>0.62729</td>\n",
       "      <td>0.54303</td>\n",
       "      <td>0.52</td>\n",
       "      <td>0.89</td>\n",
       "      <td>0.99</td>\n",
       "      <td>0.10</td>\n",
       "      <td>0.68</td>\n",
       "      <td>0.19</td>\n",
       "    </tr>\n",
       "    <tr>\n",
       "      <th>12</th>\n",
       "      <td>Tf-idf</td>\n",
       "      <td>Logistic Regression</td>\n",
       "      <td>0.90659</td>\n",
       "      <td>0.77595</td>\n",
       "      <td>0.75</td>\n",
       "      <td>0.81</td>\n",
       "      <td>0.83</td>\n",
       "      <td>0.72</td>\n",
       "      <td>0.79</td>\n",
       "      <td>0.76</td>\n",
       "    </tr>\n",
       "    <tr>\n",
       "      <th>13</th>\n",
       "      <td>Tf-idf</td>\n",
       "      <td>Random Forest</td>\n",
       "      <td>1.0</td>\n",
       "      <td>0.73924</td>\n",
       "      <td>0.73</td>\n",
       "      <td>0.75</td>\n",
       "      <td>0.75</td>\n",
       "      <td>0.73</td>\n",
       "      <td>0.74</td>\n",
       "      <td>0.74</td>\n",
       "    </tr>\n",
       "    <tr>\n",
       "      <th>14</th>\n",
       "      <td>Tf-idf</td>\n",
       "      <td>Gradient Boosting</td>\n",
       "      <td>0.76916</td>\n",
       "      <td>0.70506</td>\n",
       "      <td>0.69</td>\n",
       "      <td>0.72</td>\n",
       "      <td>0.74</td>\n",
       "      <td>0.67</td>\n",
       "      <td>0.71</td>\n",
       "      <td>0.70</td>\n",
       "    </tr>\n",
       "  </tbody>\n",
       "</table>\n",
       "</div>"
      ],
      "text/plain": [
       "   F. E. Method           Model Name Training Set Score Test Set Score  \\\n",
       "10        3gram        Random Forest            0.99937        0.53924   \n",
       "11        3gram    Gradient Boosting            0.62729        0.54303   \n",
       "12       Tf-idf  Logistic Regression            0.90659        0.77595   \n",
       "13       Tf-idf        Random Forest                1.0        0.73924   \n",
       "14       Tf-idf    Gradient Boosting            0.76916        0.70506   \n",
       "\n",
       "   Precision - Fake Headlines Precision - Valid Headlines  \\\n",
       "10                       0.52                        0.90   \n",
       "11                       0.52                        0.89   \n",
       "12                       0.75                        0.81   \n",
       "13                       0.73                        0.75   \n",
       "14                       0.69                        0.72   \n",
       "\n",
       "   Recall - Fake Headlines Recall - Valid Headlines F1-Score - Fake Headlines  \\\n",
       "10                    0.99                     0.09                      0.68   \n",
       "11                    0.99                     0.10                      0.68   \n",
       "12                    0.83                     0.72                      0.79   \n",
       "13                    0.75                     0.73                      0.74   \n",
       "14                    0.74                     0.67                      0.71   \n",
       "\n",
       "   F1-Score - Valid Headlines  \n",
       "10                       0.17  \n",
       "11                       0.19  \n",
       "12                       0.76  \n",
       "13                       0.74  \n",
       "14                       0.70  "
      ]
     },
     "execution_count": 260,
     "metadata": {},
     "output_type": "execute_result"
    }
   ],
   "source": [
    "stats_df.tail()"
   ]
  },
  {
   "cell_type": "markdown",
   "metadata": {
    "slideshow": {
     "slide_type": "slide"
    }
   },
   "source": [
    "# Tf-idf & 2gram"
   ]
  },
  {
   "cell_type": "code",
   "execution_count": 209,
   "metadata": {
    "slideshow": {
     "slide_type": "subslide"
    }
   },
   "outputs": [
    {
     "data": {
      "text/html": [
       "<div>\n",
       "<style scoped>\n",
       "    .dataframe tbody tr th:only-of-type {\n",
       "        vertical-align: middle;\n",
       "    }\n",
       "\n",
       "    .dataframe tbody tr th {\n",
       "        vertical-align: top;\n",
       "    }\n",
       "\n",
       "    .dataframe thead th {\n",
       "        text-align: right;\n",
       "    }\n",
       "</style>\n",
       "<table border=\"1\" class=\"dataframe\">\n",
       "  <thead>\n",
       "    <tr style=\"text-align: right;\">\n",
       "      <th></th>\n",
       "      <th>000 americans</th>\n",
       "      <th>000 employees</th>\n",
       "      <th>000 in</th>\n",
       "      <th>000 jobs</th>\n",
       "      <th>000 years</th>\n",
       "      <th>10 000</th>\n",
       "      <th>10 election</th>\n",
       "      <th>10 million</th>\n",
       "      <th>10 percent</th>\n",
       "      <th>10 year</th>\n",
       "      <th>...</th>\n",
       "      <th>you ve</th>\n",
       "      <th>you warm</th>\n",
       "      <th>you wear</th>\n",
       "      <th>young people</th>\n",
       "      <th>your ass</th>\n",
       "      <th>your kids</th>\n",
       "      <th>your outdoor</th>\n",
       "      <th>your state</th>\n",
       "      <th>Headlines</th>\n",
       "      <th>Valid Source</th>\n",
       "    </tr>\n",
       "  </thead>\n",
       "  <tbody>\n",
       "    <tr>\n",
       "      <th>0</th>\n",
       "      <td>0.0</td>\n",
       "      <td>0.0</td>\n",
       "      <td>0.0</td>\n",
       "      <td>0.0</td>\n",
       "      <td>0.0</td>\n",
       "      <td>0.0</td>\n",
       "      <td>0.0</td>\n",
       "      <td>0.0</td>\n",
       "      <td>0.0</td>\n",
       "      <td>0.0</td>\n",
       "      <td>...</td>\n",
       "      <td>0.0</td>\n",
       "      <td>0.0</td>\n",
       "      <td>0.0</td>\n",
       "      <td>0.0</td>\n",
       "      <td>0.0</td>\n",
       "      <td>0.0</td>\n",
       "      <td>0.0</td>\n",
       "      <td>0.0</td>\n",
       "      <td>Chris Wallace: Trump \"bears the primary respon...</td>\n",
       "      <td>1.0</td>\n",
       "    </tr>\n",
       "    <tr>\n",
       "      <th>1</th>\n",
       "      <td>0.0</td>\n",
       "      <td>0.0</td>\n",
       "      <td>0.0</td>\n",
       "      <td>0.0</td>\n",
       "      <td>0.0</td>\n",
       "      <td>0.0</td>\n",
       "      <td>0.0</td>\n",
       "      <td>0.0</td>\n",
       "      <td>0.0</td>\n",
       "      <td>0.0</td>\n",
       "      <td>...</td>\n",
       "      <td>0.0</td>\n",
       "      <td>0.0</td>\n",
       "      <td>0.0</td>\n",
       "      <td>0.0</td>\n",
       "      <td>0.0</td>\n",
       "      <td>0.0</td>\n",
       "      <td>0.0</td>\n",
       "      <td>0.0</td>\n",
       "      <td>Biden to expand voter outreach with in-person ...</td>\n",
       "      <td>1.0</td>\n",
       "    </tr>\n",
       "    <tr>\n",
       "      <th>2</th>\n",
       "      <td>0.0</td>\n",
       "      <td>0.0</td>\n",
       "      <td>0.0</td>\n",
       "      <td>0.0</td>\n",
       "      <td>0.0</td>\n",
       "      <td>0.0</td>\n",
       "      <td>0.0</td>\n",
       "      <td>0.0</td>\n",
       "      <td>0.0</td>\n",
       "      <td>0.0</td>\n",
       "      <td>...</td>\n",
       "      <td>0.0</td>\n",
       "      <td>0.0</td>\n",
       "      <td>0.0</td>\n",
       "      <td>0.0</td>\n",
       "      <td>0.0</td>\n",
       "      <td>0.0</td>\n",
       "      <td>0.0</td>\n",
       "      <td>0.0</td>\n",
       "      <td>Doomsday has arrived for tens of thousands of ...</td>\n",
       "      <td>1.0</td>\n",
       "    </tr>\n",
       "    <tr>\n",
       "      <th>3</th>\n",
       "      <td>0.0</td>\n",
       "      <td>0.0</td>\n",
       "      <td>0.0</td>\n",
       "      <td>0.0</td>\n",
       "      <td>0.0</td>\n",
       "      <td>0.0</td>\n",
       "      <td>0.0</td>\n",
       "      <td>0.0</td>\n",
       "      <td>0.0</td>\n",
       "      <td>0.0</td>\n",
       "      <td>...</td>\n",
       "      <td>0.0</td>\n",
       "      <td>0.0</td>\n",
       "      <td>0.0</td>\n",
       "      <td>0.0</td>\n",
       "      <td>0.0</td>\n",
       "      <td>0.0</td>\n",
       "      <td>0.0</td>\n",
       "      <td>0.0</td>\n",
       "      <td>Pfizer CEO: COVID-19 vaccine development is \"m...</td>\n",
       "      <td>1.0</td>\n",
       "    </tr>\n",
       "    <tr>\n",
       "      <th>4</th>\n",
       "      <td>0.0</td>\n",
       "      <td>0.0</td>\n",
       "      <td>0.0</td>\n",
       "      <td>0.0</td>\n",
       "      <td>0.0</td>\n",
       "      <td>0.0</td>\n",
       "      <td>0.0</td>\n",
       "      <td>0.0</td>\n",
       "      <td>0.0</td>\n",
       "      <td>0.0</td>\n",
       "      <td>...</td>\n",
       "      <td>0.0</td>\n",
       "      <td>0.0</td>\n",
       "      <td>0.0</td>\n",
       "      <td>0.0</td>\n",
       "      <td>0.0</td>\n",
       "      <td>0.0</td>\n",
       "      <td>0.0</td>\n",
       "      <td>0.0</td>\n",
       "      <td>Anne Helen Petersen on America's burnout epidemic</td>\n",
       "      <td>1.0</td>\n",
       "    </tr>\n",
       "  </tbody>\n",
       "</table>\n",
       "<p>5 rows × 3681 columns</p>\n",
       "</div>"
      ],
      "text/plain": [
       "   000 americans  000 employees  000 in  000 jobs  000 years  10 000  \\\n",
       "0            0.0            0.0     0.0       0.0        0.0     0.0   \n",
       "1            0.0            0.0     0.0       0.0        0.0     0.0   \n",
       "2            0.0            0.0     0.0       0.0        0.0     0.0   \n",
       "3            0.0            0.0     0.0       0.0        0.0     0.0   \n",
       "4            0.0            0.0     0.0       0.0        0.0     0.0   \n",
       "\n",
       "   10 election  10 million  10 percent  10 year  ...  you ve  you warm  \\\n",
       "0          0.0         0.0         0.0      0.0  ...     0.0       0.0   \n",
       "1          0.0         0.0         0.0      0.0  ...     0.0       0.0   \n",
       "2          0.0         0.0         0.0      0.0  ...     0.0       0.0   \n",
       "3          0.0         0.0         0.0      0.0  ...     0.0       0.0   \n",
       "4          0.0         0.0         0.0      0.0  ...     0.0       0.0   \n",
       "\n",
       "   you wear  young people  your ass  your kids  your outdoor  your state  \\\n",
       "0       0.0           0.0       0.0        0.0           0.0         0.0   \n",
       "1       0.0           0.0       0.0        0.0           0.0         0.0   \n",
       "2       0.0           0.0       0.0        0.0           0.0         0.0   \n",
       "3       0.0           0.0       0.0        0.0           0.0         0.0   \n",
       "4       0.0           0.0       0.0        0.0           0.0         0.0   \n",
       "\n",
       "                                           Headlines  Valid Source  \n",
       "0  Chris Wallace: Trump \"bears the primary respon...           1.0  \n",
       "1  Biden to expand voter outreach with in-person ...           1.0  \n",
       "2  Doomsday has arrived for tens of thousands of ...           1.0  \n",
       "3  Pfizer CEO: COVID-19 vaccine development is \"m...           1.0  \n",
       "4  Anne Helen Petersen on America's burnout epidemic           1.0  \n",
       "\n",
       "[5 rows x 3681 columns]"
      ]
     },
     "execution_count": 209,
     "metadata": {},
     "output_type": "execute_result"
    }
   ],
   "source": [
    "vectorizer = TfidfVectorizer(\n",
    "    max_df=0.5, min_df=2, use_idf=True, norm=u'l2', smooth_idf=True, ngram_range=(2,2))\n",
    "\n",
    "X = vectorizer.fit_transform(news_headlines['Headlines'])\n",
    "\n",
    "tfidf_df = pd.DataFrame(X.toarray(), columns=vectorizer.get_feature_names())\n",
    "tfidf_2_headlines = pd.concat([tfidf_df, news_headlines[['Headlines', 'Valid Source']]], axis=1)\n",
    "\n",
    "# keep in mind that the log base 2 of 1 is 0,\n",
    "# so a tf-idf score of 0 indicates that the word was present once in that sentence.\n",
    "tfidf_2_headlines.head()"
   ]
  },
  {
   "cell_type": "code",
   "execution_count": 210,
   "metadata": {
    "slideshow": {
     "slide_type": "skip"
    }
   },
   "outputs": [
    {
     "data": {
      "text/plain": [
       "000 americans    2\n",
       "000 employees    2\n",
       "000 in           2\n",
       "000 jobs         2\n",
       "000 years        2\n",
       "                ..\n",
       "your kids        2\n",
       "your outdoor     2\n",
       "your state       2\n",
       "Headlines        2\n",
       "Valid Source     2\n",
       "Length: 3681, dtype: int64"
      ]
     },
     "execution_count": 210,
     "metadata": {},
     "output_type": "execute_result"
    }
   ],
   "source": [
    "# check for null values\n",
    "\n",
    "tfidf_2_headlines.isnull().sum()"
   ]
  },
  {
   "cell_type": "code",
   "execution_count": 211,
   "metadata": {
    "slideshow": {
     "slide_type": "skip"
    }
   },
   "outputs": [],
   "source": [
    "tfidf_2_headlines.dropna(inplace=True)"
   ]
  },
  {
   "cell_type": "code",
   "execution_count": 212,
   "metadata": {
    "slideshow": {
     "slide_type": "skip"
    }
   },
   "outputs": [
    {
     "data": {
      "text/plain": [
       "000 americans    0\n",
       "000 employees    0\n",
       "000 in           0\n",
       "000 jobs         0\n",
       "000 years        0\n",
       "                ..\n",
       "your kids        0\n",
       "your outdoor     0\n",
       "your state       0\n",
       "Headlines        0\n",
       "Valid Source     0\n",
       "Length: 3681, dtype: int64"
      ]
     },
     "execution_count": 212,
     "metadata": {},
     "output_type": "execute_result"
    }
   ],
   "source": [
    "# confirm that null values have been dropped\n",
    "\n",
    "tfidf_2_headlines.isnull().sum()"
   ]
  },
  {
   "cell_type": "code",
   "execution_count": 213,
   "metadata": {
    "slideshow": {
     "slide_type": "subslide"
    }
   },
   "outputs": [],
   "source": [
    "# split\n",
    "\n",
    "Y = tfidf_2_headlines['Valid Source']\n",
    "X = np.array(tfidf_2_headlines.drop(['Headlines','Valid Source'], 1))\n",
    "\n",
    "X_train, X_test, y_train, y_test = train_test_split(X, Y, test_size=0.2, random_state=123)"
   ]
  },
  {
   "cell_type": "markdown",
   "metadata": {
    "slideshow": {
     "slide_type": "subslide"
    }
   },
   "source": [
    "### Logistic Regression Model & Scores - Tf-idf & 2gram"
   ]
  },
  {
   "cell_type": "code",
   "execution_count": 214,
   "metadata": {
    "slideshow": {
     "slide_type": "subslide"
    }
   },
   "outputs": [],
   "source": [
    "# logistic regression model & scores\n",
    "\n",
    "lr = LogisticRegression()\n",
    "lr.fit(X_train, y_train)\n",
    "lr_predictions = lr.predict(X_test)\n",
    "lr_confusion = confusion_matrix(y_test, lr_predictions, labels=[1, 0])"
   ]
  },
  {
   "cell_type": "code",
   "execution_count": 215,
   "metadata": {
    "slideshow": {
     "slide_type": "subslide"
    }
   },
   "outputs": [
    {
     "data": {
      "image/png": "[encoded data removed]",
      "text/plain": [
       "<Figure size 576x432 with 2 Axes>"
      ]
     },
     "metadata": {
      "needs_background": "light"
     },
     "output_type": "display_data"
    }
   ],
   "source": [
    "plot_confusion_matrix(cm=lr_confusion, target_names = ['Valid Headlines', 'Fake Headlines'], title = 'Confusion Matrix - Logistic Regression', normalize=False)"
   ]
  },
  {
   "cell_type": "code",
   "execution_count": 216,
   "metadata": {
    "slideshow": {
     "slide_type": "subslide"
    }
   },
   "outputs": [
    {
     "name": "stdout",
     "output_type": "stream",
     "text": [
      "----------------------Logistic Regression Report - Tf-idf & 2gram----------------------\n",
      "\n",
      "                 precision    recall  f1-score   support\n",
      "\n",
      " Fake Headlines       0.68      0.79      0.73       393\n",
      "Valid Headlines       0.75      0.63      0.68       397\n",
      "\n",
      "       accuracy                           0.71       790\n",
      "      macro avg       0.71      0.71      0.71       790\n",
      "   weighted avg       0.71      0.71      0.71       790\n",
      "\n",
      "Training set score: 0.8907536415452818\n",
      "Test set score: 0.7075949367088608\n"
     ]
    }
   ],
   "source": [
    "# print report - fake & valid headlines - logistic regression\n",
    "\n",
    "print('----------------------Logistic Regression Report - Tf-idf & 2gram----------------------\\n')\n",
    "print(classification_report(y_test, lr_predictions, target_names=['Fake Headlines', 'Valid Headlines']))\n",
    "print('Training set score:', lr.score(X_train, y_train))\n",
    "print('Test set score:', lr.score(X_test, y_test))"
   ]
  },
  {
   "cell_type": "code",
   "execution_count": 261,
   "metadata": {
    "slideshow": {
     "slide_type": "skip"
    }
   },
   "outputs": [],
   "source": [
    "# update stats\n",
    "\n",
    "stats_df = stats_df.append(pd.Series(['Tf-idf & 2gram','Logistic Regression',\n",
    "              '0.89076', '0.70759', '0.68', '0.75', '0.79', '0.63', '0.73', \n",
    "                '0.68'], index=stats_df.columns), ignore_index=True)"
   ]
  },
  {
   "cell_type": "code",
   "execution_count": 262,
   "metadata": {
    "slideshow": {
     "slide_type": "skip"
    }
   },
   "outputs": [
    {
     "data": {
      "text/html": [
       "<div>\n",
       "<style scoped>\n",
       "    .dataframe tbody tr th:only-of-type {\n",
       "        vertical-align: middle;\n",
       "    }\n",
       "\n",
       "    .dataframe tbody tr th {\n",
       "        vertical-align: top;\n",
       "    }\n",
       "\n",
       "    .dataframe thead th {\n",
       "        text-align: right;\n",
       "    }\n",
       "</style>\n",
       "<table border=\"1\" class=\"dataframe\">\n",
       "  <thead>\n",
       "    <tr style=\"text-align: right;\">\n",
       "      <th></th>\n",
       "      <th>F. E. Method</th>\n",
       "      <th>Model Name</th>\n",
       "      <th>Training Set Score</th>\n",
       "      <th>Test Set Score</th>\n",
       "      <th>Precision - Fake Headlines</th>\n",
       "      <th>Precision - Valid Headlines</th>\n",
       "      <th>Recall - Fake Headlines</th>\n",
       "      <th>Recall - Valid Headlines</th>\n",
       "      <th>F1-Score - Fake Headlines</th>\n",
       "      <th>F1-Score - Valid Headlines</th>\n",
       "    </tr>\n",
       "  </thead>\n",
       "  <tbody>\n",
       "    <tr>\n",
       "      <th>11</th>\n",
       "      <td>3gram</td>\n",
       "      <td>Gradient Boosting</td>\n",
       "      <td>0.62729</td>\n",
       "      <td>0.54303</td>\n",
       "      <td>0.52</td>\n",
       "      <td>0.89</td>\n",
       "      <td>0.99</td>\n",
       "      <td>0.10</td>\n",
       "      <td>0.68</td>\n",
       "      <td>0.19</td>\n",
       "    </tr>\n",
       "    <tr>\n",
       "      <th>12</th>\n",
       "      <td>Tf-idf</td>\n",
       "      <td>Logistic Regression</td>\n",
       "      <td>0.90659</td>\n",
       "      <td>0.77595</td>\n",
       "      <td>0.75</td>\n",
       "      <td>0.81</td>\n",
       "      <td>0.83</td>\n",
       "      <td>0.72</td>\n",
       "      <td>0.79</td>\n",
       "      <td>0.76</td>\n",
       "    </tr>\n",
       "    <tr>\n",
       "      <th>13</th>\n",
       "      <td>Tf-idf</td>\n",
       "      <td>Random Forest</td>\n",
       "      <td>1.0</td>\n",
       "      <td>0.73924</td>\n",
       "      <td>0.73</td>\n",
       "      <td>0.75</td>\n",
       "      <td>0.75</td>\n",
       "      <td>0.73</td>\n",
       "      <td>0.74</td>\n",
       "      <td>0.74</td>\n",
       "    </tr>\n",
       "    <tr>\n",
       "      <th>14</th>\n",
       "      <td>Tf-idf</td>\n",
       "      <td>Gradient Boosting</td>\n",
       "      <td>0.76916</td>\n",
       "      <td>0.70506</td>\n",
       "      <td>0.69</td>\n",
       "      <td>0.72</td>\n",
       "      <td>0.74</td>\n",
       "      <td>0.67</td>\n",
       "      <td>0.71</td>\n",
       "      <td>0.70</td>\n",
       "    </tr>\n",
       "    <tr>\n",
       "      <th>15</th>\n",
       "      <td>Tf-idf &amp; 2gram</td>\n",
       "      <td>Logistic Regression</td>\n",
       "      <td>0.89076</td>\n",
       "      <td>0.70759</td>\n",
       "      <td>0.68</td>\n",
       "      <td>0.75</td>\n",
       "      <td>0.79</td>\n",
       "      <td>0.63</td>\n",
       "      <td>0.73</td>\n",
       "      <td>0.68</td>\n",
       "    </tr>\n",
       "  </tbody>\n",
       "</table>\n",
       "</div>"
      ],
      "text/plain": [
       "      F. E. Method           Model Name Training Set Score Test Set Score  \\\n",
       "11           3gram    Gradient Boosting            0.62729        0.54303   \n",
       "12          Tf-idf  Logistic Regression            0.90659        0.77595   \n",
       "13          Tf-idf        Random Forest                1.0        0.73924   \n",
       "14          Tf-idf    Gradient Boosting            0.76916        0.70506   \n",
       "15  Tf-idf & 2gram  Logistic Regression            0.89076        0.70759   \n",
       "\n",
       "   Precision - Fake Headlines Precision - Valid Headlines  \\\n",
       "11                       0.52                        0.89   \n",
       "12                       0.75                        0.81   \n",
       "13                       0.73                        0.75   \n",
       "14                       0.69                        0.72   \n",
       "15                       0.68                        0.75   \n",
       "\n",
       "   Recall - Fake Headlines Recall - Valid Headlines F1-Score - Fake Headlines  \\\n",
       "11                    0.99                     0.10                      0.68   \n",
       "12                    0.83                     0.72                      0.79   \n",
       "13                    0.75                     0.73                      0.74   \n",
       "14                    0.74                     0.67                      0.71   \n",
       "15                    0.79                     0.63                      0.73   \n",
       "\n",
       "   F1-Score - Valid Headlines  \n",
       "11                       0.19  \n",
       "12                       0.76  \n",
       "13                       0.74  \n",
       "14                       0.70  \n",
       "15                       0.68  "
      ]
     },
     "execution_count": 262,
     "metadata": {},
     "output_type": "execute_result"
    }
   ],
   "source": [
    "stats_df.tail()"
   ]
  },
  {
   "cell_type": "markdown",
   "metadata": {
    "slideshow": {
     "slide_type": "subslide"
    }
   },
   "source": [
    "### Random Forest Model & Scores - Tf-idf & 2gram"
   ]
  },
  {
   "cell_type": "code",
   "execution_count": 219,
   "metadata": {
    "slideshow": {
     "slide_type": "subslide"
    }
   },
   "outputs": [],
   "source": [
    "# random forest model & scores\n",
    "\n",
    "rfc = RandomForestClassifier()\n",
    "rfc.fit(X_train, y_train)\n",
    "rfc_predictions = rfc.predict(X_test)\n",
    "rfc_confusion = confusion_matrix(y_test, lr_predictions, labels=[1, 0])"
   ]
  },
  {
   "cell_type": "code",
   "execution_count": 220,
   "metadata": {
    "slideshow": {
     "slide_type": "subslide"
    }
   },
   "outputs": [
    {
     "data": {
      "image/png": "[encoded data removed]",
      "text/plain": [
       "<Figure size 576x432 with 2 Axes>"
      ]
     },
     "metadata": {
      "needs_background": "light"
     },
     "output_type": "display_data"
    }
   ],
   "source": [
    "plot_confusion_matrix(cm=rfc_confusion, target_names = ['Valid Headlines', 'Fake Headlines'], title = 'Confusion Matrix - RFC')"
   ]
  },
  {
   "cell_type": "code",
   "execution_count": 225,
   "metadata": {
    "slideshow": {
     "slide_type": "subslide"
    }
   },
   "outputs": [
    {
     "name": "stdout",
     "output_type": "stream",
     "text": [
      "----------------------Random Forest Report - Tf-idf & 2gram----------------------\n",
      "\n",
      "                 precision    recall  f1-score   support\n",
      "\n",
      " Fake Headlines       0.65      0.83      0.73       393\n",
      "Valid Headlines       0.77      0.56      0.65       397\n",
      "\n",
      "       accuracy                           0.69       790\n",
      "      macro avg       0.71      0.69      0.69       790\n",
      "   weighted avg       0.71      0.69      0.69       790\n",
      "\n",
      "Training set score: 0.8907536415452818\n",
      "Test set score: 0.7075949367088608\n"
     ]
    }
   ],
   "source": [
    "# print report - fake & valid headlines - rfc\n",
    "\n",
    "print('----------------------Random Forest Report - Tf-idf & 2gram----------------------\\n')\n",
    "print(classification_report(y_test, rfc_predictions, target_names=['Fake Headlines', 'Valid Headlines']))\n",
    "print('Training set score:', lr.score(X_train, y_train))\n",
    "print('Test set score:', lr.score(X_test, y_test))"
   ]
  },
  {
   "cell_type": "code",
   "execution_count": 263,
   "metadata": {
    "slideshow": {
     "slide_type": "skip"
    }
   },
   "outputs": [],
   "source": [
    "# update stats\n",
    "\n",
    "stats_df = stats_df.append(pd.Series(['Tf-idf & 2gram','Random Forest',\n",
    "              '0.89075', '0.70759', '0.65', '0.77', '0.83', '0.56', '0.73', \n",
    "                '0.65'], index=stats_df.columns), ignore_index=True)"
   ]
  },
  {
   "cell_type": "code",
   "execution_count": 264,
   "metadata": {
    "slideshow": {
     "slide_type": "skip"
    }
   },
   "outputs": [
    {
     "data": {
      "text/html": [
       "<div>\n",
       "<style scoped>\n",
       "    .dataframe tbody tr th:only-of-type {\n",
       "        vertical-align: middle;\n",
       "    }\n",
       "\n",
       "    .dataframe tbody tr th {\n",
       "        vertical-align: top;\n",
       "    }\n",
       "\n",
       "    .dataframe thead th {\n",
       "        text-align: right;\n",
       "    }\n",
       "</style>\n",
       "<table border=\"1\" class=\"dataframe\">\n",
       "  <thead>\n",
       "    <tr style=\"text-align: right;\">\n",
       "      <th></th>\n",
       "      <th>F. E. Method</th>\n",
       "      <th>Model Name</th>\n",
       "      <th>Training Set Score</th>\n",
       "      <th>Test Set Score</th>\n",
       "      <th>Precision - Fake Headlines</th>\n",
       "      <th>Precision - Valid Headlines</th>\n",
       "      <th>Recall - Fake Headlines</th>\n",
       "      <th>Recall - Valid Headlines</th>\n",
       "      <th>F1-Score - Fake Headlines</th>\n",
       "      <th>F1-Score - Valid Headlines</th>\n",
       "    </tr>\n",
       "  </thead>\n",
       "  <tbody>\n",
       "    <tr>\n",
       "      <th>12</th>\n",
       "      <td>Tf-idf</td>\n",
       "      <td>Logistic Regression</td>\n",
       "      <td>0.90659</td>\n",
       "      <td>0.77595</td>\n",
       "      <td>0.75</td>\n",
       "      <td>0.81</td>\n",
       "      <td>0.83</td>\n",
       "      <td>0.72</td>\n",
       "      <td>0.79</td>\n",
       "      <td>0.76</td>\n",
       "    </tr>\n",
       "    <tr>\n",
       "      <th>13</th>\n",
       "      <td>Tf-idf</td>\n",
       "      <td>Random Forest</td>\n",
       "      <td>1.0</td>\n",
       "      <td>0.73924</td>\n",
       "      <td>0.73</td>\n",
       "      <td>0.75</td>\n",
       "      <td>0.75</td>\n",
       "      <td>0.73</td>\n",
       "      <td>0.74</td>\n",
       "      <td>0.74</td>\n",
       "    </tr>\n",
       "    <tr>\n",
       "      <th>14</th>\n",
       "      <td>Tf-idf</td>\n",
       "      <td>Gradient Boosting</td>\n",
       "      <td>0.76916</td>\n",
       "      <td>0.70506</td>\n",
       "      <td>0.69</td>\n",
       "      <td>0.72</td>\n",
       "      <td>0.74</td>\n",
       "      <td>0.67</td>\n",
       "      <td>0.71</td>\n",
       "      <td>0.70</td>\n",
       "    </tr>\n",
       "    <tr>\n",
       "      <th>15</th>\n",
       "      <td>Tf-idf &amp; 2gram</td>\n",
       "      <td>Logistic Regression</td>\n",
       "      <td>0.89076</td>\n",
       "      <td>0.70759</td>\n",
       "      <td>0.68</td>\n",
       "      <td>0.75</td>\n",
       "      <td>0.79</td>\n",
       "      <td>0.63</td>\n",
       "      <td>0.73</td>\n",
       "      <td>0.68</td>\n",
       "    </tr>\n",
       "    <tr>\n",
       "      <th>16</th>\n",
       "      <td>Tf-idf &amp; 2gram</td>\n",
       "      <td>Random Forest</td>\n",
       "      <td>0.89075</td>\n",
       "      <td>0.70759</td>\n",
       "      <td>0.65</td>\n",
       "      <td>0.77</td>\n",
       "      <td>0.83</td>\n",
       "      <td>0.56</td>\n",
       "      <td>0.73</td>\n",
       "      <td>0.65</td>\n",
       "    </tr>\n",
       "  </tbody>\n",
       "</table>\n",
       "</div>"
      ],
      "text/plain": [
       "      F. E. Method           Model Name Training Set Score Test Set Score  \\\n",
       "12          Tf-idf  Logistic Regression            0.90659        0.77595   \n",
       "13          Tf-idf        Random Forest                1.0        0.73924   \n",
       "14          Tf-idf    Gradient Boosting            0.76916        0.70506   \n",
       "15  Tf-idf & 2gram  Logistic Regression            0.89076        0.70759   \n",
       "16  Tf-idf & 2gram        Random Forest            0.89075        0.70759   \n",
       "\n",
       "   Precision - Fake Headlines Precision - Valid Headlines  \\\n",
       "12                       0.75                        0.81   \n",
       "13                       0.73                        0.75   \n",
       "14                       0.69                        0.72   \n",
       "15                       0.68                        0.75   \n",
       "16                       0.65                        0.77   \n",
       "\n",
       "   Recall - Fake Headlines Recall - Valid Headlines F1-Score - Fake Headlines  \\\n",
       "12                    0.83                     0.72                      0.79   \n",
       "13                    0.75                     0.73                      0.74   \n",
       "14                    0.74                     0.67                      0.71   \n",
       "15                    0.79                     0.63                      0.73   \n",
       "16                    0.83                     0.56                      0.73   \n",
       "\n",
       "   F1-Score - Valid Headlines  \n",
       "12                       0.76  \n",
       "13                       0.74  \n",
       "14                       0.70  \n",
       "15                       0.68  \n",
       "16                       0.65  "
      ]
     },
     "execution_count": 264,
     "metadata": {},
     "output_type": "execute_result"
    }
   ],
   "source": [
    "stats_df.tail()"
   ]
  },
  {
   "cell_type": "markdown",
   "metadata": {
    "slideshow": {
     "slide_type": "subslide"
    }
   },
   "source": [
    "### Gradient-Boosting Model & Scores - Tf-idf & 2gram"
   ]
  },
  {
   "cell_type": "code",
   "execution_count": 222,
   "metadata": {
    "slideshow": {
     "slide_type": "subslide"
    }
   },
   "outputs": [],
   "source": [
    "# gradient-boosting model & scores\n",
    "\n",
    "gbc = GradientBoostingClassifier()\n",
    "gbc.fit(X_train, y_train)\n",
    "gbc_predictions = gbc.predict(X_test)\n",
    "gbc_confusion = confusion_matrix(y_test, gbc_predictions, labels=[1, 0])"
   ]
  },
  {
   "cell_type": "code",
   "execution_count": 223,
   "metadata": {
    "slideshow": {
     "slide_type": "subslide"
    }
   },
   "outputs": [
    {
     "data": {
      "image/png": "[encoded data removed]",
      "text/plain": [
       "<Figure size 576x432 with 2 Axes>"
      ]
     },
     "metadata": {
      "needs_background": "light"
     },
     "output_type": "display_data"
    }
   ],
   "source": [
    "plot_confusion_matrix(cm=gbc_confusion, target_names = ['Valid Headlines', 'Fake Headlines'], title = 'Confusion Matrix',normalize=False)"
   ]
  },
  {
   "cell_type": "code",
   "execution_count": 224,
   "metadata": {
    "slideshow": {
     "slide_type": "subslide"
    }
   },
   "outputs": [
    {
     "name": "stdout",
     "output_type": "stream",
     "text": [
      "----------------------Gradient-Boosting Report - Tf-idf & 2gram----------------------\n",
      "\n",
      "                 precision    recall  f1-score   support\n",
      "\n",
      " Fake Headlines       0.56      0.92      0.70       393\n",
      "Valid Headlines       0.78      0.27      0.41       397\n",
      "\n",
      "       accuracy                           0.60       790\n",
      "      macro avg       0.67      0.60      0.55       790\n",
      "   weighted avg       0.67      0.60      0.55       790\n",
      "\n",
      "Training set score: 0.6713109563014567\n",
      "Test set score: 0.5974683544303797\n"
     ]
    }
   ],
   "source": [
    "# print report - fake & valid headlines - gradient-boosting\n",
    "\n",
    "print('----------------------Gradient-Boosting Report - Tf-idf & 2gram----------------------\\n')\n",
    "print(classification_report(y_test, gbc_predictions, target_names=['Fake Headlines', 'Valid Headlines']))\n",
    "print('Training set score:', gbc.score(X_train, y_train))\n",
    "print('Test set score:', gbc.score(X_test, y_test))"
   ]
  },
  {
   "cell_type": "code",
   "execution_count": 265,
   "metadata": {
    "slideshow": {
     "slide_type": "skip"
    }
   },
   "outputs": [],
   "source": [
    "# update stats\n",
    "\n",
    "stats_df = stats_df.append(pd.Series(['Tf-idf & 2gram','Gradient Boosting',\n",
    "              '0.67131', '0.59747', '0.56', '0.78', '0.92', '0.27', '0.70', \n",
    "                '0.41'], index=stats_df.columns), ignore_index=True)"
   ]
  },
  {
   "cell_type": "code",
   "execution_count": 266,
   "metadata": {
    "slideshow": {
     "slide_type": "skip"
    }
   },
   "outputs": [
    {
     "data": {
      "text/html": [
       "<div>\n",
       "<style scoped>\n",
       "    .dataframe tbody tr th:only-of-type {\n",
       "        vertical-align: middle;\n",
       "    }\n",
       "\n",
       "    .dataframe tbody tr th {\n",
       "        vertical-align: top;\n",
       "    }\n",
       "\n",
       "    .dataframe thead th {\n",
       "        text-align: right;\n",
       "    }\n",
       "</style>\n",
       "<table border=\"1\" class=\"dataframe\">\n",
       "  <thead>\n",
       "    <tr style=\"text-align: right;\">\n",
       "      <th></th>\n",
       "      <th>F. E. Method</th>\n",
       "      <th>Model Name</th>\n",
       "      <th>Training Set Score</th>\n",
       "      <th>Test Set Score</th>\n",
       "      <th>Precision - Fake Headlines</th>\n",
       "      <th>Precision - Valid Headlines</th>\n",
       "      <th>Recall - Fake Headlines</th>\n",
       "      <th>Recall - Valid Headlines</th>\n",
       "      <th>F1-Score - Fake Headlines</th>\n",
       "      <th>F1-Score - Valid Headlines</th>\n",
       "    </tr>\n",
       "  </thead>\n",
       "  <tbody>\n",
       "    <tr>\n",
       "      <th>13</th>\n",
       "      <td>Tf-idf</td>\n",
       "      <td>Random Forest</td>\n",
       "      <td>1.0</td>\n",
       "      <td>0.73924</td>\n",
       "      <td>0.73</td>\n",
       "      <td>0.75</td>\n",
       "      <td>0.75</td>\n",
       "      <td>0.73</td>\n",
       "      <td>0.74</td>\n",
       "      <td>0.74</td>\n",
       "    </tr>\n",
       "    <tr>\n",
       "      <th>14</th>\n",
       "      <td>Tf-idf</td>\n",
       "      <td>Gradient Boosting</td>\n",
       "      <td>0.76916</td>\n",
       "      <td>0.70506</td>\n",
       "      <td>0.69</td>\n",
       "      <td>0.72</td>\n",
       "      <td>0.74</td>\n",
       "      <td>0.67</td>\n",
       "      <td>0.71</td>\n",
       "      <td>0.70</td>\n",
       "    </tr>\n",
       "    <tr>\n",
       "      <th>15</th>\n",
       "      <td>Tf-idf &amp; 2gram</td>\n",
       "      <td>Logistic Regression</td>\n",
       "      <td>0.89076</td>\n",
       "      <td>0.70759</td>\n",
       "      <td>0.68</td>\n",
       "      <td>0.75</td>\n",
       "      <td>0.79</td>\n",
       "      <td>0.63</td>\n",
       "      <td>0.73</td>\n",
       "      <td>0.68</td>\n",
       "    </tr>\n",
       "    <tr>\n",
       "      <th>16</th>\n",
       "      <td>Tf-idf &amp; 2gram</td>\n",
       "      <td>Random Forest</td>\n",
       "      <td>0.89075</td>\n",
       "      <td>0.70759</td>\n",
       "      <td>0.65</td>\n",
       "      <td>0.77</td>\n",
       "      <td>0.83</td>\n",
       "      <td>0.56</td>\n",
       "      <td>0.73</td>\n",
       "      <td>0.65</td>\n",
       "    </tr>\n",
       "    <tr>\n",
       "      <th>17</th>\n",
       "      <td>Tf-idf &amp; 2gram</td>\n",
       "      <td>Gradient Boosting</td>\n",
       "      <td>0.67131</td>\n",
       "      <td>0.59747</td>\n",
       "      <td>0.56</td>\n",
       "      <td>0.78</td>\n",
       "      <td>0.92</td>\n",
       "      <td>0.27</td>\n",
       "      <td>0.70</td>\n",
       "      <td>0.41</td>\n",
       "    </tr>\n",
       "  </tbody>\n",
       "</table>\n",
       "</div>"
      ],
      "text/plain": [
       "      F. E. Method           Model Name Training Set Score Test Set Score  \\\n",
       "13          Tf-idf        Random Forest                1.0        0.73924   \n",
       "14          Tf-idf    Gradient Boosting            0.76916        0.70506   \n",
       "15  Tf-idf & 2gram  Logistic Regression            0.89076        0.70759   \n",
       "16  Tf-idf & 2gram        Random Forest            0.89075        0.70759   \n",
       "17  Tf-idf & 2gram    Gradient Boosting            0.67131        0.59747   \n",
       "\n",
       "   Precision - Fake Headlines Precision - Valid Headlines  \\\n",
       "13                       0.73                        0.75   \n",
       "14                       0.69                        0.72   \n",
       "15                       0.68                        0.75   \n",
       "16                       0.65                        0.77   \n",
       "17                       0.56                        0.78   \n",
       "\n",
       "   Recall - Fake Headlines Recall - Valid Headlines F1-Score - Fake Headlines  \\\n",
       "13                    0.75                     0.73                      0.74   \n",
       "14                    0.74                     0.67                      0.71   \n",
       "15                    0.79                     0.63                      0.73   \n",
       "16                    0.83                     0.56                      0.73   \n",
       "17                    0.92                     0.27                      0.70   \n",
       "\n",
       "   F1-Score - Valid Headlines  \n",
       "13                       0.74  \n",
       "14                       0.70  \n",
       "15                       0.68  \n",
       "16                       0.65  \n",
       "17                       0.41  "
      ]
     },
     "execution_count": 266,
     "metadata": {},
     "output_type": "execute_result"
    }
   ],
   "source": [
    "stats_df.tail()"
   ]
  },
  {
   "cell_type": "code",
   "execution_count": 270,
   "metadata": {
    "slideshow": {
     "slide_type": "slide"
    }
   },
   "outputs": [
    {
     "data": {
      "text/html": [
       "<div>\n",
       "<style scoped>\n",
       "    .dataframe tbody tr th:only-of-type {\n",
       "        vertical-align: middle;\n",
       "    }\n",
       "\n",
       "    .dataframe tbody tr th {\n",
       "        vertical-align: top;\n",
       "    }\n",
       "\n",
       "    .dataframe thead th {\n",
       "        text-align: right;\n",
       "    }\n",
       "</style>\n",
       "<table border=\"1\" class=\"dataframe\">\n",
       "  <thead>\n",
       "    <tr style=\"text-align: right;\">\n",
       "      <th></th>\n",
       "      <th>F. E. Method</th>\n",
       "      <th>Model Name</th>\n",
       "      <th>Training Set Score</th>\n",
       "      <th>Test Set Score</th>\n",
       "      <th>Precision - Fake Headlines</th>\n",
       "      <th>Precision - Valid Headlines</th>\n",
       "      <th>Recall - Fake Headlines</th>\n",
       "      <th>Recall - Valid Headlines</th>\n",
       "      <th>F1-Score - Fake Headlines</th>\n",
       "      <th>F1-Score - Valid Headlines</th>\n",
       "    </tr>\n",
       "  </thead>\n",
       "  <tbody>\n",
       "    <tr>\n",
       "      <th>0</th>\n",
       "      <td>Bag of Words</td>\n",
       "      <td>Logistic Regression</td>\n",
       "      <td>0.98100</td>\n",
       "      <td>0.76582</td>\n",
       "      <td>0.75</td>\n",
       "      <td>0.79</td>\n",
       "      <td>0.80</td>\n",
       "      <td>0.73</td>\n",
       "      <td>0.77</td>\n",
       "      <td>0.76</td>\n",
       "    </tr>\n",
       "    <tr>\n",
       "      <th>1</th>\n",
       "      <td>Bag of Words</td>\n",
       "      <td>Random Forest</td>\n",
       "      <td>1.0</td>\n",
       "      <td>0.73164</td>\n",
       "      <td>0.71</td>\n",
       "      <td>0.77</td>\n",
       "      <td>0.79</td>\n",
       "      <td>0.67</td>\n",
       "      <td>0.75</td>\n",
       "      <td>0.72</td>\n",
       "    </tr>\n",
       "    <tr>\n",
       "      <th>2</th>\n",
       "      <td>Bag of Words</td>\n",
       "      <td>Gradient Boosting</td>\n",
       "      <td>0.75269</td>\n",
       "      <td>0.70379</td>\n",
       "      <td>0.68</td>\n",
       "      <td>0.73</td>\n",
       "      <td>0.76</td>\n",
       "      <td>0.65</td>\n",
       "      <td>0.72</td>\n",
       "      <td>0.69</td>\n",
       "    </tr>\n",
       "    <tr>\n",
       "      <th>3</th>\n",
       "      <td>2gram</td>\n",
       "      <td>Logistic Regression</td>\n",
       "      <td>0.99968</td>\n",
       "      <td>0.69747</td>\n",
       "      <td>0.66</td>\n",
       "      <td>0.76</td>\n",
       "      <td>0.82</td>\n",
       "      <td>0.58</td>\n",
       "      <td>0.73</td>\n",
       "      <td>0.66</td>\n",
       "    </tr>\n",
       "    <tr>\n",
       "      <th>4</th>\n",
       "      <td>2gram</td>\n",
       "      <td>Random Forest</td>\n",
       "      <td>0.99937</td>\n",
       "      <td>0.61392</td>\n",
       "      <td>0.57</td>\n",
       "      <td>0.87</td>\n",
       "      <td>0.96</td>\n",
       "      <td>0.27</td>\n",
       "      <td>0.71</td>\n",
       "      <td>0.41</td>\n",
       "    </tr>\n",
       "    <tr>\n",
       "      <th>5</th>\n",
       "      <td>2gram</td>\n",
       "      <td>Gradient Boosting</td>\n",
       "      <td>0.65484</td>\n",
       "      <td>0.59747</td>\n",
       "      <td>0.56</td>\n",
       "      <td>0.83</td>\n",
       "      <td>0.95</td>\n",
       "      <td>0.25</td>\n",
       "      <td>0.70</td>\n",
       "      <td>0.39</td>\n",
       "    </tr>\n",
       "    <tr>\n",
       "      <th>6</th>\n",
       "      <td>1gram/2gram</td>\n",
       "      <td>Logistic Regression</td>\n",
       "      <td>1.0</td>\n",
       "      <td>0.781013</td>\n",
       "      <td>0.76</td>\n",
       "      <td>0.81</td>\n",
       "      <td>0.82</td>\n",
       "      <td>0.74</td>\n",
       "      <td>0.79</td>\n",
       "      <td>0.77</td>\n",
       "    </tr>\n",
       "    <tr>\n",
       "      <th>7</th>\n",
       "      <td>1gram/2gram</td>\n",
       "      <td>Random Forest</td>\n",
       "      <td>1.0</td>\n",
       "      <td>0.72911</td>\n",
       "      <td>0.69</td>\n",
       "      <td>0.79</td>\n",
       "      <td>0.83</td>\n",
       "      <td>0.63</td>\n",
       "      <td>0.75</td>\n",
       "      <td>0.70</td>\n",
       "    </tr>\n",
       "    <tr>\n",
       "      <th>8</th>\n",
       "      <td>1gram/2gram</td>\n",
       "      <td>Gradient Boosting</td>\n",
       "      <td>0.75174</td>\n",
       "      <td>0.70379</td>\n",
       "      <td>0.68</td>\n",
       "      <td>0.73</td>\n",
       "      <td>0.76</td>\n",
       "      <td>0.65</td>\n",
       "      <td>0.72</td>\n",
       "      <td>0.69</td>\n",
       "    </tr>\n",
       "    <tr>\n",
       "      <th>9</th>\n",
       "      <td>3gram</td>\n",
       "      <td>Logistic Regression</td>\n",
       "      <td>0.99937</td>\n",
       "      <td>0.59113</td>\n",
       "      <td>0.55</td>\n",
       "      <td>0.81</td>\n",
       "      <td>0.94</td>\n",
       "      <td>0.24</td>\n",
       "      <td>0.70</td>\n",
       "      <td>0.37</td>\n",
       "    </tr>\n",
       "    <tr>\n",
       "      <th>10</th>\n",
       "      <td>3gram</td>\n",
       "      <td>Random Forest</td>\n",
       "      <td>0.99937</td>\n",
       "      <td>0.53924</td>\n",
       "      <td>0.52</td>\n",
       "      <td>0.90</td>\n",
       "      <td>0.99</td>\n",
       "      <td>0.09</td>\n",
       "      <td>0.68</td>\n",
       "      <td>0.17</td>\n",
       "    </tr>\n",
       "    <tr>\n",
       "      <th>11</th>\n",
       "      <td>3gram</td>\n",
       "      <td>Gradient Boosting</td>\n",
       "      <td>0.62729</td>\n",
       "      <td>0.54303</td>\n",
       "      <td>0.52</td>\n",
       "      <td>0.89</td>\n",
       "      <td>0.99</td>\n",
       "      <td>0.10</td>\n",
       "      <td>0.68</td>\n",
       "      <td>0.19</td>\n",
       "    </tr>\n",
       "    <tr>\n",
       "      <th>12</th>\n",
       "      <td>Tf-idf</td>\n",
       "      <td>Logistic Regression</td>\n",
       "      <td>0.90659</td>\n",
       "      <td>0.77595</td>\n",
       "      <td>0.75</td>\n",
       "      <td>0.81</td>\n",
       "      <td>0.83</td>\n",
       "      <td>0.72</td>\n",
       "      <td>0.79</td>\n",
       "      <td>0.76</td>\n",
       "    </tr>\n",
       "    <tr>\n",
       "      <th>13</th>\n",
       "      <td>Tf-idf</td>\n",
       "      <td>Random Forest</td>\n",
       "      <td>1.0</td>\n",
       "      <td>0.73924</td>\n",
       "      <td>0.73</td>\n",
       "      <td>0.75</td>\n",
       "      <td>0.75</td>\n",
       "      <td>0.73</td>\n",
       "      <td>0.74</td>\n",
       "      <td>0.74</td>\n",
       "    </tr>\n",
       "    <tr>\n",
       "      <th>14</th>\n",
       "      <td>Tf-idf</td>\n",
       "      <td>Gradient Boosting</td>\n",
       "      <td>0.76916</td>\n",
       "      <td>0.70506</td>\n",
       "      <td>0.69</td>\n",
       "      <td>0.72</td>\n",
       "      <td>0.74</td>\n",
       "      <td>0.67</td>\n",
       "      <td>0.71</td>\n",
       "      <td>0.70</td>\n",
       "    </tr>\n",
       "    <tr>\n",
       "      <th>15</th>\n",
       "      <td>Tf-idf &amp; 2gram</td>\n",
       "      <td>Logistic Regression</td>\n",
       "      <td>0.89076</td>\n",
       "      <td>0.70759</td>\n",
       "      <td>0.68</td>\n",
       "      <td>0.75</td>\n",
       "      <td>0.79</td>\n",
       "      <td>0.63</td>\n",
       "      <td>0.73</td>\n",
       "      <td>0.68</td>\n",
       "    </tr>\n",
       "    <tr>\n",
       "      <th>16</th>\n",
       "      <td>Tf-idf &amp; 2gram</td>\n",
       "      <td>Random Forest</td>\n",
       "      <td>0.89075</td>\n",
       "      <td>0.70759</td>\n",
       "      <td>0.65</td>\n",
       "      <td>0.77</td>\n",
       "      <td>0.83</td>\n",
       "      <td>0.56</td>\n",
       "      <td>0.73</td>\n",
       "      <td>0.65</td>\n",
       "    </tr>\n",
       "    <tr>\n",
       "      <th>17</th>\n",
       "      <td>Tf-idf &amp; 2gram</td>\n",
       "      <td>Gradient Boosting</td>\n",
       "      <td>0.67131</td>\n",
       "      <td>0.59747</td>\n",
       "      <td>0.56</td>\n",
       "      <td>0.78</td>\n",
       "      <td>0.92</td>\n",
       "      <td>0.27</td>\n",
       "      <td>0.70</td>\n",
       "      <td>0.41</td>\n",
       "    </tr>\n",
       "  </tbody>\n",
       "</table>\n",
       "</div>"
      ],
      "text/plain": [
       "      F. E. Method           Model Name Training Set Score Test Set Score  \\\n",
       "0     Bag of Words  Logistic Regression            0.98100        0.76582   \n",
       "1     Bag of Words        Random Forest                1.0        0.73164   \n",
       "2     Bag of Words    Gradient Boosting            0.75269        0.70379   \n",
       "3            2gram  Logistic Regression            0.99968        0.69747   \n",
       "4            2gram        Random Forest            0.99937        0.61392   \n",
       "5            2gram    Gradient Boosting            0.65484        0.59747   \n",
       "6      1gram/2gram  Logistic Regression                1.0       0.781013   \n",
       "7      1gram/2gram        Random Forest                1.0        0.72911   \n",
       "8      1gram/2gram    Gradient Boosting            0.75174        0.70379   \n",
       "9            3gram  Logistic Regression            0.99937        0.59113   \n",
       "10           3gram        Random Forest            0.99937        0.53924   \n",
       "11           3gram    Gradient Boosting            0.62729        0.54303   \n",
       "12          Tf-idf  Logistic Regression            0.90659        0.77595   \n",
       "13          Tf-idf        Random Forest                1.0        0.73924   \n",
       "14          Tf-idf    Gradient Boosting            0.76916        0.70506   \n",
       "15  Tf-idf & 2gram  Logistic Regression            0.89076        0.70759   \n",
       "16  Tf-idf & 2gram        Random Forest            0.89075        0.70759   \n",
       "17  Tf-idf & 2gram    Gradient Boosting            0.67131        0.59747   \n",
       "\n",
       "   Precision - Fake Headlines Precision - Valid Headlines  \\\n",
       "0                        0.75                        0.79   \n",
       "1                        0.71                        0.77   \n",
       "2                        0.68                        0.73   \n",
       "3                        0.66                        0.76   \n",
       "4                        0.57                        0.87   \n",
       "5                        0.56                        0.83   \n",
       "6                        0.76                        0.81   \n",
       "7                        0.69                        0.79   \n",
       "8                        0.68                        0.73   \n",
       "9                        0.55                        0.81   \n",
       "10                       0.52                        0.90   \n",
       "11                       0.52                        0.89   \n",
       "12                       0.75                        0.81   \n",
       "13                       0.73                        0.75   \n",
       "14                       0.69                        0.72   \n",
       "15                       0.68                        0.75   \n",
       "16                       0.65                        0.77   \n",
       "17                       0.56                        0.78   \n",
       "\n",
       "   Recall - Fake Headlines Recall - Valid Headlines F1-Score - Fake Headlines  \\\n",
       "0                     0.80                     0.73                      0.77   \n",
       "1                     0.79                     0.67                      0.75   \n",
       "2                     0.76                     0.65                      0.72   \n",
       "3                     0.82                     0.58                      0.73   \n",
       "4                     0.96                     0.27                      0.71   \n",
       "5                     0.95                     0.25                      0.70   \n",
       "6                     0.82                     0.74                      0.79   \n",
       "7                     0.83                     0.63                      0.75   \n",
       "8                     0.76                     0.65                      0.72   \n",
       "9                     0.94                     0.24                      0.70   \n",
       "10                    0.99                     0.09                      0.68   \n",
       "11                    0.99                     0.10                      0.68   \n",
       "12                    0.83                     0.72                      0.79   \n",
       "13                    0.75                     0.73                      0.74   \n",
       "14                    0.74                     0.67                      0.71   \n",
       "15                    0.79                     0.63                      0.73   \n",
       "16                    0.83                     0.56                      0.73   \n",
       "17                    0.92                     0.27                      0.70   \n",
       "\n",
       "   F1-Score - Valid Headlines  \n",
       "0                        0.76  \n",
       "1                        0.72  \n",
       "2                        0.69  \n",
       "3                        0.66  \n",
       "4                        0.41  \n",
       "5                        0.39  \n",
       "6                        0.77  \n",
       "7                        0.70  \n",
       "8                        0.69  \n",
       "9                        0.37  \n",
       "10                       0.17  \n",
       "11                       0.19  \n",
       "12                       0.76  \n",
       "13                       0.74  \n",
       "14                       0.70  \n",
       "15                       0.68  \n",
       "16                       0.65  \n",
       "17                       0.41  "
      ]
     },
     "execution_count": 270,
     "metadata": {},
     "output_type": "execute_result"
    }
   ],
   "source": [
    "stats_df.head(18)"
   ]
  },
  {
   "cell_type": "markdown",
   "metadata": {
    "slideshow": {
     "slide_type": "slide"
    }
   },
   "source": [
    "## **Results:** \n",
    "\n",
    "While there is less variation between test and training scores of the gradient boosting models, additional data should be used for training purposes to minimize overfitting. Training test scores from random forest and logistic regression models indicate overfitting.\n",
    "\n",
    "Precision scores for valid headlines are higher than the precision scores of fake headlines. Recall scores are higher across the board for fake headlines. F1-scores are generally higher for fake headlines as well. \n",
    "\n",
    "From these scores, we can determine that our models are identifying valid headlines more correctly than fake headlines while identifying a larger fraction of fake headlines (higher recall). \n",
    "\n",
    "After examining the scores from various models and approaches to featuring engineering, our logistic regression models appear to be the top performers for Bag of Words and 1gram/2gram language models. Logistic regression and gradient boosting models performed best for Tf-idf.\n",
    "\n",
    "**Final model selection for subsequent training and predictions:** Tf-idf with logistic regression model."
   ]
  },
  {
   "cell_type": "markdown",
   "metadata": {
    "slideshow": {
     "slide_type": "slide"
    }
   },
   "source": [
    "# Additional Projects\n",
    "\n",
    "## Text Generation & Chatbot"
   ]
  },
  {
   "cell_type": "markdown",
   "metadata": {
    "slideshow": {
     "slide_type": "slide"
    }
   },
   "source": [
    "# Text Generation - Markov Chain"
   ]
  },
  {
   "cell_type": "markdown",
   "metadata": {
    "slideshow": {
     "slide_type": "subslide"
    }
   },
   "source": [
    "## Generate Fake Headlines"
   ]
  },
  {
   "cell_type": "markdown",
   "metadata": {
    "slideshow": {
     "slide_type": "subslide"
    }
   },
   "source": [
    "**Note:** .txt files used for headline generation feature the same scraped headlines as our initial dataset, split into fake and valid sources."
   ]
  },
  {
   "cell_type": "code",
   "execution_count": 271,
   "metadata": {
    "slideshow": {
     "slide_type": "subslide"
    }
   },
   "outputs": [],
   "source": [
    "with open(r'/Users/thisiskatcooper/Desktop/fake_headlines.txt') as f:\n",
    "    fake_headlines = f.read()"
   ]
  },
  {
   "cell_type": "code",
   "execution_count": 273,
   "metadata": {
    "slideshow": {
     "slide_type": "subslide"
    }
   },
   "outputs": [
    {
     "name": "stdout",
     "output_type": "stream",
     "text": [
      "Country Time CEO Unsure If Company Supposed To Be Settled By An Election\n",
      "Silicon Valley Billionaires Unveil Diversity Initiative To Replace Police Officers Suspended After Staining Clean Sidewalk With Blood\n",
      "General Mattis Condemns Trump As Threat To White Person By Crossing To Other Dimension\n",
      "Mike Tyson Offered $20 Million To Support Strategy Of Giving LeBron James Coronavirus\n",
      "Secret Recording Shows That Melania Trump Renegotiated Prenup Before Moving Into White House\n",
      "\n",
      "------------------------------------\n",
      "\n",
      "Trump: “Now I Want to Buy Fox News Limits Pandemic Coverage To Avoid Alienating Swing Voters\n",
      "Trump Visits Kenosha, Wisconsin Despite Pleas To Stay Connected To Country Does\n",
      "The Week In Pictures – Week Of Show Ideas After Hispanic Cashier Gives Him Wrong Change\n",
      "WHO Walks Back Halloween Cancellation\n",
      "Will Smith Reveals Extramarital Relationship With Food Right Now\n"
     ]
    }
   ],
   "source": [
    "fake_headline_model = markovify.NewlineText(fake_headlines)\n",
    "\n",
    "# print five randomly generated sentences\n",
    "\n",
    "for i in range(5):\n",
    "    print(fake_headline_model.make_sentence())\n",
    "    \n",
    "print('\\n------------------------------------\\n')\n",
    "\n",
    "# print three randomly generated sentences of no more than 100 characters\n",
    "\n",
    "for i in range(5):\n",
    "    print(fake_headline_model.make_short_sentence(100))"
   ]
  },
  {
   "cell_type": "markdown",
   "metadata": {
    "slideshow": {
     "slide_type": "subslide"
    }
   },
   "source": [
    "Pretty good, overall!"
   ]
  },
  {
   "cell_type": "markdown",
   "metadata": {
    "slideshow": {
     "slide_type": "subslide"
    }
   },
   "source": [
    "## Generate Valid Headlines"
   ]
  },
  {
   "cell_type": "code",
   "execution_count": 274,
   "metadata": {
    "slideshow": {
     "slide_type": "subslide"
    }
   },
   "outputs": [],
   "source": [
    "with open(r'/Users/thisiskatcooper/Desktop/valid_headlines.txt') as f:\n",
    "    valid_headlines = f.read()"
   ]
  },
  {
   "cell_type": "code",
   "execution_count": 276,
   "metadata": {
    "slideshow": {
     "slide_type": "subslide"
    }
   },
   "outputs": [
    {
     "name": "stdout",
     "output_type": "stream",
     "text": [
      "Inside Room 239: How Alexei Navalny’s aides got crucial poisoning evidence out of the Most Daring Women Spies of World War II\n",
      "America is in control\n",
      "Founder of the debate\n",
      "Coronavirus FAQs: Why Can't The CDC Has Banned Them ― For Now\n",
      "‘SNL’ review: With Trump in the decisive Game 3 vs. the A’s\n",
      "\n",
      "------------------------------------\n",
      "\n",
      "What I Saw at the edge of the free-spirited fashion house Kenzo dies at 84\n",
      "This is everywhere you should be just as careful about covid-19 in Latino communities\n",
      "Canceling the remaining debates would be bad for everyone but bigots\n",
      "U.S. faces shortage of up to hunt for air leak to Russian side of space station after midnight alarm\n",
      "Will You Leave the Country if Trump Is a Bizarre Cinematic Experiment\n"
     ]
    }
   ],
   "source": [
    "valid_headline_model = markovify.NewlineText(valid_headlines)\n",
    "\n",
    "# print five randomly generated sentences\n",
    "\n",
    "for i in range(5):\n",
    "    print(valid_headline_model.make_sentence())\n",
    "    \n",
    "print('\\n------------------------------------\\n')\n",
    "\n",
    "# print three randomly generated sentences of no more than 100 characters\n",
    "\n",
    "for i in range(5):\n",
    "    print(valid_headline_model.make_short_sentence(100))"
   ]
  },
  {
   "cell_type": "markdown",
   "metadata": {
    "slideshow": {
     "slide_type": "subslide"
    }
   },
   "source": [
    "**Note:** Interestingly, though logically, the \"valid\" headlines generated seem less convincing than the fake headlines. Perhaps this could be refined further by addressing grammar issues (parts of speech)."
   ]
  },
  {
   "cell_type": "markdown",
   "metadata": {
    "slideshow": {
     "slide_type": "slide"
    }
   },
   "source": [
    "# Chatbot"
   ]
  },
  {
   "cell_type": "markdown",
   "metadata": {
    "slideshow": {
     "slide_type": "subslide"
    }
   },
   "source": [
    "**Note:** Headlines included are a .txt file of the same headlines featured throughout this project."
   ]
  },
  {
   "cell_type": "code",
   "execution_count": 277,
   "metadata": {
    "slideshow": {
     "slide_type": "skip"
    }
   },
   "outputs": [],
   "source": [
    "import random\n",
    "import string"
   ]
  },
  {
   "cell_type": "code",
   "execution_count": 278,
   "metadata": {
    "slideshow": {
     "slide_type": "subslide"
    }
   },
   "outputs": [],
   "source": [
    "f=open('/Users/thisiskatcooper/Desktop/extracts.txt','r', errors = 'ignore')\n",
    "raw=f.read()\n",
    "sent_tokens = nltk.sent_tokenize(raw)\n",
    "word_tokens = nltk.word_tokenize(raw)"
   ]
  },
  {
   "cell_type": "code",
   "execution_count": 279,
   "metadata": {
    "slideshow": {
     "slide_type": "subslide"
    }
   },
   "outputs": [],
   "source": [
    "# pre-processing - normalize tokesn\n",
    "\n",
    "lemmer = nltk.stem.WordNetLemmatizer()\n",
    "def LemTokens(tokens):\n",
    "    return [lemmer.lemmatize(token) for token in tokens]\n",
    "remove_punct_dict = dict((ord(punct), None) for punct in string.punctuation)\n",
    "def LemNormalize(text):\n",
    "    return LemTokens(nltk.word_tokenize(text.lower().translate(remove_punct_dict)))"
   ]
  },
  {
   "cell_type": "code",
   "execution_count": 280,
   "metadata": {
    "slideshow": {
     "slide_type": "subslide"
    }
   },
   "outputs": [],
   "source": [
    "GREETING_INPUTS = (\"hello\", \"hi\", \"greetings\", \"sup\", \"what's up\",\"hey\", \"Hello\", \"Hi\")\n",
    "GREETING_RESPONSES = [\"hi\", \"hey\", \"*nods*\", \"hi there\", \"hello\", \"what's up?\"]\n",
    "\n",
    "def greeting(sentence):\n",
    " \n",
    "    for word in sentence.split():\n",
    "        if word.lower() in GREETING_INPUTS:\n",
    "            return random.choice(GREETING_RESPONSES)"
   ]
  },
  {
   "cell_type": "code",
   "execution_count": 281,
   "metadata": {
    "slideshow": {
     "slide_type": "subslide"
    }
   },
   "outputs": [],
   "source": [
    "stop_words = nltk.corpus.stopwords.words('english')\n",
    "stop_words.append('you')"
   ]
  },
  {
   "cell_type": "code",
   "execution_count": 282,
   "metadata": {
    "slideshow": {
     "slide_type": "subslide"
    }
   },
   "outputs": [],
   "source": [
    "def response(user_response):\n",
    "    fakerbot_response=''\n",
    "    sent_tokens.append(user_response)\n",
    "    TfidfVec = TfidfVectorizer(tokenizer=LemNormalize, lowercase=False, stop_words='english')\n",
    "    stop_words.append('you')\n",
    "    tfidf = TfidfVec.fit_transform(sent_tokens)\n",
    "    vals = cosine_similarity(tfidf[-1], tfidf[:-1])\n",
    "    idx=vals.argsort()[0][-4]\n",
    "    flat = vals.flatten()\n",
    "    flat.sort()\n",
    "    req_tfidf = flat[-2]\n",
    "    if(req_tfidf==0):\n",
    "        faekerbot_response=fakerbot_response+\"I am sorry! I don't understand you.\"\n",
    "        return fakerbot_response\n",
    "    else:\n",
    "        fakerbot_response = fakerbot_response+sent_tokens[idx]\n",
    "        return fakerbot_response.lower().capitalize()"
   ]
  },
  {
   "cell_type": "code",
   "execution_count": 284,
   "metadata": {
    "slideshow": {
     "slide_type": "subslide"
    }
   },
   "outputs": [
    {
     "name": "stdout",
     "output_type": "stream",
     "text": [
      "Fakerbot: My name is Fakerbot. Let's talk. If you're over it, type 'Bye!''\n",
      "hello\n",
      "Fakerbot: what's up?\n",
      "Does Megan Markle like cats?\n",
      "Fakerbot: Cat too evil to pet, too soft not to.\n",
      "Where do you live?\n",
      "Fakerbot: Economist has great idea for sitcom where keynesian and friedmanite have to live together.\n",
      "bye\n",
      "Fakerbot: Alright. Bye. Got other things to do.\n"
     ]
    }
   ],
   "source": [
    "flag=True\n",
    "print(\"Fakerbot: My name is Fakerbot. Let's talk. If you're over it, type 'Bye!''\")\n",
    "while(flag==True):\n",
    "    user_response = input()\n",
    "    user_response=user_response.lower()\n",
    "    if(user_response!='bye'):\n",
    "        if(user_response=='thanks' or user_response=='thank you' ):\n",
    "            flag=False\n",
    "            print(\"Fakerbot: No worries.\")\n",
    "        else:\n",
    "            if(greeting(user_response)!=None):\n",
    "                print(\"Fakerbot: \"+greeting(user_response))\n",
    "            else:\n",
    "                print(\"Fakerbot: \", end=\"\")\n",
    "                print(response(user_response))\n",
    "                sent_tokens.remove(user_response)\n",
    "    else:\n",
    "        flag=False\n",
    "        print(\"Fakerbot: Alright. Bye. Got other things to do.\")"
   ]
  },
  {
   "cell_type": "markdown",
   "metadata": {
    "slideshow": {
     "slide_type": "subslide"
    }
   },
   "source": [
    "Not too shabby, although we could continue to improve Fakerbot.\n",
    "\n",
    "**Note:** question asked was posed on frequency of certain words (people, places, things, etc.) in the scraped satirical news headlines. Perhaps we could discuss a more extensive range of topics by increasing the size of the dataset or by making changes to the model."
   ]
  },
  {
   "cell_type": "markdown",
   "metadata": {
    "slideshow": {
     "slide_type": "slide"
    }
   },
   "source": [
    "# Further Steps:\n",
    "\n",
    "- Scraping additional data could and would lead to improved performance for headline prediction models. \n",
    "\n",
    "- Additionally, experimenting with stop words could also lead to increased scores and performance. \n",
    "\n",
    "- Text generation and chatbot programs could also be fine-tuned to create more convincing results."
   ]
  }
 ],
 "metadata": {
  "celltoolbar": "Slideshow",
  "kernelspec": {
   "display_name": "Python 3",
   "language": "python",
   "name": "python3"
  },
  "language_info": {
   "codemirror_mode": {
    "name": "ipython",
    "version": 3
   },
   "file_extension": ".py",
   "mimetype": "text/x-python",
   "name": "python",
   "nbconvert_exporter": "python",
   "pygments_lexer": "ipython3",
   "version": "3.8.3"
  }
 },
 "nbformat": 4,
 "nbformat_minor": 4
}
